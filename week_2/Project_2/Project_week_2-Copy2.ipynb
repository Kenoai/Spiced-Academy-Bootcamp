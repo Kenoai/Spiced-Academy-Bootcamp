{
 "cells": [
  {
   "cell_type": "code",
   "execution_count": 1,
   "id": "9ddf9f7c",
   "metadata": {},
   "outputs": [],
   "source": [
    "import pandas as pd\n",
    "import matplotlib.pyplot as plt\n",
    "import seaborn as sns\n",
    "import numpy as np\n",
    "\n",
    "from sklearn.linear_model import LogisticRegression\n",
    "from sklearn.model_selection import train_test_split\n",
    "\n",
    "from sklearn.preprocessing import StandardScaler, OneHotEncoder, KBinsDiscretizer, MinMaxScaler\n",
    "from sklearn.impute import SimpleImputer\n",
    "from sklearn.compose import ColumnTransformer\n",
    "from sklearn.pipeline import Pipeline\n",
    "from sklearn.metrics import f1_score, recall_score, precision_score, accuracy_score, roc_curve, roc_auc_score\n",
    "from sklearn.dummy import DummyClassifier\n",
    "from sklearn.ensemble import RandomForestClassifier\n"
   ]
  },
  {
   "cell_type": "code",
   "execution_count": 2,
   "id": "17f0948a",
   "metadata": {},
   "outputs": [
    {
     "data": {
      "text/html": [
       "<div>\n",
       "<style scoped>\n",
       "    .dataframe tbody tr th:only-of-type {\n",
       "        vertical-align: middle;\n",
       "    }\n",
       "\n",
       "    .dataframe tbody tr th {\n",
       "        vertical-align: top;\n",
       "    }\n",
       "\n",
       "    .dataframe thead th {\n",
       "        text-align: right;\n",
       "    }\n",
       "</style>\n",
       "<table border=\"1\" class=\"dataframe\">\n",
       "  <thead>\n",
       "    <tr style=\"text-align: right;\">\n",
       "      <th></th>\n",
       "      <th>Survived</th>\n",
       "      <th>Pclass</th>\n",
       "      <th>Name</th>\n",
       "      <th>Sex</th>\n",
       "      <th>Age</th>\n",
       "      <th>SibSp</th>\n",
       "      <th>Parch</th>\n",
       "      <th>Ticket</th>\n",
       "      <th>Fare</th>\n",
       "      <th>Cabin</th>\n",
       "      <th>Embarked</th>\n",
       "    </tr>\n",
       "    <tr>\n",
       "      <th>PassengerId</th>\n",
       "      <th></th>\n",
       "      <th></th>\n",
       "      <th></th>\n",
       "      <th></th>\n",
       "      <th></th>\n",
       "      <th></th>\n",
       "      <th></th>\n",
       "      <th></th>\n",
       "      <th></th>\n",
       "      <th></th>\n",
       "      <th></th>\n",
       "    </tr>\n",
       "  </thead>\n",
       "  <tbody>\n",
       "    <tr>\n",
       "      <th>1</th>\n",
       "      <td>0</td>\n",
       "      <td>3</td>\n",
       "      <td>Braund, Mr. Owen Harris</td>\n",
       "      <td>male</td>\n",
       "      <td>22.0</td>\n",
       "      <td>1</td>\n",
       "      <td>0</td>\n",
       "      <td>A/5 21171</td>\n",
       "      <td>7.2500</td>\n",
       "      <td>NaN</td>\n",
       "      <td>S</td>\n",
       "    </tr>\n",
       "    <tr>\n",
       "      <th>2</th>\n",
       "      <td>1</td>\n",
       "      <td>1</td>\n",
       "      <td>Cumings, Mrs. John Bradley (Florence Briggs Th...</td>\n",
       "      <td>female</td>\n",
       "      <td>38.0</td>\n",
       "      <td>1</td>\n",
       "      <td>0</td>\n",
       "      <td>PC 17599</td>\n",
       "      <td>71.2833</td>\n",
       "      <td>C85</td>\n",
       "      <td>C</td>\n",
       "    </tr>\n",
       "    <tr>\n",
       "      <th>3</th>\n",
       "      <td>1</td>\n",
       "      <td>3</td>\n",
       "      <td>Heikkinen, Miss. Laina</td>\n",
       "      <td>female</td>\n",
       "      <td>26.0</td>\n",
       "      <td>0</td>\n",
       "      <td>0</td>\n",
       "      <td>STON/O2. 3101282</td>\n",
       "      <td>7.9250</td>\n",
       "      <td>NaN</td>\n",
       "      <td>S</td>\n",
       "    </tr>\n",
       "    <tr>\n",
       "      <th>4</th>\n",
       "      <td>1</td>\n",
       "      <td>1</td>\n",
       "      <td>Futrelle, Mrs. Jacques Heath (Lily May Peel)</td>\n",
       "      <td>female</td>\n",
       "      <td>35.0</td>\n",
       "      <td>1</td>\n",
       "      <td>0</td>\n",
       "      <td>113803</td>\n",
       "      <td>53.1000</td>\n",
       "      <td>C123</td>\n",
       "      <td>S</td>\n",
       "    </tr>\n",
       "    <tr>\n",
       "      <th>5</th>\n",
       "      <td>0</td>\n",
       "      <td>3</td>\n",
       "      <td>Allen, Mr. William Henry</td>\n",
       "      <td>male</td>\n",
       "      <td>35.0</td>\n",
       "      <td>0</td>\n",
       "      <td>0</td>\n",
       "      <td>373450</td>\n",
       "      <td>8.0500</td>\n",
       "      <td>NaN</td>\n",
       "      <td>S</td>\n",
       "    </tr>\n",
       "  </tbody>\n",
       "</table>\n",
       "</div>"
      ],
      "text/plain": [
       "             Survived  Pclass  \\\n",
       "PassengerId                     \n",
       "1                   0       3   \n",
       "2                   1       1   \n",
       "3                   1       3   \n",
       "4                   1       1   \n",
       "5                   0       3   \n",
       "\n",
       "                                                          Name     Sex   Age  \\\n",
       "PassengerId                                                                    \n",
       "1                                      Braund, Mr. Owen Harris    male  22.0   \n",
       "2            Cumings, Mrs. John Bradley (Florence Briggs Th...  female  38.0   \n",
       "3                                       Heikkinen, Miss. Laina  female  26.0   \n",
       "4                 Futrelle, Mrs. Jacques Heath (Lily May Peel)  female  35.0   \n",
       "5                                     Allen, Mr. William Henry    male  35.0   \n",
       "\n",
       "             SibSp  Parch            Ticket     Fare Cabin Embarked  \n",
       "PassengerId                                                          \n",
       "1                1      0         A/5 21171   7.2500   NaN        S  \n",
       "2                1      0          PC 17599  71.2833   C85        C  \n",
       "3                0      0  STON/O2. 3101282   7.9250   NaN        S  \n",
       "4                1      0            113803  53.1000  C123        S  \n",
       "5                0      0            373450   8.0500   NaN        S  "
      ]
     },
     "execution_count": 2,
     "metadata": {},
     "output_type": "execute_result"
    }
   ],
   "source": [
    "df = pd.read_csv('train.csv', index_col='PassengerId')\n",
    "df.head()"
   ]
  },
  {
   "cell_type": "markdown",
   "id": "59bdf24f",
   "metadata": {},
   "source": [
    "#### Calculate the number of surviving/non-surviving passengers and display it as a bar plot."
   ]
  },
  {
   "cell_type": "code",
   "execution_count": 3,
   "id": "a2ecbed6",
   "metadata": {},
   "outputs": [
    {
     "data": {
      "text/plain": [
       "0    549\n",
       "1    342\n",
       "Name: Survived, dtype: int64"
      ]
     },
     "execution_count": 3,
     "metadata": {},
     "output_type": "execute_result"
    }
   ],
   "source": [
    "df['Survived'].value_counts()"
   ]
  },
  {
   "cell_type": "code",
   "execution_count": 4,
   "id": "f533432a",
   "metadata": {},
   "outputs": [
    {
     "data": {
      "text/plain": [
       "[Text(0, 0, 'Not survived :('), Text(1, 0, 'Survived! :D')]"
      ]
     },
     "execution_count": 4,
     "metadata": {},
     "output_type": "execute_result"
    },
    {
     "data": {
      "image/png": "[encoded data removed]",
      "text/plain": [
       "<Figure size 432x288 with 1 Axes>"
      ]
     },
     "metadata": {
      "needs_background": "light"
     },
     "output_type": "display_data"
    }
   ],
   "source": [
    "ax = df['Survived'].value_counts().plot(kind='bar')\n",
    "ax.set_xticklabels(['Not survived :(', 'Survived! :D'])"
   ]
  },
  {
   "cell_type": "markdown",
   "id": "bfaa3d10",
   "metadata": {},
   "source": [
    "#### Calculate the proportion of surviving 1st class passengers with regards to the total number of 1st class passengers.\n",
    "\n"
   ]
  },
  {
   "cell_type": "code",
   "execution_count": 5,
   "id": "cb0e2a2c",
   "metadata": {},
   "outputs": [
    {
     "data": {
      "text/plain": [
       "1    0.62963\n",
       "0    0.37037\n",
       "Name: Survived, dtype: float64"
      ]
     },
     "execution_count": 5,
     "metadata": {},
     "output_type": "execute_result"
    }
   ],
   "source": [
    "df['Survived'][df['Pclass'] == 1].value_counts(normalize=True)"
   ]
  },
  {
   "cell_type": "markdown",
   "id": "7104311b",
   "metadata": {},
   "source": [
    "#### Create a bar plot with separate bars for male/female passengers and 1st/2nd/3rd class passengers.\n",
    "\n"
   ]
  },
  {
   "cell_type": "code",
   "execution_count": 6,
   "id": "c38c340d",
   "metadata": {},
   "outputs": [
    {
     "data": {
      "text/plain": [
       "<AxesSubplot:xlabel='Pclass'>"
      ]
     },
     "execution_count": 6,
     "metadata": {},
     "output_type": "execute_result"
    },
    {
     "data": {
      "image/png": "[encoded data removed]",
      "text/plain": [
       "<Figure size 432x288 with 1 Axes>"
      ]
     },
     "metadata": {
      "needs_background": "light"
     },
     "output_type": "display_data"
    }
   ],
   "source": [
    "df_group = df.groupby(['Pclass','Sex'])['Sex'].count()\n",
    "df_group.unstack().plot(kind='bar')"
   ]
  },
  {
   "cell_type": "code",
   "execution_count": 7,
   "id": "6721547b",
   "metadata": {},
   "outputs": [
    {
     "data": {
      "text/plain": [
       "<AxesSubplot:xlabel='Pclass', ylabel='count'>"
      ]
     },
     "execution_count": 7,
     "metadata": {},
     "output_type": "execute_result"
    },
    {
     "data": {
      "image/png": "[encoded data removed]",
      "text/plain": [
       "<Figure size 432x288 with 1 Axes>"
      ]
     },
     "metadata": {
      "needs_background": "light"
     },
     "output_type": "display_data"
    }
   ],
   "source": [
    "sns.countplot(x='Pclass', hue='Sex', data=df)"
   ]
  },
  {
   "cell_type": "code",
   "execution_count": 8,
   "id": "fad0b0c7",
   "metadata": {},
   "outputs": [
    {
     "data": {
      "text/plain": [
       "<AxesSubplot:xlabel='Pclass', ylabel='count'>"
      ]
     },
     "execution_count": 8,
     "metadata": {},
     "output_type": "execute_result"
    },
    {
     "data": {
      "image/png": "[encoded data removed]",
      "text/plain": [
       "<Figure size 432x288 with 1 Axes>"
      ]
     },
     "metadata": {
      "needs_background": "light"
     },
     "output_type": "display_data"
    }
   ],
   "source": [
    "sns.countplot(x='Pclass', data=df)"
   ]
  },
  {
   "cell_type": "markdown",
   "id": "b6016754",
   "metadata": {},
   "source": [
    "#### Create a histogram showing the age distribution of passengers. Compare surviving/non-surviving passengers."
   ]
  },
  {
   "cell_type": "code",
   "execution_count": 9,
   "id": "16f85288",
   "metadata": {},
   "outputs": [
    {
     "data": {
      "text/plain": [
       "<AxesSubplot:ylabel='Frequency'>"
      ]
     },
     "execution_count": 9,
     "metadata": {},
     "output_type": "execute_result"
    },
    {
     "data": {
      "image/png": "[encoded data removed]",
      "text/plain": [
       "<Figure size 432x288 with 1 Axes>"
      ]
     },
     "metadata": {
      "needs_background": "light"
     },
     "output_type": "display_data"
    }
   ],
   "source": [
    "df.Age.plot(kind='hist', bins = 20)"
   ]
  },
  {
   "cell_type": "code",
   "execution_count": 10,
   "id": "6d71681a",
   "metadata": {},
   "outputs": [
    {
     "data": {
      "text/plain": [
       "PassengerId\n",
       "1      22.0\n",
       "5      35.0\n",
       "6       NaN\n",
       "7      54.0\n",
       "8       2.0\n",
       "       ... \n",
       "885    25.0\n",
       "886    39.0\n",
       "887    27.0\n",
       "889     NaN\n",
       "891    32.0\n",
       "Name: Age, Length: 549, dtype: float64"
      ]
     },
     "execution_count": 10,
     "metadata": {},
     "output_type": "execute_result"
    }
   ],
   "source": [
    "df['Age'][df['Survived']==0]"
   ]
  },
  {
   "cell_type": "markdown",
   "id": "feb43a59",
   "metadata": {},
   "source": [
    "#### Compare surviving/non-surviving passengers."
   ]
  },
  {
   "cell_type": "code",
   "execution_count": 11,
   "id": "f55278bc",
   "metadata": {},
   "outputs": [
    {
     "data": {
      "text/plain": [
       "(array([ 18.,  16.,  99., 110.,  64.,  45.,  38.,  15.,  13.,   6.]),\n",
       " array([ 1. ,  8.3, 15.6, 22.9, 30.2, 37.5, 44.8, 52.1, 59.4, 66.7, 74. ]),\n",
       " <BarContainer object of 10 artists>)"
      ]
     },
     "execution_count": 11,
     "metadata": {},
     "output_type": "execute_result"
    },
    {
     "data": {
      "image/png": "[encoded data removed]",
      "text/plain": [
       "<Figure size 432x288 with 1 Axes>"
      ]
     },
     "metadata": {
      "needs_background": "light"
     },
     "output_type": "display_data"
    }
   ],
   "source": [
    "#with matplotlib\n",
    "\n",
    "plt.hist(df['Age'][df['Survived']==1], alpha=0.5)\n",
    "plt.hist(df['Age'][df['Survived']==0], alpha=0.5)"
   ]
  },
  {
   "cell_type": "code",
   "execution_count": 12,
   "id": "61cbe29c",
   "metadata": {},
   "outputs": [
    {
     "data": {
      "text/plain": [
       "<AxesSubplot:xlabel='Age', ylabel='Count'>"
      ]
     },
     "execution_count": 12,
     "metadata": {},
     "output_type": "execute_result"
    },
    {
     "data": {
      "image/png": "[encoded data removed]",
      "text/plain": [
       "<Figure size 432x288 with 1 Axes>"
      ]
     },
     "metadata": {
      "needs_background": "light"
     },
     "output_type": "display_data"
    }
   ],
   "source": [
    "#with seaborn\n",
    "\n",
    "sns.histplot(x='Age', hue='Survived', data=df)"
   ]
  },
  {
   "cell_type": "markdown",
   "id": "32cd6de8",
   "metadata": {},
   "source": [
    "#### Calculate the average age for survived and drowned passengers separately.\n",
    "\n"
   ]
  },
  {
   "cell_type": "code",
   "execution_count": 13,
   "id": "cb235236",
   "metadata": {},
   "outputs": [
    {
     "name": "stdout",
     "output_type": "stream",
     "text": [
      "Average age of people who survived\n",
      "28.3\n",
      "Average age of people who died\n",
      "30.6\n"
     ]
    }
   ],
   "source": [
    "mean_age_survived = df['Age'][df['Survived'] == 1].mean()\n",
    "mean_age_survived = round(mean_age_survived, 1)\n",
    "\n",
    "mean_age_died = df['Age'][df['Survived'] == 0].mean()\n",
    "mean_age_died = round(mean_age_died, 1)\n",
    "\n",
    "print('Average age of people who survived')\n",
    "print(round(mean_age_survived, 1))\n",
    "\n",
    "print('Average age of people who died')\n",
    "print(round(mean_age_died, 1))"
   ]
  },
  {
   "cell_type": "code",
   "execution_count": 14,
   "id": "2d4188cc",
   "metadata": {},
   "outputs": [
    {
     "data": {
      "text/plain": [
       "Survived\n",
       "0    30.626179\n",
       "1    28.343690\n",
       "Name: Age, dtype: float64"
      ]
     },
     "execution_count": 14,
     "metadata": {},
     "output_type": "execute_result"
    }
   ],
   "source": [
    "df.groupby('Survived')['Age'].mean()"
   ]
  },
  {
   "cell_type": "markdown",
   "id": "fc767e80",
   "metadata": {},
   "source": [
    "#### Replace missing age values by the mean age."
   ]
  },
  {
   "cell_type": "code",
   "execution_count": 15,
   "id": "d418fb94",
   "metadata": {},
   "outputs": [
    {
     "data": {
      "text/plain": [
       "29.7"
      ]
     },
     "execution_count": 15,
     "metadata": {},
     "output_type": "execute_result"
    }
   ],
   "source": [
    "mean_age = round(df['Age'].mean(),1)\n",
    "mean_age"
   ]
  },
  {
   "cell_type": "code",
   "execution_count": 16,
   "id": "54c47148",
   "metadata": {},
   "outputs": [
    {
     "data": {
      "text/html": [
       "<div>\n",
       "<style scoped>\n",
       "    .dataframe tbody tr th:only-of-type {\n",
       "        vertical-align: middle;\n",
       "    }\n",
       "\n",
       "    .dataframe tbody tr th {\n",
       "        vertical-align: top;\n",
       "    }\n",
       "\n",
       "    .dataframe thead th {\n",
       "        text-align: right;\n",
       "    }\n",
       "</style>\n",
       "<table border=\"1\" class=\"dataframe\">\n",
       "  <thead>\n",
       "    <tr style=\"text-align: right;\">\n",
       "      <th></th>\n",
       "      <th>Survived</th>\n",
       "      <th>Pclass</th>\n",
       "      <th>Name</th>\n",
       "      <th>Sex</th>\n",
       "      <th>Age</th>\n",
       "      <th>SibSp</th>\n",
       "      <th>Parch</th>\n",
       "      <th>Ticket</th>\n",
       "      <th>Fare</th>\n",
       "      <th>Cabin</th>\n",
       "      <th>Embarked</th>\n",
       "    </tr>\n",
       "    <tr>\n",
       "      <th>PassengerId</th>\n",
       "      <th></th>\n",
       "      <th></th>\n",
       "      <th></th>\n",
       "      <th></th>\n",
       "      <th></th>\n",
       "      <th></th>\n",
       "      <th></th>\n",
       "      <th></th>\n",
       "      <th></th>\n",
       "      <th></th>\n",
       "      <th></th>\n",
       "    </tr>\n",
       "  </thead>\n",
       "  <tbody>\n",
       "    <tr>\n",
       "      <th>1</th>\n",
       "      <td>0</td>\n",
       "      <td>3</td>\n",
       "      <td>Braund, Mr. Owen Harris</td>\n",
       "      <td>male</td>\n",
       "      <td>22.0</td>\n",
       "      <td>1</td>\n",
       "      <td>0</td>\n",
       "      <td>A/5 21171</td>\n",
       "      <td>7.2500</td>\n",
       "      <td>NaN</td>\n",
       "      <td>S</td>\n",
       "    </tr>\n",
       "    <tr>\n",
       "      <th>2</th>\n",
       "      <td>1</td>\n",
       "      <td>1</td>\n",
       "      <td>Cumings, Mrs. John Bradley (Florence Briggs Th...</td>\n",
       "      <td>female</td>\n",
       "      <td>38.0</td>\n",
       "      <td>1</td>\n",
       "      <td>0</td>\n",
       "      <td>PC 17599</td>\n",
       "      <td>71.2833</td>\n",
       "      <td>C85</td>\n",
       "      <td>C</td>\n",
       "    </tr>\n",
       "    <tr>\n",
       "      <th>3</th>\n",
       "      <td>1</td>\n",
       "      <td>3</td>\n",
       "      <td>Heikkinen, Miss. Laina</td>\n",
       "      <td>female</td>\n",
       "      <td>26.0</td>\n",
       "      <td>0</td>\n",
       "      <td>0</td>\n",
       "      <td>STON/O2. 3101282</td>\n",
       "      <td>7.9250</td>\n",
       "      <td>NaN</td>\n",
       "      <td>S</td>\n",
       "    </tr>\n",
       "    <tr>\n",
       "      <th>4</th>\n",
       "      <td>1</td>\n",
       "      <td>1</td>\n",
       "      <td>Futrelle, Mrs. Jacques Heath (Lily May Peel)</td>\n",
       "      <td>female</td>\n",
       "      <td>35.0</td>\n",
       "      <td>1</td>\n",
       "      <td>0</td>\n",
       "      <td>113803</td>\n",
       "      <td>53.1000</td>\n",
       "      <td>C123</td>\n",
       "      <td>S</td>\n",
       "    </tr>\n",
       "    <tr>\n",
       "      <th>5</th>\n",
       "      <td>0</td>\n",
       "      <td>3</td>\n",
       "      <td>Allen, Mr. William Henry</td>\n",
       "      <td>male</td>\n",
       "      <td>35.0</td>\n",
       "      <td>0</td>\n",
       "      <td>0</td>\n",
       "      <td>373450</td>\n",
       "      <td>8.0500</td>\n",
       "      <td>NaN</td>\n",
       "      <td>S</td>\n",
       "    </tr>\n",
       "  </tbody>\n",
       "</table>\n",
       "</div>"
      ],
      "text/plain": [
       "             Survived  Pclass  \\\n",
       "PassengerId                     \n",
       "1                   0       3   \n",
       "2                   1       1   \n",
       "3                   1       3   \n",
       "4                   1       1   \n",
       "5                   0       3   \n",
       "\n",
       "                                                          Name     Sex   Age  \\\n",
       "PassengerId                                                                    \n",
       "1                                      Braund, Mr. Owen Harris    male  22.0   \n",
       "2            Cumings, Mrs. John Bradley (Florence Briggs Th...  female  38.0   \n",
       "3                                       Heikkinen, Miss. Laina  female  26.0   \n",
       "4                 Futrelle, Mrs. Jacques Heath (Lily May Peel)  female  35.0   \n",
       "5                                     Allen, Mr. William Henry    male  35.0   \n",
       "\n",
       "             SibSp  Parch            Ticket     Fare Cabin Embarked  \n",
       "PassengerId                                                          \n",
       "1                1      0         A/5 21171   7.2500   NaN        S  \n",
       "2                1      0          PC 17599  71.2833   C85        C  \n",
       "3                0      0  STON/O2. 3101282   7.9250   NaN        S  \n",
       "4                1      0            113803  53.1000  C123        S  \n",
       "5                0      0            373450   8.0500   NaN        S  "
      ]
     },
     "execution_count": 16,
     "metadata": {},
     "output_type": "execute_result"
    }
   ],
   "source": [
    "df['Age'].fillna(mean_age, inplace=True)\n",
    "df.head()"
   ]
  },
  {
   "cell_type": "markdown",
   "id": "db7dd2b6",
   "metadata": {},
   "source": [
    "#### Create a table counting the number of surviving/dead passengers separately for 1st/2nd/3rd class and male/female."
   ]
  },
  {
   "cell_type": "code",
   "execution_count": 17,
   "id": "5e3305ec",
   "metadata": {},
   "outputs": [
    {
     "data": {
      "text/html": [
       "<div>\n",
       "<style scoped>\n",
       "    .dataframe tbody tr th:only-of-type {\n",
       "        vertical-align: middle;\n",
       "    }\n",
       "\n",
       "    .dataframe tbody tr th {\n",
       "        vertical-align: top;\n",
       "    }\n",
       "\n",
       "    .dataframe thead th {\n",
       "        text-align: right;\n",
       "    }\n",
       "</style>\n",
       "<table border=\"1\" class=\"dataframe\">\n",
       "  <thead>\n",
       "    <tr style=\"text-align: right;\">\n",
       "      <th></th>\n",
       "      <th>Pclass</th>\n",
       "      <th>Sex</th>\n",
       "      <th>Survived</th>\n",
       "    </tr>\n",
       "  </thead>\n",
       "  <tbody>\n",
       "    <tr>\n",
       "      <th>0</th>\n",
       "      <td>1</td>\n",
       "      <td>female</td>\n",
       "      <td>94</td>\n",
       "    </tr>\n",
       "    <tr>\n",
       "      <th>1</th>\n",
       "      <td>1</td>\n",
       "      <td>male</td>\n",
       "      <td>122</td>\n",
       "    </tr>\n",
       "    <tr>\n",
       "      <th>2</th>\n",
       "      <td>2</td>\n",
       "      <td>female</td>\n",
       "      <td>76</td>\n",
       "    </tr>\n",
       "    <tr>\n",
       "      <th>3</th>\n",
       "      <td>2</td>\n",
       "      <td>male</td>\n",
       "      <td>108</td>\n",
       "    </tr>\n",
       "    <tr>\n",
       "      <th>4</th>\n",
       "      <td>3</td>\n",
       "      <td>female</td>\n",
       "      <td>144</td>\n",
       "    </tr>\n",
       "    <tr>\n",
       "      <th>5</th>\n",
       "      <td>3</td>\n",
       "      <td>male</td>\n",
       "      <td>347</td>\n",
       "    </tr>\n",
       "  </tbody>\n",
       "</table>\n",
       "</div>"
      ],
      "text/plain": [
       "   Pclass     Sex  Survived\n",
       "0       1  female        94\n",
       "1       1    male       122\n",
       "2       2  female        76\n",
       "3       2    male       108\n",
       "4       3  female       144\n",
       "5       3    male       347"
      ]
     },
     "execution_count": 17,
     "metadata": {},
     "output_type": "execute_result"
    }
   ],
   "source": [
    "df.groupby(['Pclass', 'Sex'])['Survived'].count().to_frame().reset_index()"
   ]
  },
  {
   "cell_type": "markdown",
   "id": "042d2a55",
   "metadata": {},
   "source": [
    "#### Build a Logistic Regression model"
   ]
  },
  {
   "cell_type": "code",
   "execution_count": 18,
   "id": "338f7fa0",
   "metadata": {},
   "outputs": [],
   "source": [
    "X = df[['Pclass']]\n",
    "y = df['Survived']"
   ]
  },
  {
   "cell_type": "code",
   "execution_count": 19,
   "id": "671aeb42",
   "metadata": {},
   "outputs": [
    {
     "name": "stdout",
     "output_type": "stream",
     "text": [
      "(891, 1)\n",
      "(891,)\n"
     ]
    }
   ],
   "source": [
    "#x should always have a number in the shape for column. Y is fine without\n",
    "print(X.shape)\n",
    "print(y.shape)"
   ]
  },
  {
   "cell_type": "code",
   "execution_count": 20,
   "id": "13e2ef9b",
   "metadata": {},
   "outputs": [],
   "source": [
    "X_train, X_test, y_train, y_test = train_test_split(X, y, test_size=0.2, random_state=42)"
   ]
  },
  {
   "cell_type": "code",
   "execution_count": 21,
   "id": "83c2c0a1",
   "metadata": {},
   "outputs": [
    {
     "data": {
      "text/plain": [
       "Survived      0\n",
       "Pclass        0\n",
       "Name          0\n",
       "Sex           0\n",
       "Age           0\n",
       "SibSp         0\n",
       "Parch         0\n",
       "Ticket        0\n",
       "Fare          0\n",
       "Cabin       687\n",
       "Embarked      2\n",
       "dtype: int64"
      ]
     },
     "execution_count": 21,
     "metadata": {},
     "output_type": "execute_result"
    }
   ],
   "source": [
    "df.isna().sum()"
   ]
  },
  {
   "cell_type": "code",
   "execution_count": 22,
   "id": "79d43283",
   "metadata": {},
   "outputs": [],
   "source": [
    "#optional normalizing\n",
    "\n",
    "#x_train = (x_train - x_train.mean()) / x_train.std()\n",
    "#x_test = (x_test - x_test.mean()) / x_test.std()"
   ]
  },
  {
   "cell_type": "code",
   "execution_count": 23,
   "id": "11cf8288",
   "metadata": {},
   "outputs": [],
   "source": [
    "model = LogisticRegression()"
   ]
  },
  {
   "cell_type": "code",
   "execution_count": 24,
   "id": "1dd3b253",
   "metadata": {},
   "outputs": [
    {
     "data": {
      "text/plain": [
       "LogisticRegression()"
      ]
     },
     "execution_count": 24,
     "metadata": {},
     "output_type": "execute_result"
    }
   ],
   "source": [
    "model.fit(X_train, y_train)"
   ]
  },
  {
   "cell_type": "markdown",
   "id": "536ec790",
   "metadata": {},
   "source": [
    "##### Print the coefficients calculated by the model."
   ]
  },
  {
   "cell_type": "code",
   "execution_count": 25,
   "id": "74f182d5",
   "metadata": {},
   "outputs": [
    {
     "data": {
      "text/plain": [
       "(array([[-0.80800402]]), array([1.33719422]))"
      ]
     },
     "execution_count": 25,
     "metadata": {},
     "output_type": "execute_result"
    }
   ],
   "source": [
    "model.coef_, model.intercept_"
   ]
  },
  {
   "cell_type": "code",
   "execution_count": 26,
   "id": "8eb047ca",
   "metadata": {},
   "outputs": [
    {
     "name": "stdout",
     "output_type": "stream",
     "text": [
      "0.672752808988764\n",
      "0.7039106145251397\n"
     ]
    }
   ],
   "source": [
    "print(model.score(X_train, y_train))\n",
    "print(model.score(X_test, y_test))"
   ]
  },
  {
   "cell_type": "markdown",
   "id": "43ce6f27",
   "metadata": {},
   "source": [
    "##### Calculate the probabilities for your data points belonging to the positive class."
   ]
  },
  {
   "cell_type": "code",
   "execution_count": 27,
   "id": "fc072e2f",
   "metadata": {},
   "outputs": [
    {
     "data": {
      "text/plain": [
       "array([[0.74778203, 0.25221797],\n",
       "       [0.37070578, 0.62929422],\n",
       "       [0.74778203, 0.25221797],\n",
       "       ...,\n",
       "       [0.74778203, 0.25221797],\n",
       "       [0.37070578, 0.62929422],\n",
       "       [0.74778203, 0.25221797]])"
      ]
     },
     "execution_count": 27,
     "metadata": {},
     "output_type": "execute_result"
    }
   ],
   "source": [
    "prob = model.predict_proba(X)\n",
    "prob"
   ]
  },
  {
   "cell_type": "code",
   "execution_count": 28,
   "id": "f12aacd4",
   "metadata": {},
   "outputs": [],
   "source": [
    "y_pred_test = (model.predict_proba(X)[:,1] >= 0.9)\n",
    "#y_pred_test"
   ]
  },
  {
   "cell_type": "code",
   "execution_count": 29,
   "id": "bc0405bc",
   "metadata": {},
   "outputs": [
    {
     "name": "stdout",
     "output_type": "stream",
     "text": [
      "0\n"
     ]
    }
   ],
   "source": [
    "#sum the number of people likely to survive based on threshold\n",
    "\n",
    "sum_likely_to_survive = 0\n",
    "\n",
    "for y in y_pred_test:\n",
    "    if y==True:\n",
    "        sum_likely_to_survive += 1\n",
    "        \n",
    "    else:\n",
    "        continue\n",
    "        \n",
    "print(sum_likely_to_survive)"
   ]
  },
  {
   "cell_type": "markdown",
   "id": "7ccb9084",
   "metadata": {},
   "source": [
    "Changing the threshold to 0.9 means we are asking if there was a 90% chance that this person would survive\n",
    "\n",
    "There are very little results\n",
    "\n",
    "On the other hand, if we're asking if there was 10% chance this person would survive, most of the results are positive"
   ]
  },
  {
   "cell_type": "markdown",
   "id": "5c632bdf",
   "metadata": {},
   "source": [
    "#### Add the option class_weight='balanced' to even out the bias caused by the non-survivors outnumbering the survivors.\n",
    "\n"
   ]
  },
  {
   "cell_type": "code",
   "execution_count": 30,
   "id": "62dfb882",
   "metadata": {},
   "outputs": [],
   "source": [
    "balanced_model = LogisticRegression(class_weight='balanced')"
   ]
  },
  {
   "cell_type": "code",
   "execution_count": 31,
   "id": "0545d70c",
   "metadata": {},
   "outputs": [
    {
     "data": {
      "text/plain": [
       "LogisticRegression(class_weight='balanced')"
      ]
     },
     "execution_count": 31,
     "metadata": {},
     "output_type": "execute_result"
    }
   ],
   "source": [
    "balanced_model.fit(X_train, y_train)"
   ]
  },
  {
   "cell_type": "code",
   "execution_count": 32,
   "id": "153b18e3",
   "metadata": {},
   "outputs": [
    {
     "data": {
      "text/plain": [
       "(array([[-0.81546945]]), array([1.85856922]))"
      ]
     },
     "execution_count": 32,
     "metadata": {},
     "output_type": "execute_result"
    }
   ],
   "source": [
    "balanced_model.coef_, balanced_model.intercept_\n",
    "\n",
    "#as a note, the coef and intercept of the non-balanced model were:\n",
    "#(array([[-0.80800402]]), array([1.33719422]))"
   ]
  },
  {
   "cell_type": "code",
   "execution_count": 33,
   "id": "a989e8b7",
   "metadata": {},
   "outputs": [
    {
     "data": {
      "text/plain": [
       "0.6657303370786517"
      ]
     },
     "execution_count": 33,
     "metadata": {},
     "output_type": "execute_result"
    }
   ],
   "source": [
    "balanced_model.score(X_train, y_train)"
   ]
  },
  {
   "cell_type": "markdown",
   "id": "e6cc0f25",
   "metadata": {},
   "source": [
    "#### Create a few ColumnTransformers and train them on the Titanic data"
   ]
  },
  {
   "cell_type": "markdown",
   "id": "d00613e8",
   "metadata": {},
   "source": [
    "We start by reloading the dataframe to reset the transformations made above"
   ]
  },
  {
   "cell_type": "code",
   "execution_count": 34,
   "id": "a5c2485f",
   "metadata": {},
   "outputs": [],
   "source": [
    "df = pd.read_csv('train.csv', index_col='PassengerId')"
   ]
  },
  {
   "cell_type": "code",
   "execution_count": 35,
   "id": "f342a7ab",
   "metadata": {},
   "outputs": [],
   "source": [
    "X = df[['Name','Pclass','Sex','Age','Fare','Embarked', 'SibSp', 'Parch', 'Cabin']]\n",
    "y = df['Survived']"
   ]
  },
  {
   "cell_type": "code",
   "execution_count": 36,
   "id": "b18af646",
   "metadata": {},
   "outputs": [],
   "source": [
    "X_train, X_test, y_train, y_test = train_test_split(X,y, test_size=0.25,random_state= 10)"
   ]
  },
  {
   "cell_type": "code",
   "execution_count": 37,
   "id": "aa052140",
   "metadata": {},
   "outputs": [],
   "source": [
    "#X_train_trans.shape, X_test_trans.shape, y_train_trans.shape, y_test_trans.shape"
   ]
  },
  {
   "cell_type": "markdown",
   "id": "11171b1f",
   "metadata": {},
   "source": [
    "The title of each passenger can be extracted from the name to create a more useful column \"Title\""
   ]
  },
  {
   "cell_type": "code",
   "execution_count": 38,
   "id": "8af768b5",
   "metadata": {},
   "outputs": [],
   "source": [
    "def get_title(name):\n",
    "    \n",
    "    #titles_list = []\n",
    "    \n",
    "    split = name.split(\".\")\n",
    "    title = split[0].split(\",\")[1].strip()\n",
    "        #titles_list.append(title)\n",
    "        \n",
    "    return title\n",
    "#get_title(\"Dooley, Mr. Patrick\")"
   ]
  },
  {
   "cell_type": "code",
   "execution_count": 39,
   "id": "2913b7ca",
   "metadata": {},
   "outputs": [],
   "source": [
    "X_train['Title'] = X_train['Name'].apply(get_title)\n",
    "X_train['mean_age'] = X_train.groupby('Title')['Age'].transform(\"mean\")\n",
    "X_train['Age'] = X_train.apply(lambda x: round(x['mean_age'],0) if pd.isna(x['Age']) else x['Age'], axis=1)\n",
    "X_train.drop(['mean_age', 'Name'], axis=1, inplace=True)"
   ]
  },
  {
   "cell_type": "code",
   "execution_count": 40,
   "id": "0c234b5c",
   "metadata": {},
   "outputs": [],
   "source": [
    "X_test['Title'] = X_test['Name'].apply(get_title)\n",
    "X_test['mean_age'] = X_test.groupby('Title')['Age'].transform(\"mean\")\n",
    "X_test['Age'] = X_test.apply(lambda x: round(x['mean_age'],0) if pd.isna(x['Age']) else x['Age'], axis=1)\n",
    "X_test.drop(['mean_age','Name'], axis=1, inplace=True)\n"
   ]
  },
  {
   "cell_type": "markdown",
   "id": "d03e82a4",
   "metadata": {},
   "source": [
    "The number of Siblings and Parents/Children can be combined into a Family_aboard column"
   ]
  },
  {
   "cell_type": "code",
   "execution_count": 41,
   "id": "6e7a79af",
   "metadata": {},
   "outputs": [],
   "source": [
    "X_train['Family_aboard'] = X_train['SibSp'] + X_train['Parch']\n",
    "X_train.drop(['SibSp', 'Parch'], axis=1, inplace=True)"
   ]
  },
  {
   "cell_type": "code",
   "execution_count": 42,
   "id": "9c7ae178",
   "metadata": {},
   "outputs": [],
   "source": [
    "X_test['Family_aboard'] = X_test['SibSp'] + X_test['Parch']\n",
    "X_test.drop(['SibSp', 'Parch'], axis=1, inplace=True)"
   ]
  },
  {
   "cell_type": "markdown",
   "id": "7db2da40",
   "metadata": {},
   "source": [
    "The cabin and fare can be used to create a new column that groups people who were far above the water"
   ]
  },
  {
   "cell_type": "code",
   "execution_count": 43,
   "id": "9617dc9a",
   "metadata": {},
   "outputs": [],
   "source": [
    "def modify_cabins(cabin):\n",
    "        cabin = cabin[0]\n",
    "        return cabin"
   ]
  },
  {
   "cell_type": "code",
   "execution_count": 44,
   "id": "fd9a60ff",
   "metadata": {},
   "outputs": [],
   "source": [
    "X_train['Cabin'] = X_train['Cabin'].apply(lambda x: modify_cabins(x) if pd.notnull(x) else x)\n",
    "X_train['Above_deck'] = X_train.apply(lambda x: 1 if (x['Fare'] > 100 or x['Cabin'] in ['A','B','C']) else 0, axis=1)\n",
    "X_train.drop('Cabin', axis=1, inplace=True)"
   ]
  },
  {
   "cell_type": "code",
   "execution_count": 45,
   "id": "fb9b37ca",
   "metadata": {},
   "outputs": [],
   "source": [
    "X_test['Cabin'] = X_test['Cabin'].apply(lambda x: modify_cabins(x) if pd.notnull(x) else x)\n",
    "X_test['Above_deck'] = X_test.apply(lambda x: 1 if (x['Fare'] > 100 or x['Cabin'] in ['A','B','C']) else 0, axis=1)\n",
    "X_test.drop('Cabin', axis=1, inplace=True)"
   ]
  },
  {
   "cell_type": "code",
   "execution_count": 46,
   "id": "c1612c9e",
   "metadata": {},
   "outputs": [
    {
     "data": {
      "text/plain": [
       "((223, 8), (223,), (668, 8), (668,))"
      ]
     },
     "execution_count": 46,
     "metadata": {},
     "output_type": "execute_result"
    }
   ],
   "source": [
    "X_test.shape,  y_test.shape, X_train.shape, y_train.shape"
   ]
  },
  {
   "cell_type": "markdown",
   "id": "e6abc540",
   "metadata": {},
   "source": [
    "We can now proceed with the transformations of our columns"
   ]
  },
  {
   "cell_type": "code",
   "execution_count": 47,
   "id": "18ab5b6a",
   "metadata": {},
   "outputs": [],
   "source": [
    "pipeline_family = Pipeline([\n",
    "    (\"binning\", KBinsDiscretizer(n_bins=2, encode='onehot-dense', strategy='kmeans')),\n",
    "])"
   ]
  },
  {
   "cell_type": "code",
   "execution_count": 48,
   "id": "31979a92",
   "metadata": {},
   "outputs": [],
   "source": [
    "pipeline_sex = Pipeline([\n",
    "    (\"encoder\", OneHotEncoder(handle_unknown=\"ignore\", sparse=False, drop=\"if_binary\")),\n",
    "])"
   ]
  },
  {
   "cell_type": "code",
   "execution_count": 49,
   "id": "f7021e78",
   "metadata": {},
   "outputs": [],
   "source": [
    "pipeline_age = Pipeline([\n",
    "    (\"imputer\", SimpleImputer(strategy='most_frequent')),\n",
    "    (\"binning\", KBinsDiscretizer(n_bins=4, encode='onehot-dense', strategy='uniform'))\n",
    "])"
   ]
  },
  {
   "cell_type": "code",
   "execution_count": 50,
   "id": "aa31b64b",
   "metadata": {},
   "outputs": [],
   "source": [
    "pipeline_embarked = Pipeline([\n",
    "    (\"imputer\", SimpleImputer(strategy='most_frequent')),\n",
    "    (\"encoder\", OneHotEncoder(handle_unknown=\"ignore\", sparse=False))\n",
    "])"
   ]
  },
  {
   "cell_type": "code",
   "execution_count": 51,
   "id": "b497714b",
   "metadata": {},
   "outputs": [],
   "source": [
    "pipeline_fare = Pipeline([\n",
    "    (\"binning\", KBinsDiscretizer(n_bins=2, encode='onehot-dense', strategy='uniform'))\n",
    "])"
   ]
  },
  {
   "cell_type": "code",
   "execution_count": 52,
   "id": "ff195a6c",
   "metadata": {},
   "outputs": [],
   "source": [
    "pipeline_class = Pipeline([\n",
    "    (\"encoder\", OneHotEncoder(handle_unknown=\"ignore\", sparse=False))\n",
    "])"
   ]
  },
  {
   "cell_type": "code",
   "execution_count": 53,
   "id": "daaaa4ad",
   "metadata": {},
   "outputs": [],
   "source": [
    "pipeline_deck = Pipeline([\n",
    "    (\"encoder\", OneHotEncoder(handle_unknown=\"ignore\", sparse=False, drop='if_binary'))\n",
    "])"
   ]
  },
  {
   "cell_type": "code",
   "execution_count": 54,
   "id": "06964a85",
   "metadata": {},
   "outputs": [],
   "source": [
    "transformer = ColumnTransformer(\n",
    "    [\n",
    "        (\"embarked\", pipeline_embarked, ['Embarked']),\n",
    "        (\"family\", pipeline_family, ['Family_aboard']),\n",
    "        (\"sex\", pipeline_sex, ['Sex']),\n",
    "        ('fare', pipeline_fare, ['Fare']),\n",
    "        (\"age\", pipeline_age, ['Age']),\n",
    "        (\"class\", pipeline_class, ['Pclass']),\n",
    "        (\"deck\", pipeline_deck, ['Above_deck'])\n",
    "    ]\n",
    ")"
   ]
  },
  {
   "cell_type": "code",
   "execution_count": 55,
   "id": "37bae45c",
   "metadata": {},
   "outputs": [
    {
     "data": {
      "text/plain": [
       "LogisticRegression()"
      ]
     },
     "execution_count": 55,
     "metadata": {},
     "output_type": "execute_result"
    }
   ],
   "source": [
    "X_train_FE = transformer.fit_transform(X_train)\n",
    "X_test_FE = transformer.transform(X_test)\n",
    "clf = LogisticRegression()\n",
    "clf.fit(X_train_FE, y_train)"
   ]
  },
  {
   "cell_type": "code",
   "execution_count": 56,
   "id": "c7c064bb",
   "metadata": {},
   "outputs": [
    {
     "name": "stdout",
     "output_type": "stream",
     "text": [
      "Accuracy score training dataset\n",
      "0.8038922155688623\n",
      "\n",
      "Accuracy score test dataset\n",
      "0.8116591928251121\n"
     ]
    }
   ],
   "source": [
    "print('Accuracy score training dataset')\n",
    "print(clf.score(X_train_FE, y_train))\n",
    "print()\n",
    "print('Accuracy score test dataset')\n",
    "print(clf.score(X_test_FE, y_test) )"
   ]
  },
  {
   "cell_type": "code",
   "execution_count": 57,
   "id": "2b56d288",
   "metadata": {},
   "outputs": [],
   "source": [
    "#clf.predict(X_test_FE)"
   ]
  },
  {
   "cell_type": "markdown",
   "id": "6455be46",
   "metadata": {},
   "source": [
    "Benchmark score to beat:\n",
    "0.8158682634730539\n",
    "\n",
    "Test score to beat:\n",
    "0.8565022421524664\n"
   ]
  },
  {
   "cell_type": "markdown",
   "id": "76df5a20",
   "metadata": {},
   "source": [
    "#### Calculations of scores"
   ]
  },
  {
   "cell_type": "code",
   "execution_count": 58,
   "id": "7931c83b",
   "metadata": {},
   "outputs": [],
   "source": [
    "#accuracy\n",
    "accuracy_score_train = accuracy_score(y_train, clf.predict(X_train_FE), normalize=True)\n",
    "accuracy_score_test = accuracy_score(y_test, clf.predict(X_test_FE), normalize=True)\n",
    "\n",
    "#precision\n",
    "precision_score_train = precision_score(y_train, clf.predict(X_train_FE))\n",
    "precision_score_test = precision_score(y_test, clf.predict(X_test_FE))\n",
    "\n",
    "#recall\n",
    "recall_score_train = recall_score(y_train, clf.predict(X_train_FE))\n",
    "recall_score_test = recall_score(y_test, clf.predict(X_test_FE))\n",
    "\n",
    "#area under the curve\n",
    "y_pred_proba_test = clf.predict_proba(X_test_FE)[::,1]\n",
    "auc_test = roc_auc_score(y_test, y_pred_proba_test)\n",
    "\n",
    "y_pred_proba_train = clf.predict_proba(X_train_FE)[::,1]\n",
    "auc_train = roc_auc_score(y_train, y_pred_proba_train)"
   ]
  },
  {
   "cell_type": "markdown",
   "id": "770bc0ec",
   "metadata": {},
   "source": [
    "The scores will be more readeable in a dataframe format"
   ]
  },
  {
   "cell_type": "code",
   "execution_count": 59,
   "id": "b856c883",
   "metadata": {},
   "outputs": [
    {
     "data": {
      "text/html": [
       "<div>\n",
       "<style scoped>\n",
       "    .dataframe tbody tr th:only-of-type {\n",
       "        vertical-align: middle;\n",
       "    }\n",
       "\n",
       "    .dataframe tbody tr th {\n",
       "        vertical-align: top;\n",
       "    }\n",
       "\n",
       "    .dataframe thead th {\n",
       "        text-align: right;\n",
       "    }\n",
       "</style>\n",
       "<table border=\"1\" class=\"dataframe\">\n",
       "  <thead>\n",
       "    <tr style=\"text-align: right;\">\n",
       "      <th></th>\n",
       "      <th>Metrics</th>\n",
       "      <th>Train</th>\n",
       "      <th>Test</th>\n",
       "    </tr>\n",
       "  </thead>\n",
       "  <tbody>\n",
       "    <tr>\n",
       "      <th>0</th>\n",
       "      <td>accuracy</td>\n",
       "      <td>0.803892</td>\n",
       "      <td>0.811659</td>\n",
       "    </tr>\n",
       "    <tr>\n",
       "      <th>1</th>\n",
       "      <td>precision</td>\n",
       "      <td>0.789700</td>\n",
       "      <td>0.750000</td>\n",
       "    </tr>\n",
       "    <tr>\n",
       "      <th>2</th>\n",
       "      <td>recall</td>\n",
       "      <td>0.691729</td>\n",
       "      <td>0.671053</td>\n",
       "    </tr>\n",
       "    <tr>\n",
       "      <th>3</th>\n",
       "      <td>auc</td>\n",
       "      <td>0.857718</td>\n",
       "      <td>0.873747</td>\n",
       "    </tr>\n",
       "  </tbody>\n",
       "</table>\n",
       "</div>"
      ],
      "text/plain": [
       "     Metrics     Train      Test\n",
       "0   accuracy  0.803892  0.811659\n",
       "1  precision  0.789700  0.750000\n",
       "2     recall  0.691729  0.671053\n",
       "3        auc  0.857718  0.873747"
      ]
     },
     "execution_count": 59,
     "metadata": {},
     "output_type": "execute_result"
    }
   ],
   "source": [
    "training_scores = [accuracy_score_train, precision_score_train, recall_score_train, auc_train]\n",
    "test_scores = [accuracy_score_test, precision_score_test, recall_score_test, auc_test]\n",
    "\n",
    "d = {'Metrics': ['accuracy', 'precision','recall','auc'], 'Train': training_scores, 'Test': test_scores}\n",
    "\n",
    "df_scores = pd.DataFrame(data=d)\n",
    "df_scores"
   ]
  },
  {
   "cell_type": "markdown",
   "id": "feeb36e1",
   "metadata": {},
   "source": [
    "RoC curve"
   ]
  },
  {
   "cell_type": "code",
   "execution_count": 60,
   "id": "9cf11081",
   "metadata": {},
   "outputs": [
    {
     "data": {
      "image/png": "[encoded data removed]",
      "text/plain": [
       "<Figure size 432x288 with 1 Axes>"
      ]
     },
     "metadata": {
      "needs_background": "light"
     },
     "output_type": "display_data"
    }
   ],
   "source": [
    "fpr_test, tpr_test, _test = roc_curve(y_test,  y_pred_proba_test)\n",
    "\n",
    "plt.plot(fpr_test,tpr_test)\n",
    "plt.ylabel('True Positive Rate')\n",
    "plt.xlabel('False Positive Rate')\n",
    "plt.show()"
   ]
  },
  {
   "cell_type": "markdown",
   "id": "b44d3058",
   "metadata": {},
   "source": [
    "#### Implement a random forest"
   ]
  },
  {
   "cell_type": "code",
   "execution_count": 61,
   "id": "8eb91778",
   "metadata": {},
   "outputs": [],
   "source": [
    "from sklearn.ensemble import RandomForestClassifier"
   ]
  },
  {
   "cell_type": "code",
   "execution_count": 62,
   "id": "266391bc",
   "metadata": {},
   "outputs": [
    {
     "data": {
      "text/plain": [
       "RandomForestClassifier(criterion='entropy', max_depth=7, n_estimators=200)"
      ]
     },
     "execution_count": 62,
     "metadata": {},
     "output_type": "execute_result"
    }
   ],
   "source": [
    "rf = RandomForestClassifier(n_estimators=200, max_depth=7,criterion='entropy')\n",
    "rf.fit(X_train_FE, y_train)"
   ]
  },
  {
   "cell_type": "code",
   "execution_count": 63,
   "id": "e695b66e",
   "metadata": {},
   "outputs": [],
   "source": [
    "importance=rf.feature_importances_"
   ]
  },
  {
   "cell_type": "code",
   "execution_count": 64,
   "id": "291be3f5",
   "metadata": {},
   "outputs": [
    {
     "data": {
      "text/plain": [
       "[(0.49609005558895936, 'Title'),\n",
       " (0.04815300227341019, 'Embarked'),\n",
       " (0.03887439642323918, 'Fare'),\n",
       " (0.0333472610733105, 'Age'),\n",
       " (0.025817517510089944, 'Pclass'),\n",
       " (0.010982916650873498, 'Sex'),\n",
       " (0.007907127363650021, 'Above_deck'),\n",
       " (0.007542487291208475, 'Family_aboard')]"
      ]
     },
     "execution_count": 64,
     "metadata": {},
     "output_type": "execute_result"
    }
   ],
   "source": [
    "importance_list = list(zip(importance, X_train.columns))\n",
    "importance_list.sort(key=lambda x: x[0], reverse = True)\n",
    "importance_list"
   ]
  },
  {
   "cell_type": "code",
   "execution_count": 65,
   "id": "94751de8",
   "metadata": {},
   "outputs": [],
   "source": [
    "#accuracy\n",
    "rf_accuracy_score_train = accuracy_score(y_train, rf.predict(X_train_FE), normalize=True)\n",
    "rf_accuracy_score_test = accuracy_score(y_test, rf.predict(X_test_FE), normalize=True)\n",
    "\n",
    "#precision\n",
    "rf_precision_score_train = precision_score(y_train, rf.predict(X_train_FE))\n",
    "rf_precision_score_test = precision_score(y_test, rf.predict(X_test_FE))\n",
    "\n",
    "#recall\n",
    "rf_recall_score_train = recall_score(y_train, rf.predict(X_train_FE))\n",
    "rf_recall_score_test = recall_score(y_test, rf.predict(X_test_FE))\n",
    "\n",
    "#area under the curve\n",
    "rf_y_pred_proba = rf.predict_proba(X_test_FE)[::,1]\n",
    "rf_auc_test = roc_auc_score(y_test, rf_y_pred_proba)\n",
    "\n",
    "rf_y_pred_proba_train = rf.predict_proba(X_train_FE)[::,1]\n",
    "rf_auc_train = roc_auc_score(y_train, rf_y_pred_proba_train)"
   ]
  },
  {
   "cell_type": "code",
   "execution_count": 66,
   "id": "8fca9341",
   "metadata": {},
   "outputs": [
    {
     "data": {
      "text/html": [
       "<div>\n",
       "<style scoped>\n",
       "    .dataframe tbody tr th:only-of-type {\n",
       "        vertical-align: middle;\n",
       "    }\n",
       "\n",
       "    .dataframe tbody tr th {\n",
       "        vertical-align: top;\n",
       "    }\n",
       "\n",
       "    .dataframe thead th {\n",
       "        text-align: right;\n",
       "    }\n",
       "</style>\n",
       "<table border=\"1\" class=\"dataframe\">\n",
       "  <thead>\n",
       "    <tr style=\"text-align: right;\">\n",
       "      <th></th>\n",
       "      <th>Metrics</th>\n",
       "      <th>Train</th>\n",
       "      <th>Test</th>\n",
       "    </tr>\n",
       "  </thead>\n",
       "  <tbody>\n",
       "    <tr>\n",
       "      <th>0</th>\n",
       "      <td>accuracy</td>\n",
       "      <td>0.826347</td>\n",
       "      <td>0.807175</td>\n",
       "    </tr>\n",
       "    <tr>\n",
       "      <th>1</th>\n",
       "      <td>precision</td>\n",
       "      <td>0.809917</td>\n",
       "      <td>0.732394</td>\n",
       "    </tr>\n",
       "    <tr>\n",
       "      <th>2</th>\n",
       "      <td>recall</td>\n",
       "      <td>0.736842</td>\n",
       "      <td>0.684211</td>\n",
       "    </tr>\n",
       "    <tr>\n",
       "      <th>3</th>\n",
       "      <td>auc</td>\n",
       "      <td>0.886830</td>\n",
       "      <td>0.852712</td>\n",
       "    </tr>\n",
       "  </tbody>\n",
       "</table>\n",
       "</div>"
      ],
      "text/plain": [
       "     Metrics     Train      Test\n",
       "0   accuracy  0.826347  0.807175\n",
       "1  precision  0.809917  0.732394\n",
       "2     recall  0.736842  0.684211\n",
       "3        auc  0.886830  0.852712"
      ]
     },
     "execution_count": 66,
     "metadata": {},
     "output_type": "execute_result"
    }
   ],
   "source": [
    "training_scores = [rf_accuracy_score_train, rf_precision_score_train, rf_recall_score_train, rf_auc_train]\n",
    "test_scores = [rf_accuracy_score_test, rf_precision_score_test, rf_recall_score_test, rf_auc_test]\n",
    "\n",
    "d = {'Metrics': ['accuracy', 'precision','recall','auc'], 'Train': training_scores, 'Test': test_scores}\n",
    "\n",
    "df_scores_rf = pd.DataFrame(data=d)\n",
    "df_scores_rf"
   ]
  },
  {
   "cell_type": "code",
   "execution_count": 67,
   "id": "17f8d7fb",
   "metadata": {},
   "outputs": [
    {
     "data": {
      "text/html": [
       "<div>\n",
       "<style scoped>\n",
       "    .dataframe tbody tr th:only-of-type {\n",
       "        vertical-align: middle;\n",
       "    }\n",
       "\n",
       "    .dataframe tbody tr th {\n",
       "        vertical-align: top;\n",
       "    }\n",
       "\n",
       "    .dataframe thead th {\n",
       "        text-align: right;\n",
       "    }\n",
       "</style>\n",
       "<table border=\"1\" class=\"dataframe\">\n",
       "  <thead>\n",
       "    <tr style=\"text-align: right;\">\n",
       "      <th></th>\n",
       "      <th>Metrics</th>\n",
       "      <th>Train</th>\n",
       "      <th>Test</th>\n",
       "    </tr>\n",
       "  </thead>\n",
       "  <tbody>\n",
       "    <tr>\n",
       "      <th>0</th>\n",
       "      <td>accuracy</td>\n",
       "      <td>0.803892</td>\n",
       "      <td>0.811659</td>\n",
       "    </tr>\n",
       "    <tr>\n",
       "      <th>1</th>\n",
       "      <td>precision</td>\n",
       "      <td>0.789700</td>\n",
       "      <td>0.750000</td>\n",
       "    </tr>\n",
       "    <tr>\n",
       "      <th>2</th>\n",
       "      <td>recall</td>\n",
       "      <td>0.691729</td>\n",
       "      <td>0.671053</td>\n",
       "    </tr>\n",
       "    <tr>\n",
       "      <th>3</th>\n",
       "      <td>auc</td>\n",
       "      <td>0.857718</td>\n",
       "      <td>0.873747</td>\n",
       "    </tr>\n",
       "  </tbody>\n",
       "</table>\n",
       "</div>"
      ],
      "text/plain": [
       "     Metrics     Train      Test\n",
       "0   accuracy  0.803892  0.811659\n",
       "1  precision  0.789700  0.750000\n",
       "2     recall  0.691729  0.671053\n",
       "3        auc  0.857718  0.873747"
      ]
     },
     "execution_count": 67,
     "metadata": {},
     "output_type": "execute_result"
    }
   ],
   "source": [
    "df_scores"
   ]
  },
  {
   "cell_type": "markdown",
   "id": "b49a50e8",
   "metadata": {},
   "source": [
    "#### Implement a Dummy Classifier"
   ]
  },
  {
   "cell_type": "code",
   "execution_count": 68,
   "id": "7c3829cc",
   "metadata": {},
   "outputs": [
    {
     "name": "stdout",
     "output_type": "stream",
     "text": [
      "(445, 11) (446, 11) (445,) (446,)\n"
     ]
    },
    {
     "data": {
      "text/plain": [
       "DummyClassifier(strategy='stratified')"
      ]
     },
     "execution_count": 68,
     "metadata": {},
     "output_type": "execute_result"
    }
   ],
   "source": [
    "df = pd.read_csv('train.csv', index_col='PassengerId')\n",
    "\n",
    "X = df\n",
    "y = df['Survived']\n",
    "\n",
    "X_train, X_test, y_train, y_test = train_test_split(X,y, test_size=0.5,random_state= 42)\n",
    "print(X_train.shape, X_test.shape, y_train.shape, y_test.shape)\n",
    "\n",
    "dummy_clf = DummyClassifier(strategy='stratified')\n",
    "dummy_clf.fit(X_train, y_train)\n",
    "#dummy_clf.predict(X_train)\n",
    "#dummy_clf.predict(X_test)"
   ]
  },
  {
   "cell_type": "code",
   "execution_count": 69,
   "id": "d19525f3",
   "metadata": {},
   "outputs": [
    {
     "name": "stdout",
     "output_type": "stream",
     "text": [
      "0.3987730061349693\n",
      "0.329608938547486\n"
     ]
    }
   ],
   "source": [
    "dummy_recall_score_train = recall_score(y_train, dummy_clf.predict(X_train))\n",
    "dummy_recall_score_test = recall_score(y_test, dummy_clf.predict(X_test))\n",
    "\n",
    "print(dummy_recall_score_train)\n",
    "print(dummy_recall_score_test)"
   ]
  }
 ],
 "metadata": {
  "kernelspec": {
   "display_name": "Python 3 (ipykernel)",
   "language": "python",
   "name": "python3"
  },
  "language_info": {
   "codemirror_mode": {
    "name": "ipython",
    "version": 3
   },
   "file_extension": ".py",
   "mimetype": "text/x-python",
   "name": "python",
   "nbconvert_exporter": "python",
   "pygments_lexer": "ipython3",
   "version": "3.9.12"
  }
 },
 "nbformat": 4,
 "nbformat_minor": 5
}
