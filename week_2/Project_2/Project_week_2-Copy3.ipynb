{
 "cells": [
  {
   "cell_type": "code",
   "execution_count": 802,
   "id": "9ddf9f7c",
   "metadata": {},
   "outputs": [],
   "source": [
    "import pandas as pd\n",
    "import matplotlib.pyplot as plt\n",
    "import seaborn as sns\n",
    "import numpy as np\n",
    "\n",
    "from sklearn.linear_model import LogisticRegression\n",
    "from sklearn.model_selection import train_test_split\n",
    "\n",
    "from sklearn.preprocessing import StandardScaler, OneHotEncoder, KBinsDiscretizer, MinMaxScaler\n",
    "from sklearn.impute import SimpleImputer\n",
    "from sklearn.compose import ColumnTransformer\n",
    "from sklearn.pipeline import Pipeline\n",
    "from sklearn.metrics import f1_score, recall_score, precision_score, accuracy_score, roc_curve, roc_auc_score\n",
    "from sklearn.dummy import DummyClassifier\n",
    "from sklearn.ensemble import RandomForestClassifier\n"
   ]
  },
  {
   "cell_type": "code",
   "execution_count": 803,
   "id": "17f0948a",
   "metadata": {},
   "outputs": [
    {
     "data": {
      "text/html": [
       "<div>\n",
       "<style scoped>\n",
       "    .dataframe tbody tr th:only-of-type {\n",
       "        vertical-align: middle;\n",
       "    }\n",
       "\n",
       "    .dataframe tbody tr th {\n",
       "        vertical-align: top;\n",
       "    }\n",
       "\n",
       "    .dataframe thead th {\n",
       "        text-align: right;\n",
       "    }\n",
       "</style>\n",
       "<table border=\"1\" class=\"dataframe\">\n",
       "  <thead>\n",
       "    <tr style=\"text-align: right;\">\n",
       "      <th></th>\n",
       "      <th>Survived</th>\n",
       "      <th>Pclass</th>\n",
       "      <th>Name</th>\n",
       "      <th>Sex</th>\n",
       "      <th>Age</th>\n",
       "      <th>SibSp</th>\n",
       "      <th>Parch</th>\n",
       "      <th>Ticket</th>\n",
       "      <th>Fare</th>\n",
       "      <th>Cabin</th>\n",
       "      <th>Embarked</th>\n",
       "    </tr>\n",
       "    <tr>\n",
       "      <th>PassengerId</th>\n",
       "      <th></th>\n",
       "      <th></th>\n",
       "      <th></th>\n",
       "      <th></th>\n",
       "      <th></th>\n",
       "      <th></th>\n",
       "      <th></th>\n",
       "      <th></th>\n",
       "      <th></th>\n",
       "      <th></th>\n",
       "      <th></th>\n",
       "    </tr>\n",
       "  </thead>\n",
       "  <tbody>\n",
       "    <tr>\n",
       "      <th>1</th>\n",
       "      <td>0</td>\n",
       "      <td>3</td>\n",
       "      <td>Braund, Mr. Owen Harris</td>\n",
       "      <td>male</td>\n",
       "      <td>22.0</td>\n",
       "      <td>1</td>\n",
       "      <td>0</td>\n",
       "      <td>A/5 21171</td>\n",
       "      <td>7.2500</td>\n",
       "      <td>NaN</td>\n",
       "      <td>S</td>\n",
       "    </tr>\n",
       "    <tr>\n",
       "      <th>2</th>\n",
       "      <td>1</td>\n",
       "      <td>1</td>\n",
       "      <td>Cumings, Mrs. John Bradley (Florence Briggs Th...</td>\n",
       "      <td>female</td>\n",
       "      <td>38.0</td>\n",
       "      <td>1</td>\n",
       "      <td>0</td>\n",
       "      <td>PC 17599</td>\n",
       "      <td>71.2833</td>\n",
       "      <td>C85</td>\n",
       "      <td>C</td>\n",
       "    </tr>\n",
       "    <tr>\n",
       "      <th>3</th>\n",
       "      <td>1</td>\n",
       "      <td>3</td>\n",
       "      <td>Heikkinen, Miss. Laina</td>\n",
       "      <td>female</td>\n",
       "      <td>26.0</td>\n",
       "      <td>0</td>\n",
       "      <td>0</td>\n",
       "      <td>STON/O2. 3101282</td>\n",
       "      <td>7.9250</td>\n",
       "      <td>NaN</td>\n",
       "      <td>S</td>\n",
       "    </tr>\n",
       "    <tr>\n",
       "      <th>4</th>\n",
       "      <td>1</td>\n",
       "      <td>1</td>\n",
       "      <td>Futrelle, Mrs. Jacques Heath (Lily May Peel)</td>\n",
       "      <td>female</td>\n",
       "      <td>35.0</td>\n",
       "      <td>1</td>\n",
       "      <td>0</td>\n",
       "      <td>113803</td>\n",
       "      <td>53.1000</td>\n",
       "      <td>C123</td>\n",
       "      <td>S</td>\n",
       "    </tr>\n",
       "    <tr>\n",
       "      <th>5</th>\n",
       "      <td>0</td>\n",
       "      <td>3</td>\n",
       "      <td>Allen, Mr. William Henry</td>\n",
       "      <td>male</td>\n",
       "      <td>35.0</td>\n",
       "      <td>0</td>\n",
       "      <td>0</td>\n",
       "      <td>373450</td>\n",
       "      <td>8.0500</td>\n",
       "      <td>NaN</td>\n",
       "      <td>S</td>\n",
       "    </tr>\n",
       "  </tbody>\n",
       "</table>\n",
       "</div>"
      ],
      "text/plain": [
       "             Survived  Pclass  \\\n",
       "PassengerId                     \n",
       "1                   0       3   \n",
       "2                   1       1   \n",
       "3                   1       3   \n",
       "4                   1       1   \n",
       "5                   0       3   \n",
       "\n",
       "                                                          Name     Sex   Age  \\\n",
       "PassengerId                                                                    \n",
       "1                                      Braund, Mr. Owen Harris    male  22.0   \n",
       "2            Cumings, Mrs. John Bradley (Florence Briggs Th...  female  38.0   \n",
       "3                                       Heikkinen, Miss. Laina  female  26.0   \n",
       "4                 Futrelle, Mrs. Jacques Heath (Lily May Peel)  female  35.0   \n",
       "5                                     Allen, Mr. William Henry    male  35.0   \n",
       "\n",
       "             SibSp  Parch            Ticket     Fare Cabin Embarked  \n",
       "PassengerId                                                          \n",
       "1                1      0         A/5 21171   7.2500   NaN        S  \n",
       "2                1      0          PC 17599  71.2833   C85        C  \n",
       "3                0      0  STON/O2. 3101282   7.9250   NaN        S  \n",
       "4                1      0            113803  53.1000  C123        S  \n",
       "5                0      0            373450   8.0500   NaN        S  "
      ]
     },
     "execution_count": 803,
     "metadata": {},
     "output_type": "execute_result"
    }
   ],
   "source": [
    "df = pd.read_csv('train.csv', index_col='PassengerId')\n",
    "df.head()"
   ]
  },
  {
   "cell_type": "markdown",
   "id": "59bdf24f",
   "metadata": {},
   "source": [
    "#### Calculate the number of surviving/non-surviving passengers and display it as a bar plot."
   ]
  },
  {
   "cell_type": "code",
   "execution_count": 804,
   "id": "a2ecbed6",
   "metadata": {},
   "outputs": [
    {
     "data": {
      "text/plain": [
       "0    549\n",
       "1    342\n",
       "Name: Survived, dtype: int64"
      ]
     },
     "execution_count": 804,
     "metadata": {},
     "output_type": "execute_result"
    }
   ],
   "source": [
    "df['Survived'].value_counts()"
   ]
  },
  {
   "cell_type": "code",
   "execution_count": 805,
   "id": "f533432a",
   "metadata": {},
   "outputs": [
    {
     "data": {
      "text/plain": [
       "[Text(0, 0, 'Not survived :('), Text(1, 0, 'Survived! :D')]"
      ]
     },
     "execution_count": 805,
     "metadata": {},
     "output_type": "execute_result"
    },
    {
     "data": {
      "image/png": "[encoded data removed]",
      "text/plain": [
       "<Figure size 432x288 with 1 Axes>"
      ]
     },
     "metadata": {
      "needs_background": "light"
     },
     "output_type": "display_data"
    }
   ],
   "source": [
    "ax = df['Survived'].value_counts().plot(kind='bar')\n",
    "ax.set_xticklabels(['Not survived :(', 'Survived! :D'])"
   ]
  },
  {
   "cell_type": "markdown",
   "id": "bfaa3d10",
   "metadata": {},
   "source": [
    "#### Calculate the proportion of surviving 1st class passengers with regards to the total number of 1st class passengers.\n",
    "\n"
   ]
  },
  {
   "cell_type": "code",
   "execution_count": 806,
   "id": "cb0e2a2c",
   "metadata": {},
   "outputs": [
    {
     "data": {
      "text/plain": [
       "1    0.62963\n",
       "0    0.37037\n",
       "Name: Survived, dtype: float64"
      ]
     },
     "execution_count": 806,
     "metadata": {},
     "output_type": "execute_result"
    }
   ],
   "source": [
    "df['Survived'][df['Pclass'] == 1].value_counts(normalize=True)"
   ]
  },
  {
   "cell_type": "markdown",
   "id": "7104311b",
   "metadata": {},
   "source": [
    "#### Create a bar plot with separate bars for male/female passengers and 1st/2nd/3rd class passengers.\n",
    "\n"
   ]
  },
  {
   "cell_type": "code",
   "execution_count": 807,
   "id": "c38c340d",
   "metadata": {},
   "outputs": [
    {
     "data": {
      "text/plain": [
       "<AxesSubplot:xlabel='Pclass'>"
      ]
     },
     "execution_count": 807,
     "metadata": {},
     "output_type": "execute_result"
    },
    {
     "data": {
      "image/png": "[encoded data removed]",
      "text/plain": [
       "<Figure size 432x288 with 1 Axes>"
      ]
     },
     "metadata": {
      "needs_background": "light"
     },
     "output_type": "display_data"
    }
   ],
   "source": [
    "df_group = df.groupby(['Pclass','Sex'])['Sex'].count()\n",
    "df_group.unstack().plot(kind='bar')"
   ]
  },
  {
   "cell_type": "code",
   "execution_count": 808,
   "id": "6721547b",
   "metadata": {},
   "outputs": [
    {
     "data": {
      "text/plain": [
       "<AxesSubplot:xlabel='Pclass', ylabel='count'>"
      ]
     },
     "execution_count": 808,
     "metadata": {},
     "output_type": "execute_result"
    },
    {
     "data": {
      "image/png": "[encoded data removed]",
      "text/plain": [
       "<Figure size 432x288 with 1 Axes>"
      ]
     },
     "metadata": {
      "needs_background": "light"
     },
     "output_type": "display_data"
    }
   ],
   "source": [
    "sns.countplot(x='Pclass', hue='Sex', data=df)"
   ]
  },
  {
   "cell_type": "code",
   "execution_count": 809,
   "id": "fad0b0c7",
   "metadata": {},
   "outputs": [
    {
     "data": {
      "text/plain": [
       "<AxesSubplot:xlabel='Pclass', ylabel='count'>"
      ]
     },
     "execution_count": 809,
     "metadata": {},
     "output_type": "execute_result"
    },
    {
     "data": {
      "image/png": "[encoded data removed]",
      "text/plain": [
       "<Figure size 432x288 with 1 Axes>"
      ]
     },
     "metadata": {
      "needs_background": "light"
     },
     "output_type": "display_data"
    }
   ],
   "source": [
    "sns.countplot(x='Pclass', data=df)"
   ]
  },
  {
   "cell_type": "markdown",
   "id": "b6016754",
   "metadata": {},
   "source": [
    "#### Create a histogram showing the age distribution of passengers. Compare surviving/non-surviving passengers."
   ]
  },
  {
   "cell_type": "code",
   "execution_count": 810,
   "id": "16f85288",
   "metadata": {},
   "outputs": [
    {
     "data": {
      "text/plain": [
       "<AxesSubplot:ylabel='Frequency'>"
      ]
     },
     "execution_count": 810,
     "metadata": {},
     "output_type": "execute_result"
    },
    {
     "data": {
      "image/png": "[encoded data removed]",
      "text/plain": [
       "<Figure size 432x288 with 1 Axes>"
      ]
     },
     "metadata": {
      "needs_background": "light"
     },
     "output_type": "display_data"
    }
   ],
   "source": [
    "df.Age.plot(kind='hist', bins = 20)"
   ]
  },
  {
   "cell_type": "code",
   "execution_count": 811,
   "id": "6d71681a",
   "metadata": {},
   "outputs": [
    {
     "data": {
      "text/plain": [
       "PassengerId\n",
       "1      22.0\n",
       "5      35.0\n",
       "6       NaN\n",
       "7      54.0\n",
       "8       2.0\n",
       "       ... \n",
       "885    25.0\n",
       "886    39.0\n",
       "887    27.0\n",
       "889     NaN\n",
       "891    32.0\n",
       "Name: Age, Length: 549, dtype: float64"
      ]
     },
     "execution_count": 811,
     "metadata": {},
     "output_type": "execute_result"
    }
   ],
   "source": [
    "df['Age'][df['Survived']==0]"
   ]
  },
  {
   "cell_type": "markdown",
   "id": "feb43a59",
   "metadata": {},
   "source": [
    "#### Compare surviving/non-surviving passengers."
   ]
  },
  {
   "cell_type": "code",
   "execution_count": 812,
   "id": "f55278bc",
   "metadata": {},
   "outputs": [
    {
     "data": {
      "text/plain": [
       "(array([ 18.,  16.,  99., 110.,  64.,  45.,  38.,  15.,  13.,   6.]),\n",
       " array([ 1. ,  8.3, 15.6, 22.9, 30.2, 37.5, 44.8, 52.1, 59.4, 66.7, 74. ]),\n",
       " <BarContainer object of 10 artists>)"
      ]
     },
     "execution_count": 812,
     "metadata": {},
     "output_type": "execute_result"
    },
    {
     "data": {
      "image/png": "[encoded data removed]",
      "text/plain": [
       "<Figure size 432x288 with 1 Axes>"
      ]
     },
     "metadata": {
      "needs_background": "light"
     },
     "output_type": "display_data"
    }
   ],
   "source": [
    "#with matplotlib\n",
    "\n",
    "plt.hist(df['Age'][df['Survived']==1], alpha=0.5)\n",
    "plt.hist(df['Age'][df['Survived']==0], alpha=0.5)"
   ]
  },
  {
   "cell_type": "code",
   "execution_count": 813,
   "id": "61cbe29c",
   "metadata": {},
   "outputs": [
    {
     "data": {
      "text/plain": [
       "<AxesSubplot:xlabel='Age', ylabel='Count'>"
      ]
     },
     "execution_count": 813,
     "metadata": {},
     "output_type": "execute_result"
    },
    {
     "data": {
      "image/png": "[encoded data removed]",
      "text/plain": [
       "<Figure size 432x288 with 1 Axes>"
      ]
     },
     "metadata": {
      "needs_background": "light"
     },
     "output_type": "display_data"
    }
   ],
   "source": [
    "#with seaborn\n",
    "\n",
    "sns.histplot(x='Age', hue='Survived', data=df)"
   ]
  },
  {
   "cell_type": "markdown",
   "id": "32cd6de8",
   "metadata": {},
   "source": [
    "#### Calculate the average age for survived and drowned passengers separately.\n",
    "\n"
   ]
  },
  {
   "cell_type": "code",
   "execution_count": 814,
   "id": "cb235236",
   "metadata": {},
   "outputs": [
    {
     "name": "stdout",
     "output_type": "stream",
     "text": [
      "Average age of people who survived\n",
      "28.3\n",
      "Average age of people who died\n",
      "30.6\n"
     ]
    }
   ],
   "source": [
    "mean_age_survived = df['Age'][df['Survived'] == 1].mean()\n",
    "mean_age_survived = round(mean_age_survived, 1)\n",
    "\n",
    "mean_age_died = df['Age'][df['Survived'] == 0].mean()\n",
    "mean_age_died = round(mean_age_died, 1)\n",
    "\n",
    "print('Average age of people who survived')\n",
    "print(round(mean_age_survived, 1))\n",
    "\n",
    "print('Average age of people who died')\n",
    "print(round(mean_age_died, 1))"
   ]
  },
  {
   "cell_type": "code",
   "execution_count": 815,
   "id": "2d4188cc",
   "metadata": {},
   "outputs": [
    {
     "data": {
      "text/plain": [
       "Survived\n",
       "0    30.626179\n",
       "1    28.343690\n",
       "Name: Age, dtype: float64"
      ]
     },
     "execution_count": 815,
     "metadata": {},
     "output_type": "execute_result"
    }
   ],
   "source": [
    "df.groupby('Survived')['Age'].mean()"
   ]
  },
  {
   "cell_type": "markdown",
   "id": "fc767e80",
   "metadata": {},
   "source": [
    "#### Replace missing age values by the mean age."
   ]
  },
  {
   "cell_type": "code",
   "execution_count": 816,
   "id": "d418fb94",
   "metadata": {},
   "outputs": [
    {
     "data": {
      "text/plain": [
       "29.7"
      ]
     },
     "execution_count": 816,
     "metadata": {},
     "output_type": "execute_result"
    }
   ],
   "source": [
    "mean_age = round(df['Age'].mean(),1)\n",
    "mean_age"
   ]
  },
  {
   "cell_type": "code",
   "execution_count": 817,
   "id": "54c47148",
   "metadata": {},
   "outputs": [
    {
     "data": {
      "text/html": [
       "<div>\n",
       "<style scoped>\n",
       "    .dataframe tbody tr th:only-of-type {\n",
       "        vertical-align: middle;\n",
       "    }\n",
       "\n",
       "    .dataframe tbody tr th {\n",
       "        vertical-align: top;\n",
       "    }\n",
       "\n",
       "    .dataframe thead th {\n",
       "        text-align: right;\n",
       "    }\n",
       "</style>\n",
       "<table border=\"1\" class=\"dataframe\">\n",
       "  <thead>\n",
       "    <tr style=\"text-align: right;\">\n",
       "      <th></th>\n",
       "      <th>Survived</th>\n",
       "      <th>Pclass</th>\n",
       "      <th>Name</th>\n",
       "      <th>Sex</th>\n",
       "      <th>Age</th>\n",
       "      <th>SibSp</th>\n",
       "      <th>Parch</th>\n",
       "      <th>Ticket</th>\n",
       "      <th>Fare</th>\n",
       "      <th>Cabin</th>\n",
       "      <th>Embarked</th>\n",
       "    </tr>\n",
       "    <tr>\n",
       "      <th>PassengerId</th>\n",
       "      <th></th>\n",
       "      <th></th>\n",
       "      <th></th>\n",
       "      <th></th>\n",
       "      <th></th>\n",
       "      <th></th>\n",
       "      <th></th>\n",
       "      <th></th>\n",
       "      <th></th>\n",
       "      <th></th>\n",
       "      <th></th>\n",
       "    </tr>\n",
       "  </thead>\n",
       "  <tbody>\n",
       "    <tr>\n",
       "      <th>1</th>\n",
       "      <td>0</td>\n",
       "      <td>3</td>\n",
       "      <td>Braund, Mr. Owen Harris</td>\n",
       "      <td>male</td>\n",
       "      <td>22.0</td>\n",
       "      <td>1</td>\n",
       "      <td>0</td>\n",
       "      <td>A/5 21171</td>\n",
       "      <td>7.2500</td>\n",
       "      <td>NaN</td>\n",
       "      <td>S</td>\n",
       "    </tr>\n",
       "    <tr>\n",
       "      <th>2</th>\n",
       "      <td>1</td>\n",
       "      <td>1</td>\n",
       "      <td>Cumings, Mrs. John Bradley (Florence Briggs Th...</td>\n",
       "      <td>female</td>\n",
       "      <td>38.0</td>\n",
       "      <td>1</td>\n",
       "      <td>0</td>\n",
       "      <td>PC 17599</td>\n",
       "      <td>71.2833</td>\n",
       "      <td>C85</td>\n",
       "      <td>C</td>\n",
       "    </tr>\n",
       "    <tr>\n",
       "      <th>3</th>\n",
       "      <td>1</td>\n",
       "      <td>3</td>\n",
       "      <td>Heikkinen, Miss. Laina</td>\n",
       "      <td>female</td>\n",
       "      <td>26.0</td>\n",
       "      <td>0</td>\n",
       "      <td>0</td>\n",
       "      <td>STON/O2. 3101282</td>\n",
       "      <td>7.9250</td>\n",
       "      <td>NaN</td>\n",
       "      <td>S</td>\n",
       "    </tr>\n",
       "    <tr>\n",
       "      <th>4</th>\n",
       "      <td>1</td>\n",
       "      <td>1</td>\n",
       "      <td>Futrelle, Mrs. Jacques Heath (Lily May Peel)</td>\n",
       "      <td>female</td>\n",
       "      <td>35.0</td>\n",
       "      <td>1</td>\n",
       "      <td>0</td>\n",
       "      <td>113803</td>\n",
       "      <td>53.1000</td>\n",
       "      <td>C123</td>\n",
       "      <td>S</td>\n",
       "    </tr>\n",
       "    <tr>\n",
       "      <th>5</th>\n",
       "      <td>0</td>\n",
       "      <td>3</td>\n",
       "      <td>Allen, Mr. William Henry</td>\n",
       "      <td>male</td>\n",
       "      <td>35.0</td>\n",
       "      <td>0</td>\n",
       "      <td>0</td>\n",
       "      <td>373450</td>\n",
       "      <td>8.0500</td>\n",
       "      <td>NaN</td>\n",
       "      <td>S</td>\n",
       "    </tr>\n",
       "  </tbody>\n",
       "</table>\n",
       "</div>"
      ],
      "text/plain": [
       "             Survived  Pclass  \\\n",
       "PassengerId                     \n",
       "1                   0       3   \n",
       "2                   1       1   \n",
       "3                   1       3   \n",
       "4                   1       1   \n",
       "5                   0       3   \n",
       "\n",
       "                                                          Name     Sex   Age  \\\n",
       "PassengerId                                                                    \n",
       "1                                      Braund, Mr. Owen Harris    male  22.0   \n",
       "2            Cumings, Mrs. John Bradley (Florence Briggs Th...  female  38.0   \n",
       "3                                       Heikkinen, Miss. Laina  female  26.0   \n",
       "4                 Futrelle, Mrs. Jacques Heath (Lily May Peel)  female  35.0   \n",
       "5                                     Allen, Mr. William Henry    male  35.0   \n",
       "\n",
       "             SibSp  Parch            Ticket     Fare Cabin Embarked  \n",
       "PassengerId                                                          \n",
       "1                1      0         A/5 21171   7.2500   NaN        S  \n",
       "2                1      0          PC 17599  71.2833   C85        C  \n",
       "3                0      0  STON/O2. 3101282   7.9250   NaN        S  \n",
       "4                1      0            113803  53.1000  C123        S  \n",
       "5                0      0            373450   8.0500   NaN        S  "
      ]
     },
     "execution_count": 817,
     "metadata": {},
     "output_type": "execute_result"
    }
   ],
   "source": [
    "df['Age'].fillna(mean_age, inplace=True)\n",
    "df.head()"
   ]
  },
  {
   "cell_type": "markdown",
   "id": "db7dd2b6",
   "metadata": {},
   "source": [
    "#### Create a table counting the number of surviving/dead passengers separately for 1st/2nd/3rd class and male/female."
   ]
  },
  {
   "cell_type": "code",
   "execution_count": 818,
   "id": "5e3305ec",
   "metadata": {},
   "outputs": [
    {
     "data": {
      "text/html": [
       "<div>\n",
       "<style scoped>\n",
       "    .dataframe tbody tr th:only-of-type {\n",
       "        vertical-align: middle;\n",
       "    }\n",
       "\n",
       "    .dataframe tbody tr th {\n",
       "        vertical-align: top;\n",
       "    }\n",
       "\n",
       "    .dataframe thead th {\n",
       "        text-align: right;\n",
       "    }\n",
       "</style>\n",
       "<table border=\"1\" class=\"dataframe\">\n",
       "  <thead>\n",
       "    <tr style=\"text-align: right;\">\n",
       "      <th></th>\n",
       "      <th>Pclass</th>\n",
       "      <th>Sex</th>\n",
       "      <th>Survived</th>\n",
       "    </tr>\n",
       "  </thead>\n",
       "  <tbody>\n",
       "    <tr>\n",
       "      <th>0</th>\n",
       "      <td>1</td>\n",
       "      <td>female</td>\n",
       "      <td>94</td>\n",
       "    </tr>\n",
       "    <tr>\n",
       "      <th>1</th>\n",
       "      <td>1</td>\n",
       "      <td>male</td>\n",
       "      <td>122</td>\n",
       "    </tr>\n",
       "    <tr>\n",
       "      <th>2</th>\n",
       "      <td>2</td>\n",
       "      <td>female</td>\n",
       "      <td>76</td>\n",
       "    </tr>\n",
       "    <tr>\n",
       "      <th>3</th>\n",
       "      <td>2</td>\n",
       "      <td>male</td>\n",
       "      <td>108</td>\n",
       "    </tr>\n",
       "    <tr>\n",
       "      <th>4</th>\n",
       "      <td>3</td>\n",
       "      <td>female</td>\n",
       "      <td>144</td>\n",
       "    </tr>\n",
       "    <tr>\n",
       "      <th>5</th>\n",
       "      <td>3</td>\n",
       "      <td>male</td>\n",
       "      <td>347</td>\n",
       "    </tr>\n",
       "  </tbody>\n",
       "</table>\n",
       "</div>"
      ],
      "text/plain": [
       "   Pclass     Sex  Survived\n",
       "0       1  female        94\n",
       "1       1    male       122\n",
       "2       2  female        76\n",
       "3       2    male       108\n",
       "4       3  female       144\n",
       "5       3    male       347"
      ]
     },
     "execution_count": 818,
     "metadata": {},
     "output_type": "execute_result"
    }
   ],
   "source": [
    "df.groupby(['Pclass', 'Sex'])['Survived'].count().to_frame().reset_index()"
   ]
  },
  {
   "cell_type": "markdown",
   "id": "042d2a55",
   "metadata": {},
   "source": [
    "#### Build a Logistic Regression model"
   ]
  },
  {
   "cell_type": "code",
   "execution_count": 819,
   "id": "338f7fa0",
   "metadata": {},
   "outputs": [],
   "source": [
    "X = df[['Pclass']]\n",
    "y = df['Survived']"
   ]
  },
  {
   "cell_type": "code",
   "execution_count": 820,
   "id": "671aeb42",
   "metadata": {},
   "outputs": [
    {
     "name": "stdout",
     "output_type": "stream",
     "text": [
      "(891, 1)\n",
      "(891,)\n"
     ]
    }
   ],
   "source": [
    "#x should always have a number in the shape for column. Y is fine without\n",
    "print(X.shape)\n",
    "print(y.shape)"
   ]
  },
  {
   "cell_type": "code",
   "execution_count": 821,
   "id": "13e2ef9b",
   "metadata": {},
   "outputs": [],
   "source": [
    "X_train, X_test, y_train, y_test = train_test_split(X, y, test_size=0.2, random_state=42)"
   ]
  },
  {
   "cell_type": "code",
   "execution_count": 822,
   "id": "83c2c0a1",
   "metadata": {},
   "outputs": [
    {
     "data": {
      "text/plain": [
       "Survived      0\n",
       "Pclass        0\n",
       "Name          0\n",
       "Sex           0\n",
       "Age           0\n",
       "SibSp         0\n",
       "Parch         0\n",
       "Ticket        0\n",
       "Fare          0\n",
       "Cabin       687\n",
       "Embarked      2\n",
       "dtype: int64"
      ]
     },
     "execution_count": 822,
     "metadata": {},
     "output_type": "execute_result"
    }
   ],
   "source": [
    "df.isna().sum()"
   ]
  },
  {
   "cell_type": "code",
   "execution_count": 823,
   "id": "79d43283",
   "metadata": {},
   "outputs": [],
   "source": [
    "#optional normalizing\n",
    "\n",
    "#x_train = (x_train - x_train.mean()) / x_train.std()\n",
    "#x_test = (x_test - x_test.mean()) / x_test.std()"
   ]
  },
  {
   "cell_type": "code",
   "execution_count": 824,
   "id": "11cf8288",
   "metadata": {},
   "outputs": [],
   "source": [
    "model = LogisticRegression()"
   ]
  },
  {
   "cell_type": "code",
   "execution_count": 825,
   "id": "1dd3b253",
   "metadata": {},
   "outputs": [
    {
     "data": {
      "text/plain": [
       "LogisticRegression()"
      ]
     },
     "execution_count": 825,
     "metadata": {},
     "output_type": "execute_result"
    }
   ],
   "source": [
    "model.fit(X_train, y_train)"
   ]
  },
  {
   "cell_type": "markdown",
   "id": "536ec790",
   "metadata": {},
   "source": [
    "##### Print the coefficients calculated by the model."
   ]
  },
  {
   "cell_type": "code",
   "execution_count": 826,
   "id": "74f182d5",
   "metadata": {},
   "outputs": [
    {
     "data": {
      "text/plain": [
       "(array([[-0.80800402]]), array([1.33719422]))"
      ]
     },
     "execution_count": 826,
     "metadata": {},
     "output_type": "execute_result"
    }
   ],
   "source": [
    "model.coef_, model.intercept_"
   ]
  },
  {
   "cell_type": "code",
   "execution_count": 827,
   "id": "8eb047ca",
   "metadata": {},
   "outputs": [
    {
     "name": "stdout",
     "output_type": "stream",
     "text": [
      "0.672752808988764\n",
      "0.7039106145251397\n"
     ]
    }
   ],
   "source": [
    "print(model.score(X_train, y_train))\n",
    "print(model.score(X_test, y_test))"
   ]
  },
  {
   "cell_type": "markdown",
   "id": "43ce6f27",
   "metadata": {},
   "source": [
    "##### Calculate the probabilities for your data points belonging to the positive class."
   ]
  },
  {
   "cell_type": "code",
   "execution_count": 828,
   "id": "fc072e2f",
   "metadata": {},
   "outputs": [
    {
     "data": {
      "text/plain": [
       "array([[0.74778203, 0.25221797],\n",
       "       [0.37070578, 0.62929422],\n",
       "       [0.74778203, 0.25221797],\n",
       "       ...,\n",
       "       [0.74778203, 0.25221797],\n",
       "       [0.37070578, 0.62929422],\n",
       "       [0.74778203, 0.25221797]])"
      ]
     },
     "execution_count": 828,
     "metadata": {},
     "output_type": "execute_result"
    }
   ],
   "source": [
    "prob = model.predict_proba(X)\n",
    "prob"
   ]
  },
  {
   "cell_type": "code",
   "execution_count": 829,
   "id": "f12aacd4",
   "metadata": {},
   "outputs": [],
   "source": [
    "y_pred_test = (model.predict_proba(X)[:,1] >= 0.9)\n",
    "#y_pred_test"
   ]
  },
  {
   "cell_type": "code",
   "execution_count": 830,
   "id": "bc0405bc",
   "metadata": {},
   "outputs": [
    {
     "name": "stdout",
     "output_type": "stream",
     "text": [
      "0\n"
     ]
    }
   ],
   "source": [
    "#sum the number of people likely to survive based on threshold\n",
    "\n",
    "sum_likely_to_survive = 0\n",
    "\n",
    "for y in y_pred_test:\n",
    "    if y==True:\n",
    "        sum_likely_to_survive += 1\n",
    "        \n",
    "    else:\n",
    "        continue\n",
    "        \n",
    "print(sum_likely_to_survive)"
   ]
  },
  {
   "cell_type": "markdown",
   "id": "7ccb9084",
   "metadata": {},
   "source": [
    "Changing the threshold to 0.9 means we are asking if there was a 90% chance that this person would survive\n",
    "\n",
    "There are very little results\n",
    "\n",
    "On the other hand, if we're asking if there was 10% chance this person would survive, most of the results are positive"
   ]
  },
  {
   "cell_type": "markdown",
   "id": "5c632bdf",
   "metadata": {},
   "source": [
    "#### Add the option class_weight='balanced' to even out the bias caused by the non-survivors outnumbering the survivors.\n",
    "\n"
   ]
  },
  {
   "cell_type": "code",
   "execution_count": 831,
   "id": "62dfb882",
   "metadata": {},
   "outputs": [],
   "source": [
    "balanced_model = LogisticRegression(class_weight='balanced')"
   ]
  },
  {
   "cell_type": "code",
   "execution_count": 832,
   "id": "0545d70c",
   "metadata": {},
   "outputs": [
    {
     "data": {
      "text/plain": [
       "LogisticRegression(class_weight='balanced')"
      ]
     },
     "execution_count": 832,
     "metadata": {},
     "output_type": "execute_result"
    }
   ],
   "source": [
    "balanced_model.fit(X_train, y_train)"
   ]
  },
  {
   "cell_type": "code",
   "execution_count": 833,
   "id": "153b18e3",
   "metadata": {},
   "outputs": [
    {
     "data": {
      "text/plain": [
       "(array([[-0.81546945]]), array([1.85856922]))"
      ]
     },
     "execution_count": 833,
     "metadata": {},
     "output_type": "execute_result"
    }
   ],
   "source": [
    "balanced_model.coef_, balanced_model.intercept_\n",
    "\n",
    "#as a note, the coef and intercept of the non-balanced model were:\n",
    "#(array([[-0.80800402]]), array([1.33719422]))"
   ]
  },
  {
   "cell_type": "code",
   "execution_count": 834,
   "id": "a989e8b7",
   "metadata": {},
   "outputs": [
    {
     "data": {
      "text/plain": [
       "0.6657303370786517"
      ]
     },
     "execution_count": 834,
     "metadata": {},
     "output_type": "execute_result"
    }
   ],
   "source": [
    "balanced_model.score(X_train, y_train)"
   ]
  },
  {
   "cell_type": "markdown",
   "id": "e6cc0f25",
   "metadata": {},
   "source": [
    "#### Create a few ColumnTransformers and train them on the Titanic data"
   ]
  },
  {
   "cell_type": "markdown",
   "id": "d00613e8",
   "metadata": {},
   "source": [
    "We start by reloading the dataframe to reset the transformations made above"
   ]
  },
  {
   "cell_type": "code",
   "execution_count": 835,
   "id": "a5c2485f",
   "metadata": {},
   "outputs": [],
   "source": [
    "df = pd.read_csv('train.csv', index_col='PassengerId')"
   ]
  },
  {
   "cell_type": "code",
   "execution_count": 836,
   "id": "f342a7ab",
   "metadata": {},
   "outputs": [],
   "source": [
    "X = df[['Name','Pclass','Sex','Age','Fare','Embarked', 'SibSp', 'Parch', 'Cabin']]\n",
    "y = df['Survived']"
   ]
  },
  {
   "cell_type": "code",
   "execution_count": 837,
   "id": "b18af646",
   "metadata": {},
   "outputs": [],
   "source": [
    "X_train, X_test, y_train, y_test = train_test_split(X,y, test_size=0.25,random_state= 100)"
   ]
  },
  {
   "cell_type": "code",
   "execution_count": 838,
   "id": "aa052140",
   "metadata": {},
   "outputs": [],
   "source": [
    "#X_train_trans.shape, X_test_trans.shape, y_train_trans.shape, y_test_trans.shape"
   ]
  },
  {
   "cell_type": "markdown",
   "id": "11171b1f",
   "metadata": {},
   "source": [
    "The title of each passenger can be extracted from the name to create a more useful column \"Title\""
   ]
  },
  {
   "cell_type": "code",
   "execution_count": 839,
   "id": "8af768b5",
   "metadata": {},
   "outputs": [],
   "source": [
    "def get_title(name):\n",
    "    \n",
    "    #titles_list = []\n",
    "    \n",
    "    split = name.split(\".\")\n",
    "    title = split[0].split(\",\")[1].strip()\n",
    "        #titles_list.append(title)\n",
    "        \n",
    "    return title\n",
    "#get_title(\"Dooley, Mr. Patrick\")"
   ]
  },
  {
   "cell_type": "code",
   "execution_count": 840,
   "id": "2913b7ca",
   "metadata": {},
   "outputs": [],
   "source": [
    "X_train['Title'] = X_train['Name'].apply(get_title)\n",
    "X_train['mean_age'] = X_train.groupby('Title')['Age'].transform(\"mean\")\n",
    "X_train['Age'] = X_train.apply(lambda x: round(x['mean_age'],0) if pd.isna(x['Age']) else x['Age'], axis=1)\n",
    "X_train.drop(['mean_age', 'Name'], axis=1, inplace=True)"
   ]
  },
  {
   "cell_type": "code",
   "execution_count": 841,
   "id": "0c234b5c",
   "metadata": {},
   "outputs": [],
   "source": [
    "X_test['Title'] = X_test['Name'].apply(get_title)\n",
    "X_test['mean_age'] = X_test.groupby('Title')['Age'].transform(\"mean\")\n",
    "X_test['Age'] = X_test.apply(lambda x: round(x['mean_age'],0) if pd.isna(x['Age']) else x['Age'], axis=1)\n",
    "X_test.drop(['mean_age','Name'], axis=1, inplace=True)\n"
   ]
  },
  {
   "cell_type": "markdown",
   "id": "d03e82a4",
   "metadata": {},
   "source": [
    "The number of Siblings and Parents/Children can be combined into a Family_aboard column"
   ]
  },
  {
   "cell_type": "code",
   "execution_count": 842,
   "id": "6e7a79af",
   "metadata": {},
   "outputs": [],
   "source": [
    "X_train['Family_aboard'] = X_train['SibSp'] + X_train['Parch']\n",
    "X_train.drop(['SibSp', 'Parch'], axis=1, inplace=True)"
   ]
  },
  {
   "cell_type": "code",
   "execution_count": 843,
   "id": "9c7ae178",
   "metadata": {},
   "outputs": [],
   "source": [
    "X_test['Family_aboard'] = X_test['SibSp'] + X_test['Parch']\n",
    "X_test.drop(['SibSp', 'Parch'], axis=1, inplace=True)"
   ]
  },
  {
   "cell_type": "markdown",
   "id": "7db2da40",
   "metadata": {},
   "source": [
    "The cabin and fare can be used to create a new column that groups people who were far above the water"
   ]
  },
  {
   "cell_type": "code",
   "execution_count": 844,
   "id": "9617dc9a",
   "metadata": {},
   "outputs": [],
   "source": [
    "def modify_cabins(cabin):\n",
    "        cabin = cabin[0]\n",
    "        return cabin"
   ]
  },
  {
   "cell_type": "code",
   "execution_count": 845,
   "id": "fd9a60ff",
   "metadata": {},
   "outputs": [],
   "source": [
    "X_train['Cabin'] = X_train['Cabin'].apply(lambda x: modify_cabins(x) if pd.notnull(x) else x)\n",
    "X_train['Above_deck'] = X_train.apply(lambda x: 1 if (x['Fare'] > 100 or x['Cabin'] in ['A','B','C']) else 0, axis=1)\n",
    "X_train.drop('Cabin', axis=1, inplace=True)"
   ]
  },
  {
   "cell_type": "code",
   "execution_count": 846,
   "id": "fb9b37ca",
   "metadata": {},
   "outputs": [],
   "source": [
    "X_test['Cabin'] = X_test['Cabin'].apply(lambda x: modify_cabins(x) if pd.notnull(x) else x)\n",
    "X_test['Above_deck'] = X_test.apply(lambda x: 1 if (x['Fare'] > 100 or x['Cabin'] in ['A','B','C']) else 0, axis=1)\n",
    "X_test.drop('Cabin', axis=1, inplace=True)"
   ]
  },
  {
   "cell_type": "code",
   "execution_count": 847,
   "id": "c1612c9e",
   "metadata": {},
   "outputs": [
    {
     "data": {
      "text/plain": [
       "((223, 8), (223,), (668, 8), (668,))"
      ]
     },
     "execution_count": 847,
     "metadata": {},
     "output_type": "execute_result"
    }
   ],
   "source": [
    "X_test.shape,  y_test.shape, X_train.shape, y_train.shape"
   ]
  },
  {
   "cell_type": "markdown",
   "id": "e6abc540",
   "metadata": {},
   "source": [
    "We can now proceed with the transformations of our columns"
   ]
  },
  {
   "cell_type": "code",
   "execution_count": 848,
   "id": "18ab5b6a",
   "metadata": {},
   "outputs": [],
   "source": [
    "pipeline_family = Pipeline([\n",
    "    (\"binning\", KBinsDiscretizer(n_bins=2, encode='onehot-dense', strategy='kmeans')),\n",
    "])"
   ]
  },
  {
   "cell_type": "code",
   "execution_count": 849,
   "id": "31979a92",
   "metadata": {},
   "outputs": [],
   "source": [
    "pipeline_sex = Pipeline([\n",
    "    (\"encoder\", OneHotEncoder(handle_unknown=\"ignore\", sparse=False, drop=\"if_binary\")),\n",
    "])"
   ]
  },
  {
   "cell_type": "code",
   "execution_count": 850,
   "id": "f7021e78",
   "metadata": {},
   "outputs": [],
   "source": [
    "pipeline_age = Pipeline([\n",
    "    (\"imputer\", SimpleImputer(strategy='most_frequent')),\n",
    "    (\"binning\", KBinsDiscretizer(n_bins=4, encode='onehot-dense', strategy='uniform'))\n",
    "])"
   ]
  },
  {
   "cell_type": "code",
   "execution_count": 851,
   "id": "aa31b64b",
   "metadata": {},
   "outputs": [],
   "source": [
    "pipeline_embarked = Pipeline([\n",
    "    (\"imputer\", SimpleImputer(strategy='most_frequent')),\n",
    "    (\"encoder\", OneHotEncoder(handle_unknown=\"ignore\", sparse=False))\n",
    "])"
   ]
  },
  {
   "cell_type": "code",
   "execution_count": 852,
   "id": "b497714b",
   "metadata": {},
   "outputs": [],
   "source": [
    "pipeline_fare = Pipeline([\n",
    "    (\"binning\", KBinsDiscretizer(n_bins=2, encode='onehot-dense', strategy='uniform'))\n",
    "])"
   ]
  },
  {
   "cell_type": "code",
   "execution_count": 853,
   "id": "ff195a6c",
   "metadata": {},
   "outputs": [],
   "source": [
    "pipeline_class = Pipeline([\n",
    "    (\"encoder\", OneHotEncoder(handle_unknown=\"ignore\", sparse=False))\n",
    "])"
   ]
  },
  {
   "cell_type": "code",
   "execution_count": 854,
   "id": "daaaa4ad",
   "metadata": {},
   "outputs": [],
   "source": [
    "pipeline_deck = Pipeline([\n",
    "    (\"encoder\", OneHotEncoder(handle_unknown=\"ignore\", sparse=False, drop='if_binary'))\n",
    "])"
   ]
  },
  {
   "cell_type": "code",
   "execution_count": 855,
   "id": "06964a85",
   "metadata": {},
   "outputs": [],
   "source": [
    "transformer = ColumnTransformer(\n",
    "    [\n",
    "        (\"embarked\", pipeline_embarked, ['Embarked']),\n",
    "        (\"family\", pipeline_family, ['Family_aboard']),\n",
    "        (\"sex\", pipeline_sex, ['Sex']),\n",
    "        ('fare', pipeline_fare, ['Fare']),\n",
    "        (\"age\", pipeline_age, ['Age']),\n",
    "        (\"class\", pipeline_class, ['Pclass']),\n",
    "        (\"deck\", pipeline_deck, ['Above_deck'])\n",
    "    ]\n",
    ")"
   ]
  },
  {
   "cell_type": "code",
   "execution_count": 856,
   "id": "1f8374f3",
   "metadata": {},
   "outputs": [
    {
     "data": {
      "text/plain": [
       "\"pipeline = Pipeline(\\n    [\\n        ('preprocessor', transformer),\\n        ('clf', LogisticRegression())\\n    ]\\n)\""
      ]
     },
     "execution_count": 856,
     "metadata": {},
     "output_type": "execute_result"
    }
   ],
   "source": [
    "\"\"\"pipeline = Pipeline(\n",
    "    [\n",
    "        ('preprocessor', transformer),\n",
    "        ('clf', LogisticRegression())\n",
    "    ]\n",
    ")\"\"\""
   ]
  },
  {
   "cell_type": "code",
   "execution_count": 857,
   "id": "75f94ddb",
   "metadata": {},
   "outputs": [
    {
     "data": {
      "text/plain": [
       "'pipeline.fit(X_train, y_train)\\ny_pred = pipeline.predict(X_test)\\nlen(y_pred)'"
      ]
     },
     "execution_count": 857,
     "metadata": {},
     "output_type": "execute_result"
    }
   ],
   "source": [
    "\"\"\"pipeline.fit(X_train, y_train)\n",
    "y_pred = pipeline.predict(X_test)\n",
    "len(y_pred)\"\"\""
   ]
  },
  {
   "cell_type": "code",
   "execution_count": 858,
   "id": "ce092f48",
   "metadata": {},
   "outputs": [
    {
     "data": {
      "text/plain": [
       "223"
      ]
     },
     "execution_count": 858,
     "metadata": {},
     "output_type": "execute_result"
    }
   ],
   "source": [
    "len(y_test)"
   ]
  },
  {
   "cell_type": "code",
   "execution_count": 859,
   "id": "37bae45c",
   "metadata": {},
   "outputs": [
    {
     "data": {
      "text/plain": [
       "LogisticRegression()"
      ]
     },
     "execution_count": 859,
     "metadata": {},
     "output_type": "execute_result"
    }
   ],
   "source": [
    "X_train_FE = transformer.fit_transform(X_train)\n",
    "X_test_FE = transformer.transform(X_test)\n",
    "clf = LogisticRegression()\n",
    "clf.fit(X_train_FE, y_train)"
   ]
  },
  {
   "cell_type": "code",
   "execution_count": 860,
   "id": "c7c064bb",
   "metadata": {},
   "outputs": [
    {
     "name": "stdout",
     "output_type": "stream",
     "text": [
      "Accuracy score training dataset\n",
      "0.8248502994011976\n",
      "\n",
      "Accuracy score test dataset\n",
      "0.7982062780269058\n"
     ]
    }
   ],
   "source": [
    "print('Accuracy score training dataset')\n",
    "print(clf.score(X_train_FE, y_train))\n",
    "print()\n",
    "print('Accuracy score test dataset')\n",
    "print(clf.score(X_test_FE, y_test) )"
   ]
  },
  {
   "cell_type": "code",
   "execution_count": 861,
   "id": "2b56d288",
   "metadata": {},
   "outputs": [],
   "source": [
    "#clf.predict(X_test_FE)"
   ]
  },
  {
   "cell_type": "markdown",
   "id": "6455be46",
   "metadata": {},
   "source": [
    "Benchmark score to beat:\n",
    "0.8158682634730539\n",
    "\n",
    "Test score to beat:\n",
    "0.8565022421524664\n"
   ]
  },
  {
   "cell_type": "markdown",
   "id": "76df5a20",
   "metadata": {},
   "source": [
    "#### Calculations of scores"
   ]
  },
  {
   "cell_type": "code",
   "execution_count": 862,
   "id": "7931c83b",
   "metadata": {},
   "outputs": [],
   "source": [
    "#accuracy\n",
    "accuracy_score_train = accuracy_score(y_train, clf.predict(X_train_FE), normalize=True)\n",
    "accuracy_score_test = accuracy_score(y_test, clf.predict(X_test_FE), normalize=True)\n",
    "\n",
    "#precision\n",
    "precision_score_train = precision_score(y_train, clf.predict(X_train_FE))\n",
    "precision_score_test = precision_score(y_test, clf.predict(X_test_FE))\n",
    "\n",
    "#recall\n",
    "recall_score_train = recall_score(y_train, clf.predict(X_train_FE))\n",
    "recall_score_test = recall_score(y_test, clf.predict(X_test_FE))\n",
    "\n",
    "#area under the curve\n",
    "y_pred_proba_test = clf.predict_proba(X_test_FE)[::,1]\n",
    "auc_test = roc_auc_score(y_test, y_pred_proba_test)\n",
    "\n",
    "y_pred_proba_train = clf.predict_proba(X_train_FE)[::,1]\n",
    "auc_train = roc_auc_score(y_train, y_pred_proba_train)"
   ]
  },
  {
   "cell_type": "markdown",
   "id": "770bc0ec",
   "metadata": {},
   "source": [
    "The scores will be more readeable in a dataframe format"
   ]
  },
  {
   "cell_type": "code",
   "execution_count": 863,
   "id": "b856c883",
   "metadata": {},
   "outputs": [
    {
     "data": {
      "text/html": [
       "<div>\n",
       "<style scoped>\n",
       "    .dataframe tbody tr th:only-of-type {\n",
       "        vertical-align: middle;\n",
       "    }\n",
       "\n",
       "    .dataframe tbody tr th {\n",
       "        vertical-align: top;\n",
       "    }\n",
       "\n",
       "    .dataframe thead th {\n",
       "        text-align: right;\n",
       "    }\n",
       "</style>\n",
       "<table border=\"1\" class=\"dataframe\">\n",
       "  <thead>\n",
       "    <tr style=\"text-align: right;\">\n",
       "      <th></th>\n",
       "      <th>Metrics</th>\n",
       "      <th>Train</th>\n",
       "      <th>Test</th>\n",
       "    </tr>\n",
       "  </thead>\n",
       "  <tbody>\n",
       "    <tr>\n",
       "      <th>0</th>\n",
       "      <td>accuracy</td>\n",
       "      <td>0.824850</td>\n",
       "      <td>0.798206</td>\n",
       "    </tr>\n",
       "    <tr>\n",
       "      <th>1</th>\n",
       "      <td>precision</td>\n",
       "      <td>0.802817</td>\n",
       "      <td>0.840000</td>\n",
       "    </tr>\n",
       "    <tr>\n",
       "      <th>2</th>\n",
       "      <td>recall</td>\n",
       "      <td>0.695122</td>\n",
       "      <td>0.656250</td>\n",
       "    </tr>\n",
       "    <tr>\n",
       "      <th>3</th>\n",
       "      <td>auc</td>\n",
       "      <td>0.869567</td>\n",
       "      <td>0.852034</td>\n",
       "    </tr>\n",
       "  </tbody>\n",
       "</table>\n",
       "</div>"
      ],
      "text/plain": [
       "     Metrics     Train      Test\n",
       "0   accuracy  0.824850  0.798206\n",
       "1  precision  0.802817  0.840000\n",
       "2     recall  0.695122  0.656250\n",
       "3        auc  0.869567  0.852034"
      ]
     },
     "execution_count": 863,
     "metadata": {},
     "output_type": "execute_result"
    }
   ],
   "source": [
    "training_scores = [accuracy_score_train, precision_score_train, recall_score_train, auc_train]\n",
    "test_scores = [accuracy_score_test, precision_score_test, recall_score_test, auc_test]\n",
    "\n",
    "d = {'Metrics': ['accuracy', 'precision','recall','auc'], 'Train': training_scores, 'Test': test_scores}\n",
    "\n",
    "df_scores = pd.DataFrame(data=d)\n",
    "df_scores"
   ]
  },
  {
   "cell_type": "markdown",
   "id": "feeb36e1",
   "metadata": {},
   "source": [
    "RoC curve"
   ]
  },
  {
   "cell_type": "code",
   "execution_count": 864,
   "id": "9cf11081",
   "metadata": {},
   "outputs": [
    {
     "data": {
      "image/png": "[encoded data removed]",
      "text/plain": [
       "<Figure size 432x288 with 1 Axes>"
      ]
     },
     "metadata": {
      "needs_background": "light"
     },
     "output_type": "display_data"
    }
   ],
   "source": [
    "fpr_test, tpr_test, _test = roc_curve(y_test,  y_pred_proba_test)\n",
    "\n",
    "plt.plot(fpr_test,tpr_test)\n",
    "plt.ylabel('True Positive Rate')\n",
    "plt.xlabel('False Positive Rate')\n",
    "plt.show()"
   ]
  },
  {
   "cell_type": "markdown",
   "id": "b44d3058",
   "metadata": {},
   "source": [
    "#### Implement a random forest"
   ]
  },
  {
   "cell_type": "code",
   "execution_count": 865,
   "id": "8eb91778",
   "metadata": {},
   "outputs": [],
   "source": [
    "from sklearn.ensemble import RandomForestClassifier"
   ]
  },
  {
   "cell_type": "code",
   "execution_count": 866,
   "id": "c5f0e5d2",
   "metadata": {},
   "outputs": [
    {
     "data": {
      "text/html": [
       "<div>\n",
       "<style scoped>\n",
       "    .dataframe tbody tr th:only-of-type {\n",
       "        vertical-align: middle;\n",
       "    }\n",
       "\n",
       "    .dataframe tbody tr th {\n",
       "        vertical-align: top;\n",
       "    }\n",
       "\n",
       "    .dataframe thead th {\n",
       "        text-align: right;\n",
       "    }\n",
       "</style>\n",
       "<table border=\"1\" class=\"dataframe\">\n",
       "  <thead>\n",
       "    <tr style=\"text-align: right;\">\n",
       "      <th></th>\n",
       "      <th>Survived</th>\n",
       "      <th>Pclass</th>\n",
       "      <th>Name</th>\n",
       "      <th>Sex</th>\n",
       "      <th>Age</th>\n",
       "      <th>SibSp</th>\n",
       "      <th>Parch</th>\n",
       "      <th>Ticket</th>\n",
       "      <th>Fare</th>\n",
       "      <th>Cabin</th>\n",
       "      <th>Embarked</th>\n",
       "    </tr>\n",
       "    <tr>\n",
       "      <th>PassengerId</th>\n",
       "      <th></th>\n",
       "      <th></th>\n",
       "      <th></th>\n",
       "      <th></th>\n",
       "      <th></th>\n",
       "      <th></th>\n",
       "      <th></th>\n",
       "      <th></th>\n",
       "      <th></th>\n",
       "      <th></th>\n",
       "      <th></th>\n",
       "    </tr>\n",
       "  </thead>\n",
       "  <tbody>\n",
       "    <tr>\n",
       "      <th>1</th>\n",
       "      <td>0</td>\n",
       "      <td>3</td>\n",
       "      <td>Braund, Mr. Owen Harris</td>\n",
       "      <td>male</td>\n",
       "      <td>22.0</td>\n",
       "      <td>1</td>\n",
       "      <td>0</td>\n",
       "      <td>A/5 21171</td>\n",
       "      <td>7.2500</td>\n",
       "      <td>NaN</td>\n",
       "      <td>S</td>\n",
       "    </tr>\n",
       "    <tr>\n",
       "      <th>2</th>\n",
       "      <td>1</td>\n",
       "      <td>1</td>\n",
       "      <td>Cumings, Mrs. John Bradley (Florence Briggs Th...</td>\n",
       "      <td>female</td>\n",
       "      <td>38.0</td>\n",
       "      <td>1</td>\n",
       "      <td>0</td>\n",
       "      <td>PC 17599</td>\n",
       "      <td>71.2833</td>\n",
       "      <td>C85</td>\n",
       "      <td>C</td>\n",
       "    </tr>\n",
       "  </tbody>\n",
       "</table>\n",
       "</div>"
      ],
      "text/plain": [
       "             Survived  Pclass  \\\n",
       "PassengerId                     \n",
       "1                   0       3   \n",
       "2                   1       1   \n",
       "\n",
       "                                                          Name     Sex   Age  \\\n",
       "PassengerId                                                                    \n",
       "1                                      Braund, Mr. Owen Harris    male  22.0   \n",
       "2            Cumings, Mrs. John Bradley (Florence Briggs Th...  female  38.0   \n",
       "\n",
       "             SibSp  Parch     Ticket     Fare Cabin Embarked  \n",
       "PassengerId                                                   \n",
       "1                1      0  A/5 21171   7.2500   NaN        S  \n",
       "2                1      0   PC 17599  71.2833   C85        C  "
      ]
     },
     "execution_count": 866,
     "metadata": {},
     "output_type": "execute_result"
    }
   ],
   "source": [
    "df = pd.read_csv('train.csv', index_col='PassengerId')\n",
    "df.head(2)"
   ]
  },
  {
   "cell_type": "code",
   "execution_count": 867,
   "id": "66b111d1",
   "metadata": {},
   "outputs": [
    {
     "data": {
      "text/plain": [
       "(891, 9)"
      ]
     },
     "execution_count": 867,
     "metadata": {},
     "output_type": "execute_result"
    }
   ],
   "source": [
    "X=df[['Pclass','Name','Sex','Age','SibSp', 'Parch', 'Fare','Cabin', 'Embarked']]\n",
    "y=df['Survived']\n",
    "X.shape"
   ]
  },
  {
   "cell_type": "code",
   "execution_count": 868,
   "id": "25d7f353",
   "metadata": {},
   "outputs": [],
   "source": [
    "X_train, X_test, y_train, y_test = train_test_split(X,y, test_size=0.25,random_state= 42)"
   ]
  },
  {
   "cell_type": "code",
   "execution_count": 869,
   "id": "e0ea23c7",
   "metadata": {},
   "outputs": [],
   "source": [
    "def get_title(name):\n",
    "    \n",
    "    #titles_list = []\n",
    "    \n",
    "    split = name.split(\".\")\n",
    "    title = split[0].split(\",\")[1].strip()\n",
    "        #titles_list.append(title)\n",
    "        \n",
    "    return title\n",
    "#get_title(\"Dooley, Mr. Patrick\")"
   ]
  },
  {
   "cell_type": "code",
   "execution_count": 870,
   "id": "8a86486e",
   "metadata": {},
   "outputs": [],
   "source": [
    "X_train['Title'] = X_train['Name'].apply(get_title)\n",
    "X_train['mean_age'] = X_train.groupby('Title')['Age'].transform(\"mean\")\n",
    "X_train['Age'] = X_train.apply(lambda x: round(x['mean_age'],0) if pd.isna(x['Age']) else x['Age'], axis=1)\n",
    "X_train.drop(['mean_age','Name'], axis=1, inplace=True)"
   ]
  },
  {
   "cell_type": "code",
   "execution_count": 871,
   "id": "14c0e664",
   "metadata": {},
   "outputs": [],
   "source": [
    "X_test['Title'] = X_test['Name'].apply(get_title)\n",
    "X_test['mean_age'] = X_test.groupby('Title')['Age'].transform(\"mean\")\n",
    "X_test['Age'] = X_test.apply(lambda x: round(x['mean_age'],0) if pd.isna(x['Age']) else x['Age'], axis=1)\n",
    "X_test.drop(['mean_age','Name'], axis=1, inplace=True)"
   ]
  },
  {
   "cell_type": "code",
   "execution_count": 872,
   "id": "19d7125e",
   "metadata": {},
   "outputs": [],
   "source": [
    "X_train['Family_aboard'] = X_train['SibSp'] + X_train['Parch']\n",
    "X_train.drop(['SibSp', 'Parch'], axis=1, inplace=True)"
   ]
  },
  {
   "cell_type": "code",
   "execution_count": 873,
   "id": "0964f573",
   "metadata": {},
   "outputs": [],
   "source": [
    "X_test['Family_aboard'] = X_test['SibSp'] + X_test['Parch']\n",
    "X_test.drop(['SibSp', 'Parch'], axis=1, inplace=True)"
   ]
  },
  {
   "cell_type": "code",
   "execution_count": 874,
   "id": "802dede7",
   "metadata": {},
   "outputs": [],
   "source": [
    "def modify_cabins(cabin):\n",
    "        cabin = cabin[0]\n",
    "        return cabin"
   ]
  },
  {
   "cell_type": "code",
   "execution_count": 875,
   "id": "90dc4b7a",
   "metadata": {},
   "outputs": [],
   "source": [
    "X_train['Cabin'] = X_train['Cabin'].apply(lambda x: modify_cabins(x) if pd.notnull(x) else x)\n",
    "X_train['Above_deck'] = X_train.apply(lambda x: 1 if (x['Fare'] > 100 or x['Cabin'] in ['A','B','C']) else 0, axis=1)\n",
    "X_train.drop(['Cabin'], axis=1, inplace=True)"
   ]
  },
  {
   "cell_type": "code",
   "execution_count": 876,
   "id": "110e23a5",
   "metadata": {},
   "outputs": [],
   "source": [
    "X_test['Cabin'] = X_test['Cabin'].apply(lambda x: modify_cabins(x) if pd.notnull(x) else x)\n",
    "X_test['Above_deck'] = X_test.apply(lambda x: 1 if (x['Fare'] > 100 or x['Cabin'] in ['A','B','C']) else 0, axis=1)\n",
    "X_test.drop(['Cabin'], axis=1, inplace=True)"
   ]
  },
  {
   "cell_type": "code",
   "execution_count": 877,
   "id": "3ab0396c",
   "metadata": {},
   "outputs": [
    {
     "data": {
      "text/plain": [
       "((223, 8), (223,), (668, 8), (668,))"
      ]
     },
     "execution_count": 877,
     "metadata": {},
     "output_type": "execute_result"
    }
   ],
   "source": [
    "X_test.shape,  y_test.shape, X_train.shape, y_train.shape"
   ]
  },
  {
   "cell_type": "code",
   "execution_count": 878,
   "id": "eba7cc05",
   "metadata": {},
   "outputs": [
    {
     "data": {
      "text/html": [
       "<div>\n",
       "<style scoped>\n",
       "    .dataframe tbody tr th:only-of-type {\n",
       "        vertical-align: middle;\n",
       "    }\n",
       "\n",
       "    .dataframe tbody tr th {\n",
       "        vertical-align: top;\n",
       "    }\n",
       "\n",
       "    .dataframe thead th {\n",
       "        text-align: right;\n",
       "    }\n",
       "</style>\n",
       "<table border=\"1\" class=\"dataframe\">\n",
       "  <thead>\n",
       "    <tr style=\"text-align: right;\">\n",
       "      <th></th>\n",
       "      <th>Pclass</th>\n",
       "      <th>Sex</th>\n",
       "      <th>Age</th>\n",
       "      <th>Fare</th>\n",
       "      <th>Embarked</th>\n",
       "      <th>Title</th>\n",
       "      <th>Family_aboard</th>\n",
       "      <th>Above_deck</th>\n",
       "    </tr>\n",
       "    <tr>\n",
       "      <th>PassengerId</th>\n",
       "      <th></th>\n",
       "      <th></th>\n",
       "      <th></th>\n",
       "      <th></th>\n",
       "      <th></th>\n",
       "      <th></th>\n",
       "      <th></th>\n",
       "      <th></th>\n",
       "    </tr>\n",
       "  </thead>\n",
       "  <tbody>\n",
       "    <tr>\n",
       "      <th>299</th>\n",
       "      <td>1</td>\n",
       "      <td>male</td>\n",
       "      <td>32.00</td>\n",
       "      <td>30.5000</td>\n",
       "      <td>S</td>\n",
       "      <td>Mr</td>\n",
       "      <td>0</td>\n",
       "      <td>1</td>\n",
       "    </tr>\n",
       "    <tr>\n",
       "      <th>885</th>\n",
       "      <td>3</td>\n",
       "      <td>male</td>\n",
       "      <td>25.00</td>\n",
       "      <td>7.0500</td>\n",
       "      <td>S</td>\n",
       "      <td>Mr</td>\n",
       "      <td>0</td>\n",
       "      <td>0</td>\n",
       "    </tr>\n",
       "    <tr>\n",
       "      <th>248</th>\n",
       "      <td>2</td>\n",
       "      <td>female</td>\n",
       "      <td>24.00</td>\n",
       "      <td>14.5000</td>\n",
       "      <td>S</td>\n",
       "      <td>Mrs</td>\n",
       "      <td>2</td>\n",
       "      <td>0</td>\n",
       "    </tr>\n",
       "    <tr>\n",
       "      <th>479</th>\n",
       "      <td>3</td>\n",
       "      <td>male</td>\n",
       "      <td>22.00</td>\n",
       "      <td>7.5208</td>\n",
       "      <td>S</td>\n",
       "      <td>Mr</td>\n",
       "      <td>0</td>\n",
       "      <td>0</td>\n",
       "    </tr>\n",
       "    <tr>\n",
       "      <th>306</th>\n",
       "      <td>1</td>\n",
       "      <td>male</td>\n",
       "      <td>0.92</td>\n",
       "      <td>151.5500</td>\n",
       "      <td>S</td>\n",
       "      <td>Master</td>\n",
       "      <td>3</td>\n",
       "      <td>1</td>\n",
       "    </tr>\n",
       "    <tr>\n",
       "      <th>...</th>\n",
       "      <td>...</td>\n",
       "      <td>...</td>\n",
       "      <td>...</td>\n",
       "      <td>...</td>\n",
       "      <td>...</td>\n",
       "      <td>...</td>\n",
       "      <td>...</td>\n",
       "      <td>...</td>\n",
       "    </tr>\n",
       "    <tr>\n",
       "      <th>107</th>\n",
       "      <td>3</td>\n",
       "      <td>female</td>\n",
       "      <td>21.00</td>\n",
       "      <td>7.6500</td>\n",
       "      <td>S</td>\n",
       "      <td>Miss</td>\n",
       "      <td>0</td>\n",
       "      <td>0</td>\n",
       "    </tr>\n",
       "    <tr>\n",
       "      <th>271</th>\n",
       "      <td>1</td>\n",
       "      <td>male</td>\n",
       "      <td>32.00</td>\n",
       "      <td>31.0000</td>\n",
       "      <td>S</td>\n",
       "      <td>Mr</td>\n",
       "      <td>0</td>\n",
       "      <td>0</td>\n",
       "    </tr>\n",
       "    <tr>\n",
       "      <th>861</th>\n",
       "      <td>3</td>\n",
       "      <td>male</td>\n",
       "      <td>41.00</td>\n",
       "      <td>14.1083</td>\n",
       "      <td>S</td>\n",
       "      <td>Mr</td>\n",
       "      <td>2</td>\n",
       "      <td>0</td>\n",
       "    </tr>\n",
       "    <tr>\n",
       "      <th>436</th>\n",
       "      <td>1</td>\n",
       "      <td>female</td>\n",
       "      <td>14.00</td>\n",
       "      <td>120.0000</td>\n",
       "      <td>S</td>\n",
       "      <td>Miss</td>\n",
       "      <td>3</td>\n",
       "      <td>1</td>\n",
       "    </tr>\n",
       "    <tr>\n",
       "      <th>103</th>\n",
       "      <td>1</td>\n",
       "      <td>male</td>\n",
       "      <td>21.00</td>\n",
       "      <td>77.2875</td>\n",
       "      <td>S</td>\n",
       "      <td>Mr</td>\n",
       "      <td>1</td>\n",
       "      <td>0</td>\n",
       "    </tr>\n",
       "  </tbody>\n",
       "</table>\n",
       "<p>668 rows × 8 columns</p>\n",
       "</div>"
      ],
      "text/plain": [
       "             Pclass     Sex    Age      Fare Embarked   Title  Family_aboard  \\\n",
       "PassengerId                                                                    \n",
       "299               1    male  32.00   30.5000        S      Mr              0   \n",
       "885               3    male  25.00    7.0500        S      Mr              0   \n",
       "248               2  female  24.00   14.5000        S     Mrs              2   \n",
       "479               3    male  22.00    7.5208        S      Mr              0   \n",
       "306               1    male   0.92  151.5500        S  Master              3   \n",
       "...             ...     ...    ...       ...      ...     ...            ...   \n",
       "107               3  female  21.00    7.6500        S    Miss              0   \n",
       "271               1    male  32.00   31.0000        S      Mr              0   \n",
       "861               3    male  41.00   14.1083        S      Mr              2   \n",
       "436               1  female  14.00  120.0000        S    Miss              3   \n",
       "103               1    male  21.00   77.2875        S      Mr              1   \n",
       "\n",
       "             Above_deck  \n",
       "PassengerId              \n",
       "299                   1  \n",
       "885                   0  \n",
       "248                   0  \n",
       "479                   0  \n",
       "306                   1  \n",
       "...                 ...  \n",
       "107                   0  \n",
       "271                   0  \n",
       "861                   0  \n",
       "436                   1  \n",
       "103                   0  \n",
       "\n",
       "[668 rows x 8 columns]"
      ]
     },
     "execution_count": 878,
     "metadata": {},
     "output_type": "execute_result"
    }
   ],
   "source": [
    "X_train"
   ]
  },
  {
   "cell_type": "code",
   "execution_count": 879,
   "id": "bacc5660",
   "metadata": {},
   "outputs": [],
   "source": [
    "X_train_FE = transformer.fit_transform(X_train)\n",
    "X_test_FE = transformer.transform(X_test)"
   ]
  },
  {
   "cell_type": "code",
   "execution_count": 880,
   "id": "266391bc",
   "metadata": {},
   "outputs": [
    {
     "data": {
      "text/plain": [
       "RandomForestClassifier(criterion='entropy', max_depth=7, n_estimators=200)"
      ]
     },
     "execution_count": 880,
     "metadata": {},
     "output_type": "execute_result"
    }
   ],
   "source": [
    "rf = RandomForestClassifier(n_estimators=200, max_depth=7,criterion='entropy')\n",
    "rf.fit(X_train_FE, y_train)"
   ]
  },
  {
   "cell_type": "code",
   "execution_count": 881,
   "id": "e695b66e",
   "metadata": {},
   "outputs": [],
   "source": [
    "importance=rf.feature_importances_"
   ]
  },
  {
   "cell_type": "code",
   "execution_count": 882,
   "id": "291be3f5",
   "metadata": {},
   "outputs": [
    {
     "data": {
      "text/plain": [
       "[(0.5228603298935169, 'Title'),\n",
       " (0.025780960551851462, 'Age'),\n",
       " (0.024910752429214134, 'Fare'),\n",
       " (0.02373802089836802, 'Pclass'),\n",
       " (0.023445391571629212, 'Embarked'),\n",
       " (0.014971719372307138, 'Sex'),\n",
       " (0.0065018176171403805, 'Above_deck'),\n",
       " (0.006471040038039606, 'Family_aboard')]"
      ]
     },
     "execution_count": 882,
     "metadata": {},
     "output_type": "execute_result"
    }
   ],
   "source": [
    "importance_list = list(zip(importance, X_train.columns))\n",
    "importance_list.sort(key=lambda x: x[0], reverse = True)\n",
    "importance_list"
   ]
  },
  {
   "cell_type": "code",
   "execution_count": 883,
   "id": "94751de8",
   "metadata": {},
   "outputs": [],
   "source": [
    "#accuracy\n",
    "rf_accuracy_score_train = accuracy_score(y_train, rf.predict(X_train_FE), normalize=True)\n",
    "rf_accuracy_score_test = accuracy_score(y_test, rf.predict(X_test_FE), normalize=True)\n",
    "\n",
    "#precision\n",
    "rf_precision_score_train = precision_score(y_train, rf.predict(X_train_FE))\n",
    "rf_precision_score_test = precision_score(y_test, rf.predict(X_test_FE))\n",
    "\n",
    "#recall\n",
    "rf_recall_score_train = recall_score(y_train, rf.predict(X_train_FE))\n",
    "rf_recall_score_test = recall_score(y_test, rf.predict(X_test_FE))\n",
    "\n",
    "#area under the curve\n",
    "rf_y_pred_proba = rf.predict_proba(X_test_FE)[::,1]\n",
    "rf_auc_test = roc_auc_score(y_test, rf_y_pred_proba)\n",
    "\n",
    "rf_y_pred_proba_train = rf.predict_proba(X_train_FE)[::,1]\n",
    "rf_auc_train = roc_auc_score(y_train, rf_y_pred_proba_train)"
   ]
  },
  {
   "cell_type": "code",
   "execution_count": 884,
   "id": "8fca9341",
   "metadata": {},
   "outputs": [
    {
     "data": {
      "text/html": [
       "<div>\n",
       "<style scoped>\n",
       "    .dataframe tbody tr th:only-of-type {\n",
       "        vertical-align: middle;\n",
       "    }\n",
       "\n",
       "    .dataframe tbody tr th {\n",
       "        vertical-align: top;\n",
       "    }\n",
       "\n",
       "    .dataframe thead th {\n",
       "        text-align: right;\n",
       "    }\n",
       "</style>\n",
       "<table border=\"1\" class=\"dataframe\">\n",
       "  <thead>\n",
       "    <tr style=\"text-align: right;\">\n",
       "      <th></th>\n",
       "      <th>Metrics</th>\n",
       "      <th>Train</th>\n",
       "      <th>Test</th>\n",
       "    </tr>\n",
       "  </thead>\n",
       "  <tbody>\n",
       "    <tr>\n",
       "      <th>0</th>\n",
       "      <td>accuracy</td>\n",
       "      <td>0.820359</td>\n",
       "      <td>0.816143</td>\n",
       "    </tr>\n",
       "    <tr>\n",
       "      <th>1</th>\n",
       "      <td>precision</td>\n",
       "      <td>0.898204</td>\n",
       "      <td>0.852941</td>\n",
       "    </tr>\n",
       "    <tr>\n",
       "      <th>2</th>\n",
       "      <td>recall</td>\n",
       "      <td>0.592885</td>\n",
       "      <td>0.651685</td>\n",
       "    </tr>\n",
       "    <tr>\n",
       "      <th>3</th>\n",
       "      <td>auc</td>\n",
       "      <td>0.881251</td>\n",
       "      <td>0.883783</td>\n",
       "    </tr>\n",
       "  </tbody>\n",
       "</table>\n",
       "</div>"
      ],
      "text/plain": [
       "     Metrics     Train      Test\n",
       "0   accuracy  0.820359  0.816143\n",
       "1  precision  0.898204  0.852941\n",
       "2     recall  0.592885  0.651685\n",
       "3        auc  0.881251  0.883783"
      ]
     },
     "execution_count": 884,
     "metadata": {},
     "output_type": "execute_result"
    }
   ],
   "source": [
    "training_scores = [rf_accuracy_score_train, rf_precision_score_train, rf_recall_score_train, rf_auc_train]\n",
    "test_scores = [rf_accuracy_score_test, rf_precision_score_test, rf_recall_score_test, rf_auc_test]\n",
    "\n",
    "d = {'Metrics': ['accuracy', 'precision','recall','auc'], 'Train': training_scores, 'Test': test_scores}\n",
    "\n",
    "df_scores_rf = pd.DataFrame(data=d)\n",
    "df_scores_rf"
   ]
  },
  {
   "cell_type": "code",
   "execution_count": null,
   "id": "1431f28a",
   "metadata": {},
   "outputs": [],
   "source": []
  },
  {
   "cell_type": "code",
   "execution_count": 885,
   "id": "17f8d7fb",
   "metadata": {},
   "outputs": [
    {
     "data": {
      "text/html": [
       "<div>\n",
       "<style scoped>\n",
       "    .dataframe tbody tr th:only-of-type {\n",
       "        vertical-align: middle;\n",
       "    }\n",
       "\n",
       "    .dataframe tbody tr th {\n",
       "        vertical-align: top;\n",
       "    }\n",
       "\n",
       "    .dataframe thead th {\n",
       "        text-align: right;\n",
       "    }\n",
       "</style>\n",
       "<table border=\"1\" class=\"dataframe\">\n",
       "  <thead>\n",
       "    <tr style=\"text-align: right;\">\n",
       "      <th></th>\n",
       "      <th>Metrics</th>\n",
       "      <th>Train</th>\n",
       "      <th>Test</th>\n",
       "    </tr>\n",
       "  </thead>\n",
       "  <tbody>\n",
       "    <tr>\n",
       "      <th>0</th>\n",
       "      <td>accuracy</td>\n",
       "      <td>0.824850</td>\n",
       "      <td>0.798206</td>\n",
       "    </tr>\n",
       "    <tr>\n",
       "      <th>1</th>\n",
       "      <td>precision</td>\n",
       "      <td>0.802817</td>\n",
       "      <td>0.840000</td>\n",
       "    </tr>\n",
       "    <tr>\n",
       "      <th>2</th>\n",
       "      <td>recall</td>\n",
       "      <td>0.695122</td>\n",
       "      <td>0.656250</td>\n",
       "    </tr>\n",
       "    <tr>\n",
       "      <th>3</th>\n",
       "      <td>auc</td>\n",
       "      <td>0.869567</td>\n",
       "      <td>0.852034</td>\n",
       "    </tr>\n",
       "  </tbody>\n",
       "</table>\n",
       "</div>"
      ],
      "text/plain": [
       "     Metrics     Train      Test\n",
       "0   accuracy  0.824850  0.798206\n",
       "1  precision  0.802817  0.840000\n",
       "2     recall  0.695122  0.656250\n",
       "3        auc  0.869567  0.852034"
      ]
     },
     "execution_count": 885,
     "metadata": {},
     "output_type": "execute_result"
    }
   ],
   "source": [
    "df_scores"
   ]
  },
  {
   "cell_type": "markdown",
   "id": "b49a50e8",
   "metadata": {},
   "source": [
    "#### Implement a Dummy Classifier"
   ]
  },
  {
   "cell_type": "code",
   "execution_count": 886,
   "id": "7c3829cc",
   "metadata": {},
   "outputs": [
    {
     "name": "stdout",
     "output_type": "stream",
     "text": [
      "(445, 11) (446, 11) (445,) (446,)\n"
     ]
    },
    {
     "data": {
      "text/plain": [
       "DummyClassifier(strategy='stratified')"
      ]
     },
     "execution_count": 886,
     "metadata": {},
     "output_type": "execute_result"
    }
   ],
   "source": [
    "df = pd.read_csv('train.csv', index_col='PassengerId')\n",
    "\n",
    "X = df\n",
    "y = df['Survived']\n",
    "\n",
    "X_train, X_test, y_train, y_test = train_test_split(X,y, test_size=0.5,random_state= 42)\n",
    "print(X_train.shape, X_test.shape, y_train.shape, y_test.shape)\n",
    "\n",
    "dummy_clf = DummyClassifier(strategy='stratified')\n",
    "dummy_clf.fit(X_train, y_train)\n",
    "#dummy_clf.predict(X_train)\n",
    "#dummy_clf.predict(X_test)"
   ]
  },
  {
   "cell_type": "code",
   "execution_count": 887,
   "id": "d19525f3",
   "metadata": {},
   "outputs": [
    {
     "name": "stdout",
     "output_type": "stream",
     "text": [
      "0.34355828220858897\n",
      "0.4022346368715084\n"
     ]
    }
   ],
   "source": [
    "dummy_recall_score_train = recall_score(y_train, dummy_clf.predict(X_train))\n",
    "dummy_recall_score_test = recall_score(y_test, dummy_clf.predict(X_test))\n",
    "\n",
    "print(dummy_recall_score_train)\n",
    "print(dummy_recall_score_test)"
   ]
  }
 ],
 "metadata": {
  "kernelspec": {
   "display_name": "Python 3 (ipykernel)",
   "language": "python",
   "name": "python3"
  },
  "language_info": {
   "codemirror_mode": {
    "name": "ipython",
    "version": 3
   },
   "file_extension": ".py",
   "mimetype": "text/x-python",
   "name": "python",
   "nbconvert_exporter": "python",
   "pygments_lexer": "ipython3",
   "version": "3.9.12"
  }
 },
 "nbformat": 4,
 "nbformat_minor": 5
}
