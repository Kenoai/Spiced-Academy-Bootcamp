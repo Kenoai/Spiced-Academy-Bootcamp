{
 "cells": [
  {
   "cell_type": "code",
   "execution_count": 76,
   "id": "93404a84",
   "metadata": {},
   "outputs": [],
   "source": [
    "import requests\n",
    "import re\n",
    "from bs4 import BeautifulSoup\n",
    "import nltk\n",
    "from sklearn.feature_extraction.text import CountVectorizer\n",
    "from nltk.tokenize import TreebankWordTokenizer\n",
    "from nltk.stem import WordNetLemmatizer\n",
    "from sklearn.feature_extraction.text import TfidfVectorizer\n",
    "from sklearn.linear_model import LogisticRegression\n",
    "from sklearn.pipeline import Pipeline\n",
    "from nltk.corpus import stopwords\n",
    "import pandas as pd\n",
    "from sklearn.model_selection import train_test_split\n",
    "import os"
   ]
  },
  {
   "cell_type": "markdown",
   "id": "f650a242",
   "metadata": {},
   "source": [
    "# Requesting the table of content page"
   ]
  },
  {
   "cell_type": "markdown",
   "id": "f9166958",
   "metadata": {},
   "source": [
    "First we need to download the page containing all links for songs for an artist"
   ]
  },
  {
   "cell_type": "code",
   "execution_count": 77,
   "id": "3691bee9",
   "metadata": {},
   "outputs": [],
   "source": [
    "urls = ['https://www.lyrics.com/artist/James-Vincent-McMorrow/1093507','https://www.lyrics.com/artist/Mumford-%26-Sons/1570809']"
   ]
  },
  {
   "cell_type": "code",
   "execution_count": null,
   "id": "6049fece",
   "metadata": {},
   "outputs": [],
   "source": []
  },
  {
   "cell_type": "code",
   "execution_count": null,
   "id": "4018a9a4",
   "metadata": {},
   "outputs": [],
   "source": []
  },
  {
   "cell_type": "code",
   "execution_count": 87,
   "id": "fbfd6610",
   "metadata": {},
   "outputs": [
    {
     "data": {
      "text/plain": [
       "'Mumford_&_Sons'"
      ]
     },
     "execution_count": 87,
     "metadata": {},
     "output_type": "execute_result"
    }
   ],
   "source": [
    "def get_artist_name(url):\n",
    "    artist_name =  url.split('/')[4].replace(\"-\", \"_\")\n",
    "    artist_name = artist_name.replace('%26', '&')\n",
    "    return artist_name\n",
    "\n",
    "get_artist_name('https://www.lyrics.com/artist/Mumford-%26-Sons/1570809')"
   ]
  },
  {
   "cell_type": "code",
   "execution_count": 88,
   "id": "b661cf04",
   "metadata": {},
   "outputs": [],
   "source": [
    "def download_artist_page(url):\n",
    "\n",
    "    headers = {'User-Agent': 'Mozilla/5.0 (Macintosh; Intel Mac OS X 10_10_1) AppleWebKit/537.36 (KHTML, like Gecko) Chrome/39.0.2171.95 Safari/537.36'}\n",
    "\n",
    "    r=requests.get(url, headers=headers)\n",
    "    text = r.text\n",
    "    soup = BeautifulSoup(text, 'html')\n",
    "    artist_name = get_artist_name(url)\n",
    "    #artist = soup.h1.text.replace(\" \", \"_\")\n",
    "    #artist_name = str(artist)\n",
    "    #artist_name = artist_name.replace('%26', '&')\n",
    "    #print(artist_name)\n",
    "\n",
    "    with open (str(artist_name) + '_lyrics_page', 'w') as f:\n",
    "        f.write(text)\n",
    "    \n",
    "    \"\"\"with open ('james_vincent_mcorrow_lyrics_page', 'r') as f:\n",
    "        my_string = f.read()\n",
    "    print(my_string)\"\"\"\n",
    "    \n",
    "    #print(f)\n",
    "    return soup\n",
    "    \n",
    "#download_artist_page('https://www.lyrics.com/artist/Mumford-%26-Sons/1570809')"
   ]
  },
  {
   "cell_type": "markdown",
   "id": "93415a2a",
   "metadata": {},
   "source": [
    "Then we explore the page with beautiful soup to find all links"
   ]
  },
  {
   "cell_type": "code",
   "execution_count": 96,
   "id": "a6a8bfe9",
   "metadata": {},
   "outputs": [
    {
     "name": "stdout",
     "output_type": "stream",
     "text": [
      "Song links found\n",
      "___________\n",
      "\n"
     ]
    },
    {
     "data": {
      "text/plain": [
       "['https://www.lyrics.com/lyric/36023994/Mumford+%26+Sons/Beloved',\n",
       " 'https://www.lyrics.com/lyric/36607316/Mumford+%26+Sons/Blind+Leading+the+Blind',\n",
       " 'https://www.lyrics.com/lyric/36157077/Mumford+%26+Sons/Devil+in+Your+Eye',\n",
       " 'https://www.lyrics.com/lyric/36528033/Mumford+%26+Sons/The+Boxer',\n",
       " 'https://www.lyrics.com/lyric/35590184/Mumford+%26+Sons/42',\n",
       " 'https://www.lyrics.com/lyric/35590183/Mumford+%26+Sons/Guiding+Light',\n",
       " 'https://www.lyrics.com/lyric/35590182/Mumford+%26+Sons/Woman',\n",
       " 'https://www.lyrics.com/lyric/35590180/Mumford+%26+Sons/The+Wild',\n",
       " 'https://www.lyrics.com/lyric/35590179/Mumford+%26+Sons/October+Skies',\n",
       " 'https://www.lyrics.com/lyric/35590178/Mumford+%26+Sons/Slip+Away',\n",
       " 'https://www.lyrics.com/lyric/35590177/Mumford+%26+Sons/Rose+of+Sharon',\n",
       " 'https://www.lyrics.com/lyric/35590176/Mumford+%26+Sons/Picture+You',\n",
       " 'https://www.lyrics.com/lyric/35590175/Mumford+%26+Sons/Darkness+Visible',\n",
       " 'https://www.lyrics.com/lyric/35590174/Mumford+%26+Sons/If+I+Say',\n",
       " 'https://www.lyrics.com/lyric/35590173/Mumford+%26+Sons/Wild+Heart',\n",
       " 'https://www.lyrics.com/lyric/35590172/Mumford+%26+Sons/Forever',\n",
       " 'https://www.lyrics.com/lyric/35590171/Mumford+%26+Sons/Delta',\n",
       " 'https://www.lyrics.com/lyric/35104391/Mumford+%26+Sons/I+Will+Wait',\n",
       " 'https://www.lyrics.com/lyric/35104376/Mumford+%26+Sons/Little+Lion+Man',\n",
       " 'https://www.lyrics.com/lyric/35442156/Mumford+%26+Sons/Someone+Saved+My+Life+Tonight',\n",
       " 'https://www.lyrics.com/lyric/33772665/Mumford+%26+Sons/Snake+Eyes',\n",
       " 'https://www.lyrics.com/lyric/33772648/Mumford+%26+Sons/Below+My+Feet',\n",
       " 'https://www.lyrics.com/lyric/33772646/Mumford+%26+Sons/Awake+My+Soul',\n",
       " 'https://www.lyrics.com/lyric/33772645/Mumford+%26+Sons/Lover+of+the+Light',\n",
       " 'https://www.lyrics.com/lyric/33772642/Mumford+%26+Sons/Ghosts+That+We+Knew',\n",
       " 'https://www.lyrics.com/lyric/33772641/Mumford+%26+Sons/The+Cave',\n",
       " 'https://www.lyrics.com/lyric/33772640/Mumford+%26+Sons/Dust+Bowl+Dance',\n",
       " 'https://www.lyrics.com/lyric/33772637/Mumford+%26+Sons/The+Wolf',\n",
       " 'https://www.lyrics.com/lyric/32906068/Mumford+%26+Sons/There+Will+Be+Time',\n",
       " 'https://www.lyrics.com/lyric/32906069/Mumford+%26+Sons/Wona',\n",
       " 'https://www.lyrics.com/lyric/32906070/Mumford+%26+Sons/Fool+You%27ve+Landed',\n",
       " 'https://www.lyrics.com/lyric/32906071/Mumford+%26+Sons/Ngamila',\n",
       " 'https://www.lyrics.com/lyric/32906072/Mumford+%26+Sons/Si+Tu+Veux',\n",
       " 'https://www.lyrics.com/lyric/31753763/Mumford+%26+Sons/Believe',\n",
       " 'https://www.lyrics.com/lyric/31864593/Mumford+%26+Sons/Hot+Gates',\n",
       " 'https://www.lyrics.com/lyric/31759162/Mumford+%26+Sons/Tompkins+Square+Park',\n",
       " 'https://www.lyrics.com/lyric/31759159/Mumford+%26+Sons/Wilder+Mind',\n",
       " 'https://www.lyrics.com/lyric/31759158/Mumford+%26+Sons/Just+Smoke',\n",
       " 'https://www.lyrics.com/lyric/31759157/Mumford+%26+Sons/Monster',\n",
       " 'https://www.lyrics.com/lyric/31759155/Mumford+%26+Sons/Broad-Shouldered+Beasts',\n",
       " 'https://www.lyrics.com/lyric/31759154/Mumford+%26+Sons/Cold+Arms',\n",
       " 'https://www.lyrics.com/lyric/31759153/Mumford+%26+Sons/Ditmas',\n",
       " 'https://www.lyrics.com/lyric/31759152/Mumford+%26+Sons/Only+Love',\n",
       " 'https://www.lyrics.com/lyric/31455784/Mumford+%26+Sons/Timshel',\n",
       " 'https://www.lyrics.com/lyric/29532870/Mumford+%26+Sons/Where+Are+You+Now',\n",
       " 'https://www.lyrics.com/lyric/28790487/Mumford+%26+Sons/Lovers%27+Eyes',\n",
       " 'https://www.lyrics.com/lyric/28790502/Mumford+%26+Sons/Roll+Away+Your+Stone',\n",
       " 'https://www.lyrics.com/lyric/28790500/Mumford+%26+Sons/Thistle+%26+Weeds',\n",
       " 'https://www.lyrics.com/lyric/28790492/Mumford+%26+Sons/Whispers+in+the+Dark',\n",
       " 'https://www.lyrics.com/lyric/28790493/Mumford+%26+Sons/Babel',\n",
       " 'https://www.lyrics.com/lyric/28790490/Mumford+%26+Sons/Holland+Road',\n",
       " 'https://www.lyrics.com/lyric/28790486/Mumford+%26+Sons/Reminder',\n",
       " 'https://www.lyrics.com/lyric/28790485/Mumford+%26+Sons/Hopeless+Wanderer',\n",
       " 'https://www.lyrics.com/lyric/28790484/Mumford+%26+Sons/Broken+Crown',\n",
       " 'https://www.lyrics.com/lyric/28790482/Mumford+%26+Sons/Not+with+Haste',\n",
       " 'https://www.lyrics.com/lyric/28790481/Mumford+%26+Sons/For+Those+Below+%5B%2A%5D',\n",
       " 'https://www.lyrics.com/lyric/28790470/Mumford+%26+Sons/Dustbowl+Dance+%5BLive%5D',\n",
       " 'https://www.lyrics.com/lyric/28932148/Mumford+%26+Sons/Whispers+In+the+Dark',\n",
       " 'https://www.lyrics.com/lyric/28932154/Mumford+%26+Sons/Not+With+Haste',\n",
       " 'https://www.lyrics.com/lyric/28005924/Mumford+%26+Sons/Where+Are+You+Now%3F',\n",
       " 'https://www.lyrics.com/lyric/26643408/Mumford+%26+Sons/Learn+Me+Right',\n",
       " 'https://www.lyrics.com/lyric/26558940/Mumford+%26+Sons/The+Brightest+Lights',\n",
       " 'https://www.lyrics.com/lyric/28370479/Mumford+%26+Sons/Lovers+Eyes',\n",
       " 'https://www.lyrics.com/lyric/22723235/Mumford+%26+Sons/Devil%27s+Spoke-Sneh+Ko+Marg',\n",
       " 'https://www.lyrics.com/lyric/22723236/Mumford+%26+Sons/To+Darkness-Kripa',\n",
       " 'https://www.lyrics.com/lyric/23269147/Mumford+%26+Sons/Mehendi+Rachi',\n",
       " 'https://www.lyrics.com/lyric/27538638/Mumford+%26+Sons/Days-This+Time+Tomorrow',\n",
       " 'https://www.lyrics.com/lyric/25013097/Mumford+%26+Sons/Sigh+No+More',\n",
       " 'https://www.lyrics.com/lyric/25013096/Mumford+%26+Sons/Winter+Winds',\n",
       " 'https://www.lyrics.com/lyric/25013094/Mumford+%26+Sons/White+Blank+Page',\n",
       " 'https://www.lyrics.com/lyric/25013093/Mumford+%26+Sons/I+Gave+You+All',\n",
       " 'https://www.lyrics.com/lyric/25013086/Mumford+%26+Sons/Feel+the+Tide',\n",
       " 'https://www.lyrics.com/lyric/25013098/Mumford+%26+Sons/Hold+On+To+What+You+Believe',\n",
       " 'https://www.lyrics.com/lyric/23566678/Mumford+%26+Sons/After+the+Storm',\n",
       " 'https://www.lyrics.com/lyric/23518793/Mumford+%26+Sons/Hold+On+to+What+You+Believe+%5B%2A%5D',\n",
       " 'https://www.lyrics.com/lyric/24757720/Mumford+%26+Sons/Hold+on+to+What+You+Believe+%5B%2A%5D',\n",
       " 'https://www.lyrics.com/lyric/28257494/Mumford+%26+Sons/I+Was+Young+When+I+Left+Home',\n",
       " 'https://www.lyrics.com/lyric/36626791/Mumford+%26+Sons/Blind+Leading+The+Blind',\n",
       " 'https://www.lyrics.com/lyric/27350371/Mumford+%26+Sons/To+Darkness',\n",
       " 'https://www.lyrics.com/lyric/28370700/Mumford+%26+Sons/Lover+Of+The+Light']"
      ]
     },
     "execution_count": 96,
     "metadata": {},
     "output_type": "execute_result"
    }
   ],
   "source": [
    "def get_links(soup):\n",
    "    page_links = soup.find_all('a')\n",
    "    song_links = []\n",
    "    song_names = []\n",
    "    for link in page_links: \n",
    "        if '/lyric/' in link['href']:\n",
    "            split_name = link.text.split(\"[\")[0].strip()\n",
    "            if split_name not in song_names:\n",
    "                song_links.append('https://www.lyrics.com' + link['href'])\n",
    "                song_names.append(split_name)\n",
    "            \n",
    "    print(\"Song links found\")\n",
    "    print(\"___________\")\n",
    "    print(\"\")\n",
    "    return song_links\n",
    "\n",
    "get_links(download_artist_page('https://www.lyrics.com/artist/Mumford-%26-Sons/1570809'))"
   ]
  },
  {
   "cell_type": "markdown",
   "id": "ef7d077f",
   "metadata": {},
   "source": [
    "We then prepare a function to extract the lyrics out of the lyrics page and clean up any style or tag"
   ]
  },
  {
   "cell_type": "code",
   "execution_count": 90,
   "id": "5be67a0f",
   "metadata": {},
   "outputs": [],
   "source": [
    "def get_lyrics(url):\n",
    "    soup_lyrics = BeautifulSoup(requests.get(url).text, 'html')\n",
    "    lyrics = soup_lyrics.find_all(id='lyric-body-text')\n",
    "\n",
    "    for tag in lyrics:\n",
    "        for minitag in tag:\n",
    "            if minitag in tag.find_all('a'):\n",
    "                del minitag['href']\n",
    "                del minitag['style']\n",
    "                minitag.extract()\n",
    "    return lyrics[0].get_text().replace(\"\\n\", \" \")"
   ]
  },
  {
   "cell_type": "markdown",
   "id": "42e82b5a",
   "metadata": {},
   "source": [
    "We can then use that function inside a container function that can iterate through all the links returned by our get_links() function and use get_lyrics to write the lyrics into a file"
   ]
  },
  {
   "cell_type": "code",
   "execution_count": 91,
   "id": "27da4054",
   "metadata": {},
   "outputs": [],
   "source": [
    "def write_lyrics(song_links):\n",
    "    print('Starting lyrics downloads')\n",
    "    for counter, link in enumerate(song_links[:6]):\n",
    "        url = 'https://www.lyrics.com' + link\n",
    "        response = requests.get(url)\n",
    "        #print(response)\n",
    "        \n",
    "        artist = link.split('/')[3].replace(\"+\", \"_\")\n",
    "        artist = artist.replace('%26', '&')\n",
    "        # I somehow can't decode the special characters in the song titles, \n",
    "        #so I'll just replace some of the common ones\n",
    "        \n",
    "        song_title = link.split('/')[4].replace(\"+\", \" \")\n",
    "        song_title = song_title.replace(\"%27\", \"'\")\n",
    "        song_title = song_title.replace('%26', \"&\")\n",
    "        song_title = song_title.replace('%2C', ',')\n",
    "        song_title = song_title.replace('%C3%A9', 'é')\n",
    "        song_title = song_title.replace('%5B', '[')\n",
    "        song_title = song_title.replace('%5D', ']')\n",
    "        song_title = song_title.replace('%21', '!')\n",
    "        song_title = song_title.replace('%28', '(')\n",
    "        song_title = song_title.replace('%29', ')')\n",
    "        \n",
    "        # now we write all the lyrics into an artist txt file! We use the append mode \n",
    "        #to add lyrics so the last lyrics don't get overwritten\n",
    "        \n",
    "        if not os.path.exists('lyrics/' + artist):\n",
    "            os.makedirs('lyrics/' + artist)\n",
    "        print(os.listdir())\n",
    "\n",
    "        lyrics = get_lyrics(link)\n",
    "        with open(f'lyrics/{artist}/{song_title}.txt', 'w') as f:\n",
    "            f.write(\"\\n\" + lyrics)\n",
    "        print(counter, song_title, response.status_code)\n",
    "\n",
    "        \n",
    "#links_list = get_links(soup)\n",
    "#write_lyrics(links_list)"
   ]
  },
  {
   "cell_type": "markdown",
   "id": "6240f136",
   "metadata": {},
   "source": [
    "From there we can create a function to clean up the lyrics documents we just made to prepare them for the bag of words"
   ]
  },
  {
   "cell_type": "code",
   "execution_count": 92,
   "id": "7b138060",
   "metadata": {},
   "outputs": [],
   "source": [
    "def clean_up_lyrics(artist):\n",
    "    with open ('lyrics/' + artist +'.txt', 'r') as f:\n",
    "        my_lyrics = f.read()\n",
    "    my_lyrics = my_lyrics.split('\\n')\n",
    "    my_lyrics = [s.lower() for s in my_lyrics]\n",
    "\n",
    "    clean_lyrics = []\n",
    "\n",
    "    tokenizer = TreebankWordTokenizer()\n",
    "    lemmatizer = WordNetLemmatizer()\n",
    "\n",
    "    for doc in my_lyrics:\n",
    "        #print(doc)\n",
    "        tokens = tokenizer.tokenize(text=doc)\n",
    "        clean_doc = \" \".join(lemmatizer.lemmatize(token) for token in tokens)\n",
    "        clean_lyrics.append(clean_doc)\n",
    "    labels_one_artist = [artist] * len(clean_lyrics)\n",
    "    global labels\n",
    "    labels.extend(labels_one_artist)\n",
    "    global corpus\n",
    "    corpus.extend(clean_lyrics)    \n",
    "\n",
    "#print(corpus)"
   ]
  },
  {
   "cell_type": "markdown",
   "id": "4d144673",
   "metadata": {},
   "source": [
    "That's it! Now we create our execution function so we can launch everything from one cell"
   ]
  },
  {
   "cell_type": "code",
   "execution_count": 93,
   "id": "b508c674",
   "metadata": {},
   "outputs": [
    {
     "name": "stdout",
     "output_type": "stream",
     "text": [
      "Song links found\n",
      "___________\n",
      "\n",
      "Starting lyrics downloads\n",
      "['lyrics', 'Project_4-Copy1.ipynb', '.DS_Store', 'Untitled.ipynb', 'James_Vincent_McMorrow_lyrics_page', 'Project_4.ipynb', 'Mumford_&_Sons_lyrics_page', 'Mumford_&_Sons', '.ipynb_checkpoints', 'Jimi_Hendrix_lyrics_page', 'Foo_Fighters_lyrics_page']\n"
     ]
    },
    {
     "ename": "MissingSchema",
     "evalue": "Invalid URL '/lyric/35855243/James+Vincent+McMorrow/I+Lie+Awake+Every+Night': No scheme supplied. Perhaps you meant http:///lyric/35855243/James+Vincent+McMorrow/I+Lie+Awake+Every+Night?",
     "output_type": "error",
     "traceback": [
      "\u001b[0;31m---------------------------------------------------------------------------\u001b[0m",
      "\u001b[0;31mMissingSchema\u001b[0m                             Traceback (most recent call last)",
      "Input \u001b[0;32mIn [93]\u001b[0m, in \u001b[0;36m<cell line: 18>\u001b[0;34m()\u001b[0m\n\u001b[1;32m     16\u001b[0m     \u001b[38;5;28mprint\u001b[39m()\n\u001b[1;32m     18\u001b[0m \u001b[38;5;28;01mfor\u001b[39;00m url \u001b[38;5;129;01min\u001b[39;00m urls:\n\u001b[0;32m---> 19\u001b[0m     \u001b[43mrun_all\u001b[49m\u001b[43m(\u001b[49m\u001b[43murl\u001b[49m\u001b[43m)\u001b[49m\n\u001b[1;32m     21\u001b[0m \u001b[38;5;28mprint\u001b[39m(\u001b[38;5;124m'\u001b[39m\u001b[38;5;124mFinished!\u001b[39m\u001b[38;5;124m'\u001b[39m)\n",
      "Input \u001b[0;32mIn [93]\u001b[0m, in \u001b[0;36mrun_all\u001b[0;34m(url)\u001b[0m\n\u001b[1;32m      9\u001b[0m soup \u001b[38;5;241m=\u001b[39m download_artist_page(url)\n\u001b[1;32m     10\u001b[0m links_list \u001b[38;5;241m=\u001b[39m get_links(soup)\n\u001b[0;32m---> 11\u001b[0m \u001b[43mwrite_lyrics\u001b[49m\u001b[43m(\u001b[49m\u001b[43mlinks_list\u001b[49m\u001b[43m)\u001b[49m\n\u001b[1;32m     12\u001b[0m artists\u001b[38;5;241m.\u001b[39mappend(artist)\n\u001b[1;32m     13\u001b[0m clean_up_lyrics(artist)\n",
      "Input \u001b[0;32mIn [91]\u001b[0m, in \u001b[0;36mwrite_lyrics\u001b[0;34m(song_links)\u001b[0m\n\u001b[1;32m     28\u001b[0m     os\u001b[38;5;241m.\u001b[39mmakedirs(\u001b[38;5;124m'\u001b[39m\u001b[38;5;124mlyrics/\u001b[39m\u001b[38;5;124m'\u001b[39m \u001b[38;5;241m+\u001b[39m artist)\n\u001b[1;32m     29\u001b[0m \u001b[38;5;28mprint\u001b[39m(os\u001b[38;5;241m.\u001b[39mlistdir())\n\u001b[0;32m---> 31\u001b[0m lyrics \u001b[38;5;241m=\u001b[39m \u001b[43mget_lyrics\u001b[49m\u001b[43m(\u001b[49m\u001b[43mlink\u001b[49m\u001b[43m)\u001b[49m\n\u001b[1;32m     32\u001b[0m \u001b[38;5;28;01mwith\u001b[39;00m \u001b[38;5;28mopen\u001b[39m(\u001b[38;5;124mf\u001b[39m\u001b[38;5;124m'\u001b[39m\u001b[38;5;124mlyrics/\u001b[39m\u001b[38;5;132;01m{\u001b[39;00martist\u001b[38;5;132;01m}\u001b[39;00m\u001b[38;5;124m/\u001b[39m\u001b[38;5;132;01m{\u001b[39;00msong_title\u001b[38;5;132;01m}\u001b[39;00m\u001b[38;5;124m.txt\u001b[39m\u001b[38;5;124m'\u001b[39m, \u001b[38;5;124m'\u001b[39m\u001b[38;5;124mw\u001b[39m\u001b[38;5;124m'\u001b[39m) \u001b[38;5;28;01mas\u001b[39;00m f:\n\u001b[1;32m     33\u001b[0m     f\u001b[38;5;241m.\u001b[39mwrite(\u001b[38;5;124m\"\u001b[39m\u001b[38;5;130;01m\\n\u001b[39;00m\u001b[38;5;124m\"\u001b[39m \u001b[38;5;241m+\u001b[39m lyrics)\n",
      "Input \u001b[0;32mIn [90]\u001b[0m, in \u001b[0;36mget_lyrics\u001b[0;34m(url)\u001b[0m\n\u001b[1;32m      1\u001b[0m \u001b[38;5;28;01mdef\u001b[39;00m \u001b[38;5;21mget_lyrics\u001b[39m(url):\n\u001b[0;32m----> 2\u001b[0m     soup_lyrics \u001b[38;5;241m=\u001b[39m BeautifulSoup(\u001b[43mrequests\u001b[49m\u001b[38;5;241;43m.\u001b[39;49m\u001b[43mget\u001b[49m\u001b[43m(\u001b[49m\u001b[43murl\u001b[49m\u001b[43m)\u001b[49m\u001b[38;5;241m.\u001b[39mtext, \u001b[38;5;124m'\u001b[39m\u001b[38;5;124mhtml\u001b[39m\u001b[38;5;124m'\u001b[39m)\n\u001b[1;32m      3\u001b[0m     lyrics \u001b[38;5;241m=\u001b[39m soup_lyrics\u001b[38;5;241m.\u001b[39mfind_all(\u001b[38;5;28mid\u001b[39m\u001b[38;5;241m=\u001b[39m\u001b[38;5;124m'\u001b[39m\u001b[38;5;124mlyric-body-text\u001b[39m\u001b[38;5;124m'\u001b[39m)\n\u001b[1;32m      5\u001b[0m     \u001b[38;5;28;01mfor\u001b[39;00m tag \u001b[38;5;129;01min\u001b[39;00m lyrics:\n",
      "File \u001b[0;32m~/opt/anaconda3/lib/python3.9/site-packages/requests/api.py:73\u001b[0m, in \u001b[0;36mget\u001b[0;34m(url, params, **kwargs)\u001b[0m\n\u001b[1;32m     62\u001b[0m \u001b[38;5;28;01mdef\u001b[39;00m \u001b[38;5;21mget\u001b[39m(url, params\u001b[38;5;241m=\u001b[39m\u001b[38;5;28;01mNone\u001b[39;00m, \u001b[38;5;241m*\u001b[39m\u001b[38;5;241m*\u001b[39mkwargs):\n\u001b[1;32m     63\u001b[0m     \u001b[38;5;124mr\u001b[39m\u001b[38;5;124;03m\"\"\"Sends a GET request.\u001b[39;00m\n\u001b[1;32m     64\u001b[0m \n\u001b[1;32m     65\u001b[0m \u001b[38;5;124;03m    :param url: URL for the new :class:`Request` object.\u001b[39;00m\n\u001b[0;32m   (...)\u001b[0m\n\u001b[1;32m     70\u001b[0m \u001b[38;5;124;03m    :rtype: requests.Response\u001b[39;00m\n\u001b[1;32m     71\u001b[0m \u001b[38;5;124;03m    \"\"\"\u001b[39;00m\n\u001b[0;32m---> 73\u001b[0m     \u001b[38;5;28;01mreturn\u001b[39;00m \u001b[43mrequest\u001b[49m\u001b[43m(\u001b[49m\u001b[38;5;124;43m\"\u001b[39;49m\u001b[38;5;124;43mget\u001b[39;49m\u001b[38;5;124;43m\"\u001b[39;49m\u001b[43m,\u001b[49m\u001b[43m \u001b[49m\u001b[43murl\u001b[49m\u001b[43m,\u001b[49m\u001b[43m \u001b[49m\u001b[43mparams\u001b[49m\u001b[38;5;241;43m=\u001b[39;49m\u001b[43mparams\u001b[49m\u001b[43m,\u001b[49m\u001b[43m \u001b[49m\u001b[38;5;241;43m*\u001b[39;49m\u001b[38;5;241;43m*\u001b[39;49m\u001b[43mkwargs\u001b[49m\u001b[43m)\u001b[49m\n",
      "File \u001b[0;32m~/opt/anaconda3/lib/python3.9/site-packages/requests/api.py:59\u001b[0m, in \u001b[0;36mrequest\u001b[0;34m(method, url, **kwargs)\u001b[0m\n\u001b[1;32m     55\u001b[0m \u001b[38;5;66;03m# By using the 'with' statement we are sure the session is closed, thus we\u001b[39;00m\n\u001b[1;32m     56\u001b[0m \u001b[38;5;66;03m# avoid leaving sockets open which can trigger a ResourceWarning in some\u001b[39;00m\n\u001b[1;32m     57\u001b[0m \u001b[38;5;66;03m# cases, and look like a memory leak in others.\u001b[39;00m\n\u001b[1;32m     58\u001b[0m \u001b[38;5;28;01mwith\u001b[39;00m sessions\u001b[38;5;241m.\u001b[39mSession() \u001b[38;5;28;01mas\u001b[39;00m session:\n\u001b[0;32m---> 59\u001b[0m     \u001b[38;5;28;01mreturn\u001b[39;00m \u001b[43msession\u001b[49m\u001b[38;5;241;43m.\u001b[39;49m\u001b[43mrequest\u001b[49m\u001b[43m(\u001b[49m\u001b[43mmethod\u001b[49m\u001b[38;5;241;43m=\u001b[39;49m\u001b[43mmethod\u001b[49m\u001b[43m,\u001b[49m\u001b[43m \u001b[49m\u001b[43murl\u001b[49m\u001b[38;5;241;43m=\u001b[39;49m\u001b[43murl\u001b[49m\u001b[43m,\u001b[49m\u001b[43m \u001b[49m\u001b[38;5;241;43m*\u001b[39;49m\u001b[38;5;241;43m*\u001b[39;49m\u001b[43mkwargs\u001b[49m\u001b[43m)\u001b[49m\n",
      "File \u001b[0;32m~/opt/anaconda3/lib/python3.9/site-packages/requests/sessions.py:573\u001b[0m, in \u001b[0;36mSession.request\u001b[0;34m(self, method, url, params, data, headers, cookies, files, auth, timeout, allow_redirects, proxies, hooks, stream, verify, cert, json)\u001b[0m\n\u001b[1;32m    560\u001b[0m \u001b[38;5;66;03m# Create the Request.\u001b[39;00m\n\u001b[1;32m    561\u001b[0m req \u001b[38;5;241m=\u001b[39m Request(\n\u001b[1;32m    562\u001b[0m     method\u001b[38;5;241m=\u001b[39mmethod\u001b[38;5;241m.\u001b[39mupper(),\n\u001b[1;32m    563\u001b[0m     url\u001b[38;5;241m=\u001b[39murl,\n\u001b[0;32m   (...)\u001b[0m\n\u001b[1;32m    571\u001b[0m     hooks\u001b[38;5;241m=\u001b[39mhooks,\n\u001b[1;32m    572\u001b[0m )\n\u001b[0;32m--> 573\u001b[0m prep \u001b[38;5;241m=\u001b[39m \u001b[38;5;28;43mself\u001b[39;49m\u001b[38;5;241;43m.\u001b[39;49m\u001b[43mprepare_request\u001b[49m\u001b[43m(\u001b[49m\u001b[43mreq\u001b[49m\u001b[43m)\u001b[49m\n\u001b[1;32m    575\u001b[0m proxies \u001b[38;5;241m=\u001b[39m proxies \u001b[38;5;129;01mor\u001b[39;00m {}\n\u001b[1;32m    577\u001b[0m settings \u001b[38;5;241m=\u001b[39m \u001b[38;5;28mself\u001b[39m\u001b[38;5;241m.\u001b[39mmerge_environment_settings(\n\u001b[1;32m    578\u001b[0m     prep\u001b[38;5;241m.\u001b[39murl, proxies, stream, verify, cert\n\u001b[1;32m    579\u001b[0m )\n",
      "File \u001b[0;32m~/opt/anaconda3/lib/python3.9/site-packages/requests/sessions.py:484\u001b[0m, in \u001b[0;36mSession.prepare_request\u001b[0;34m(self, request)\u001b[0m\n\u001b[1;32m    481\u001b[0m     auth \u001b[38;5;241m=\u001b[39m get_netrc_auth(request\u001b[38;5;241m.\u001b[39murl)\n\u001b[1;32m    483\u001b[0m p \u001b[38;5;241m=\u001b[39m PreparedRequest()\n\u001b[0;32m--> 484\u001b[0m \u001b[43mp\u001b[49m\u001b[38;5;241;43m.\u001b[39;49m\u001b[43mprepare\u001b[49m\u001b[43m(\u001b[49m\n\u001b[1;32m    485\u001b[0m \u001b[43m    \u001b[49m\u001b[43mmethod\u001b[49m\u001b[38;5;241;43m=\u001b[39;49m\u001b[43mrequest\u001b[49m\u001b[38;5;241;43m.\u001b[39;49m\u001b[43mmethod\u001b[49m\u001b[38;5;241;43m.\u001b[39;49m\u001b[43mupper\u001b[49m\u001b[43m(\u001b[49m\u001b[43m)\u001b[49m\u001b[43m,\u001b[49m\n\u001b[1;32m    486\u001b[0m \u001b[43m    \u001b[49m\u001b[43murl\u001b[49m\u001b[38;5;241;43m=\u001b[39;49m\u001b[43mrequest\u001b[49m\u001b[38;5;241;43m.\u001b[39;49m\u001b[43murl\u001b[49m\u001b[43m,\u001b[49m\n\u001b[1;32m    487\u001b[0m \u001b[43m    \u001b[49m\u001b[43mfiles\u001b[49m\u001b[38;5;241;43m=\u001b[39;49m\u001b[43mrequest\u001b[49m\u001b[38;5;241;43m.\u001b[39;49m\u001b[43mfiles\u001b[49m\u001b[43m,\u001b[49m\n\u001b[1;32m    488\u001b[0m \u001b[43m    \u001b[49m\u001b[43mdata\u001b[49m\u001b[38;5;241;43m=\u001b[39;49m\u001b[43mrequest\u001b[49m\u001b[38;5;241;43m.\u001b[39;49m\u001b[43mdata\u001b[49m\u001b[43m,\u001b[49m\n\u001b[1;32m    489\u001b[0m \u001b[43m    \u001b[49m\u001b[43mjson\u001b[49m\u001b[38;5;241;43m=\u001b[39;49m\u001b[43mrequest\u001b[49m\u001b[38;5;241;43m.\u001b[39;49m\u001b[43mjson\u001b[49m\u001b[43m,\u001b[49m\n\u001b[1;32m    490\u001b[0m \u001b[43m    \u001b[49m\u001b[43mheaders\u001b[49m\u001b[38;5;241;43m=\u001b[39;49m\u001b[43mmerge_setting\u001b[49m\u001b[43m(\u001b[49m\n\u001b[1;32m    491\u001b[0m \u001b[43m        \u001b[49m\u001b[43mrequest\u001b[49m\u001b[38;5;241;43m.\u001b[39;49m\u001b[43mheaders\u001b[49m\u001b[43m,\u001b[49m\u001b[43m \u001b[49m\u001b[38;5;28;43mself\u001b[39;49m\u001b[38;5;241;43m.\u001b[39;49m\u001b[43mheaders\u001b[49m\u001b[43m,\u001b[49m\u001b[43m \u001b[49m\u001b[43mdict_class\u001b[49m\u001b[38;5;241;43m=\u001b[39;49m\u001b[43mCaseInsensitiveDict\u001b[49m\n\u001b[1;32m    492\u001b[0m \u001b[43m    \u001b[49m\u001b[43m)\u001b[49m\u001b[43m,\u001b[49m\n\u001b[1;32m    493\u001b[0m \u001b[43m    \u001b[49m\u001b[43mparams\u001b[49m\u001b[38;5;241;43m=\u001b[39;49m\u001b[43mmerge_setting\u001b[49m\u001b[43m(\u001b[49m\u001b[43mrequest\u001b[49m\u001b[38;5;241;43m.\u001b[39;49m\u001b[43mparams\u001b[49m\u001b[43m,\u001b[49m\u001b[43m \u001b[49m\u001b[38;5;28;43mself\u001b[39;49m\u001b[38;5;241;43m.\u001b[39;49m\u001b[43mparams\u001b[49m\u001b[43m)\u001b[49m\u001b[43m,\u001b[49m\n\u001b[1;32m    494\u001b[0m \u001b[43m    \u001b[49m\u001b[43mauth\u001b[49m\u001b[38;5;241;43m=\u001b[39;49m\u001b[43mmerge_setting\u001b[49m\u001b[43m(\u001b[49m\u001b[43mauth\u001b[49m\u001b[43m,\u001b[49m\u001b[43m \u001b[49m\u001b[38;5;28;43mself\u001b[39;49m\u001b[38;5;241;43m.\u001b[39;49m\u001b[43mauth\u001b[49m\u001b[43m)\u001b[49m\u001b[43m,\u001b[49m\n\u001b[1;32m    495\u001b[0m \u001b[43m    \u001b[49m\u001b[43mcookies\u001b[49m\u001b[38;5;241;43m=\u001b[39;49m\u001b[43mmerged_cookies\u001b[49m\u001b[43m,\u001b[49m\n\u001b[1;32m    496\u001b[0m \u001b[43m    \u001b[49m\u001b[43mhooks\u001b[49m\u001b[38;5;241;43m=\u001b[39;49m\u001b[43mmerge_hooks\u001b[49m\u001b[43m(\u001b[49m\u001b[43mrequest\u001b[49m\u001b[38;5;241;43m.\u001b[39;49m\u001b[43mhooks\u001b[49m\u001b[43m,\u001b[49m\u001b[43m \u001b[49m\u001b[38;5;28;43mself\u001b[39;49m\u001b[38;5;241;43m.\u001b[39;49m\u001b[43mhooks\u001b[49m\u001b[43m)\u001b[49m\u001b[43m,\u001b[49m\n\u001b[1;32m    497\u001b[0m \u001b[43m\u001b[49m\u001b[43m)\u001b[49m\n\u001b[1;32m    498\u001b[0m \u001b[38;5;28;01mreturn\u001b[39;00m p\n",
      "File \u001b[0;32m~/opt/anaconda3/lib/python3.9/site-packages/requests/models.py:368\u001b[0m, in \u001b[0;36mPreparedRequest.prepare\u001b[0;34m(self, method, url, headers, files, data, params, auth, cookies, hooks, json)\u001b[0m\n\u001b[1;32m    365\u001b[0m \u001b[38;5;124;03m\"\"\"Prepares the entire request with the given parameters.\"\"\"\u001b[39;00m\n\u001b[1;32m    367\u001b[0m \u001b[38;5;28mself\u001b[39m\u001b[38;5;241m.\u001b[39mprepare_method(method)\n\u001b[0;32m--> 368\u001b[0m \u001b[38;5;28;43mself\u001b[39;49m\u001b[38;5;241;43m.\u001b[39;49m\u001b[43mprepare_url\u001b[49m\u001b[43m(\u001b[49m\u001b[43murl\u001b[49m\u001b[43m,\u001b[49m\u001b[43m \u001b[49m\u001b[43mparams\u001b[49m\u001b[43m)\u001b[49m\n\u001b[1;32m    369\u001b[0m \u001b[38;5;28mself\u001b[39m\u001b[38;5;241m.\u001b[39mprepare_headers(headers)\n\u001b[1;32m    370\u001b[0m \u001b[38;5;28mself\u001b[39m\u001b[38;5;241m.\u001b[39mprepare_cookies(cookies)\n",
      "File \u001b[0;32m~/opt/anaconda3/lib/python3.9/site-packages/requests/models.py:439\u001b[0m, in \u001b[0;36mPreparedRequest.prepare_url\u001b[0;34m(self, url, params)\u001b[0m\n\u001b[1;32m    436\u001b[0m     \u001b[38;5;28;01mraise\u001b[39;00m InvalidURL(\u001b[38;5;241m*\u001b[39me\u001b[38;5;241m.\u001b[39margs)\n\u001b[1;32m    438\u001b[0m \u001b[38;5;28;01mif\u001b[39;00m \u001b[38;5;129;01mnot\u001b[39;00m scheme:\n\u001b[0;32m--> 439\u001b[0m     \u001b[38;5;28;01mraise\u001b[39;00m MissingSchema(\n\u001b[1;32m    440\u001b[0m         \u001b[38;5;124mf\u001b[39m\u001b[38;5;124m\"\u001b[39m\u001b[38;5;124mInvalid URL \u001b[39m\u001b[38;5;132;01m{\u001b[39;00murl\u001b[38;5;132;01m!r}\u001b[39;00m\u001b[38;5;124m: No scheme supplied. \u001b[39m\u001b[38;5;124m\"\u001b[39m\n\u001b[1;32m    441\u001b[0m         \u001b[38;5;124mf\u001b[39m\u001b[38;5;124m\"\u001b[39m\u001b[38;5;124mPerhaps you meant http://\u001b[39m\u001b[38;5;132;01m{\u001b[39;00murl\u001b[38;5;132;01m}\u001b[39;00m\u001b[38;5;124m?\u001b[39m\u001b[38;5;124m\"\u001b[39m\n\u001b[1;32m    442\u001b[0m     )\n\u001b[1;32m    444\u001b[0m \u001b[38;5;28;01mif\u001b[39;00m \u001b[38;5;129;01mnot\u001b[39;00m host:\n\u001b[1;32m    445\u001b[0m     \u001b[38;5;28;01mraise\u001b[39;00m InvalidURL(\u001b[38;5;124mf\u001b[39m\u001b[38;5;124m\"\u001b[39m\u001b[38;5;124mInvalid URL \u001b[39m\u001b[38;5;132;01m{\u001b[39;00murl\u001b[38;5;132;01m!r}\u001b[39;00m\u001b[38;5;124m: No host supplied\u001b[39m\u001b[38;5;124m\"\u001b[39m)\n",
      "\u001b[0;31mMissingSchema\u001b[0m: Invalid URL '/lyric/35855243/James+Vincent+McMorrow/I+Lie+Awake+Every+Night': No scheme supplied. Perhaps you meant http:///lyric/35855243/James+Vincent+McMorrow/I+Lie+Awake+Every+Night?"
     ]
    }
   ],
   "source": [
    "labels = []\n",
    "corpus = []\n",
    "\n",
    "def run_all(url):\n",
    "    \n",
    "    artists = []\n",
    "    artist = get_artist_name(url)\n",
    "    \n",
    "    soup = download_artist_page(url)\n",
    "    links_list = get_links(soup)\n",
    "    write_lyrics(links_list)\n",
    "    artists.append(artist)\n",
    "    clean_up_lyrics(artist)\n",
    "    print()\n",
    "    print(\"_____________\")\n",
    "    print()\n",
    "        \n",
    "for url in urls:\n",
    "    run_all(url)\n",
    "\n",
    "print('Finished!')"
   ]
  },
  {
   "cell_type": "markdown",
   "id": "10bad3a2",
   "metadata": {},
   "source": [
    "For debugging and clarity I'm putting all the corpus and the labels into a dataframe"
   ]
  },
  {
   "cell_type": "code",
   "execution_count": 10,
   "id": "9844fe56",
   "metadata": {},
   "outputs": [],
   "source": [
    "data_tuples = list(zip(corpus,labels))\n",
    "df = pd.DataFrame(data_tuples, columns=['corpus','labels'])\n",
    "#df.head(20)\n",
    "#df.tail(20)\n",
    "#df.isna().sum()"
   ]
  },
  {
   "cell_type": "markdown",
   "id": "0f6f8856",
   "metadata": {},
   "source": [
    "I want to calculate the accuracy of my predictions, so I'm going to train_test_split to create a validation dataset"
   ]
  },
  {
   "cell_type": "code",
   "execution_count": 11,
   "id": "1a009b45",
   "metadata": {},
   "outputs": [
    {
     "data": {
      "text/plain": [
       "((883,), (295,), (883,), (295,))"
      ]
     },
     "execution_count": 11,
     "metadata": {},
     "output_type": "execute_result"
    }
   ],
   "source": [
    "X = df['corpus']\n",
    "y = df['labels']\n",
    "\n",
    "X_train, X_test, y_train, y_test = train_test_split(X, y, random_state=10)\n",
    "\n",
    "X_train.shape, X_test.shape, y_train.shape, y_test.shape"
   ]
  },
  {
   "cell_type": "code",
   "execution_count": 12,
   "id": "63da4f79",
   "metadata": {},
   "outputs": [],
   "source": [
    "# this cell will store the data to pass as argument\n",
    "\n",
    "chosen_X = X_train\n",
    "chosen_y = y_train\n",
    "chosen_model = LogisticRegression(class_weight='balanced')"
   ]
  },
  {
   "cell_type": "code",
   "execution_count": 13,
   "id": "b697cc71",
   "metadata": {},
   "outputs": [],
   "source": [
    "# and this contains our actual function\n",
    "\n",
    "def fit_model(X, y, model):\n",
    "    \n",
    "    stopwords_ = stopwords.words('english')\n",
    "\n",
    "    steps = [('tf-idf', TfidfVectorizer(stop_words=stopwords_)),\n",
    "              ('clf', model)\n",
    "            ]\n",
    "\n",
    "    pipeline = Pipeline(steps)\n",
    "    pipeline.fit(X_train, y_train)\n",
    "    \n",
    "    return pipeline\n",
    "\n",
    "pipe = fit_model(chosen_X, chosen_y, chosen_model)"
   ]
  },
  {
   "cell_type": "markdown",
   "id": "9eebba94",
   "metadata": {},
   "source": [
    "We can now calculate the accuracy"
   ]
  },
  {
   "cell_type": "code",
   "execution_count": 14,
   "id": "af445acb",
   "metadata": {},
   "outputs": [
    {
     "data": {
      "text/plain": [
       "0.8677966101694915"
      ]
     },
     "execution_count": 14,
     "metadata": {},
     "output_type": "execute_result"
    }
   ],
   "source": [
    "def calculate_score(pipeline):\n",
    "    pipeline.predict(X_test)\n",
    "    #pipeline.predict_proba(X_test)\n",
    "    return pipeline.score(X_test, y_test)\n",
    "\n",
    "calculate_score(pipe)"
   ]
  },
  {
   "cell_type": "markdown",
   "id": "feb6153f",
   "metadata": {},
   "source": [
    "And finally predict the artist for new texts!"
   ]
  },
  {
   "cell_type": "code",
   "execution_count": 15,
   "id": "545f6dcc",
   "metadata": {},
   "outputs": [],
   "source": [
    "def predict_text(pipeline, text):\n",
    "    pipeline.predict([text])\n",
    "    pipeline.predict_proba([text])\n",
    "    \n",
    "    return pipeline.predict([text])[-1].replace(\"_\", \" \")"
   ]
  },
  {
   "cell_type": "code",
   "execution_count": 16,
   "id": "724f61ca",
   "metadata": {},
   "outputs": [
    {
     "name": "stdout",
     "output_type": "stream",
     "text": [
      "Enter your string:into the light\n",
      "\n",
      "I think this text is from...\n"
     ]
    },
    {
     "data": {
      "text/plain": [
       "'Mumford & Sons'"
      ]
     },
     "execution_count": 16,
     "metadata": {},
     "output_type": "execute_result"
    }
   ],
   "source": [
    "string = input(\"Enter your string:\")\n",
    "print()\n",
    "print('I think this text is from...')\n",
    "predict_text(pipe, string)"
   ]
  },
  {
   "cell_type": "code",
   "execution_count": null,
   "id": "e81fea50",
   "metadata": {},
   "outputs": [],
   "source": []
  }
 ],
 "metadata": {
  "kernelspec": {
   "display_name": "Python 3 (ipykernel)",
   "language": "python",
   "name": "python3"
  },
  "language_info": {
   "codemirror_mode": {
    "name": "ipython",
    "version": 3
   },
   "file_extension": ".py",
   "mimetype": "text/x-python",
   "name": "python",
   "nbconvert_exporter": "python",
   "pygments_lexer": "ipython3",
   "version": "3.9.12"
  }
 },
 "nbformat": 4,
 "nbformat_minor": 5
}
