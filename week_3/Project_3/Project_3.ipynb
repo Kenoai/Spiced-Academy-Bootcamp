{
 "cells": [
  {
   "cell_type": "code",
   "execution_count": 88,
   "id": "0bc93234",
   "metadata": {},
   "outputs": [],
   "source": [
    "import pandas as pd\n",
    "import matplotlib.pyplot as plt\n",
    "import seaborn as sns\n",
    "from sklearn.model_selection import train_test_split\n",
    "from sklearn.linear_model import LinearRegression\n",
    "from sklearn.compose import ColumnTransformer\n",
    "from sklearn.pipeline import Pipeline\n",
    "from sklearn.preprocessing import StandardScaler, OneHotEncoder, KBinsDiscretizer, MinMaxScaler\n"
   ]
  },
  {
   "cell_type": "code",
   "execution_count": 89,
   "id": "2ff048b7",
   "metadata": {},
   "outputs": [],
   "source": [
    "df = pd.read_csv('train.csv')"
   ]
  },
  {
   "cell_type": "code",
   "execution_count": 90,
   "id": "3bbdc86f",
   "metadata": {},
   "outputs": [
    {
     "data": {
      "text/plain": [
       "(10886, 12)"
      ]
     },
     "execution_count": 90,
     "metadata": {},
     "output_type": "execute_result"
    }
   ],
   "source": [
    "df.shape"
   ]
  },
  {
   "cell_type": "code",
   "execution_count": 91,
   "id": "7bf01267",
   "metadata": {},
   "outputs": [],
   "source": [
    "df_mini = df.drop(columns=['season', 'holiday', 'workingday'])"
   ]
  },
  {
   "cell_type": "code",
   "execution_count": null,
   "id": "8aee9255",
   "metadata": {},
   "outputs": [],
   "source": []
  },
  {
   "cell_type": "code",
   "execution_count": 92,
   "id": "6f7051d0",
   "metadata": {},
   "outputs": [],
   "source": [
    "df['datetime'] = pd.to_datetime(df['datetime'])"
   ]
  },
  {
   "cell_type": "markdown",
   "id": "b1c2a827",
   "metadata": {},
   "source": [
    "### Create a dataframe only storing the number of bikes rented"
   ]
  },
  {
   "cell_type": "markdown",
   "id": "c282db6d",
   "metadata": {},
   "source": [
    "Sums of bikes rented will be easier to calculate if we drop all weather data"
   ]
  },
  {
   "cell_type": "code",
   "execution_count": 93,
   "id": "ba40ad97",
   "metadata": {},
   "outputs": [],
   "source": [
    "df_simple = df.drop(columns=['season', 'holiday', 'workingday', 'weather', 'temp', 'atemp', 'humidity', 'windspeed'])"
   ]
  },
  {
   "cell_type": "code",
   "execution_count": 94,
   "id": "b4a1a42a",
   "metadata": {},
   "outputs": [],
   "source": [
    "df_simple_reindexed = df_simple.set_index(pd.to_datetime(df['datetime']))"
   ]
  },
  {
   "cell_type": "code",
   "execution_count": 95,
   "id": "f0c19bf0",
   "metadata": {},
   "outputs": [
    {
     "data": {
      "text/html": [
       "<div>\n",
       "<style scoped>\n",
       "    .dataframe tbody tr th:only-of-type {\n",
       "        vertical-align: middle;\n",
       "    }\n",
       "\n",
       "    .dataframe tbody tr th {\n",
       "        vertical-align: top;\n",
       "    }\n",
       "\n",
       "    .dataframe thead th {\n",
       "        text-align: right;\n",
       "    }\n",
       "</style>\n",
       "<table border=\"1\" class=\"dataframe\">\n",
       "  <thead>\n",
       "    <tr style=\"text-align: right;\">\n",
       "      <th></th>\n",
       "      <th>datetime</th>\n",
       "      <th>casual</th>\n",
       "      <th>registered</th>\n",
       "      <th>count</th>\n",
       "    </tr>\n",
       "    <tr>\n",
       "      <th>datetime</th>\n",
       "      <th></th>\n",
       "      <th></th>\n",
       "      <th></th>\n",
       "      <th></th>\n",
       "    </tr>\n",
       "  </thead>\n",
       "  <tbody>\n",
       "    <tr>\n",
       "      <th>2011-01-01 00:00:00</th>\n",
       "      <td>2011-01-01 00:00:00</td>\n",
       "      <td>3</td>\n",
       "      <td>13</td>\n",
       "      <td>16</td>\n",
       "    </tr>\n",
       "    <tr>\n",
       "      <th>2011-01-01 01:00:00</th>\n",
       "      <td>2011-01-01 01:00:00</td>\n",
       "      <td>8</td>\n",
       "      <td>32</td>\n",
       "      <td>40</td>\n",
       "    </tr>\n",
       "    <tr>\n",
       "      <th>2011-01-01 02:00:00</th>\n",
       "      <td>2011-01-01 02:00:00</td>\n",
       "      <td>5</td>\n",
       "      <td>27</td>\n",
       "      <td>32</td>\n",
       "    </tr>\n",
       "    <tr>\n",
       "      <th>2011-01-01 03:00:00</th>\n",
       "      <td>2011-01-01 03:00:00</td>\n",
       "      <td>3</td>\n",
       "      <td>10</td>\n",
       "      <td>13</td>\n",
       "    </tr>\n",
       "    <tr>\n",
       "      <th>2011-01-01 04:00:00</th>\n",
       "      <td>2011-01-01 04:00:00</td>\n",
       "      <td>0</td>\n",
       "      <td>1</td>\n",
       "      <td>1</td>\n",
       "    </tr>\n",
       "  </tbody>\n",
       "</table>\n",
       "</div>"
      ],
      "text/plain": [
       "                               datetime  casual  registered  count\n",
       "datetime                                                          \n",
       "2011-01-01 00:00:00 2011-01-01 00:00:00       3          13     16\n",
       "2011-01-01 01:00:00 2011-01-01 01:00:00       8          32     40\n",
       "2011-01-01 02:00:00 2011-01-01 02:00:00       5          27     32\n",
       "2011-01-01 03:00:00 2011-01-01 03:00:00       3          10     13\n",
       "2011-01-01 04:00:00 2011-01-01 04:00:00       0           1      1"
      ]
     },
     "execution_count": 95,
     "metadata": {},
     "output_type": "execute_result"
    }
   ],
   "source": [
    "df_simple_reindexed.head()"
   ]
  },
  {
   "cell_type": "markdown",
   "id": "208678b2",
   "metadata": {},
   "source": [
    "### Analysing weekly data"
   ]
  },
  {
   "cell_type": "code",
   "execution_count": 96,
   "id": "0b5f45a5",
   "metadata": {},
   "outputs": [],
   "source": [
    "df_weekly = df_simple_reindexed.resample('7D').sum()"
   ]
  },
  {
   "cell_type": "code",
   "execution_count": 97,
   "id": "70f3ae22",
   "metadata": {},
   "outputs": [
    {
     "data": {
      "image/png": "[encoded data removed]",
      "text/plain": [
       "<Figure size 432x288 with 1 Axes>"
      ]
     },
     "metadata": {
      "needs_background": "light"
     },
     "output_type": "display_data"
    }
   ],
   "source": [
    "sns.lineplot(data=df_weekly)\n",
    "\n",
    "plt.xticks(rotation=45)\n",
    "plt.show()"
   ]
  },
  {
   "cell_type": "markdown",
   "id": "23e576aa",
   "metadata": {},
   "source": [
    "### Analysing monthly data"
   ]
  },
  {
   "cell_type": "code",
   "execution_count": 98,
   "id": "d0c512de",
   "metadata": {},
   "outputs": [],
   "source": [
    "df_monthly = df_simple_reindexed.resample('30D').sum()"
   ]
  },
  {
   "cell_type": "code",
   "execution_count": 99,
   "id": "b13ca831",
   "metadata": {},
   "outputs": [
    {
     "data": {
      "image/png": "[encoded data removed]",
      "text/plain": [
       "<Figure size 432x288 with 1 Axes>"
      ]
     },
     "metadata": {
      "needs_background": "light"
     },
     "output_type": "display_data"
    }
   ],
   "source": [
    "sns.lineplot(data=df_monthly)\n",
    "\n",
    "plt.xticks(rotation=45)\n",
    "plt.show()"
   ]
  },
  {
   "cell_type": "markdown",
   "id": "af948344",
   "metadata": {},
   "source": [
    "### Analysing hourly data"
   ]
  },
  {
   "cell_type": "code",
   "execution_count": 100,
   "id": "43221975",
   "metadata": {},
   "outputs": [],
   "source": [
    "df_by_time = df_simple"
   ]
  },
  {
   "cell_type": "code",
   "execution_count": 101,
   "id": "757c746b",
   "metadata": {},
   "outputs": [],
   "source": [
    "df_by_time['time'] = df_by_time['datetime'].dt.time"
   ]
  },
  {
   "cell_type": "code",
   "execution_count": 102,
   "id": "eddf92e2",
   "metadata": {},
   "outputs": [],
   "source": [
    "df_by_time = df_by_time.drop(columns=['datetime'])"
   ]
  },
  {
   "cell_type": "code",
   "execution_count": 103,
   "id": "fc8dfbdb",
   "metadata": {},
   "outputs": [],
   "source": [
    "df_by_time['time'] = df_by_time['time'].astype('str')"
   ]
  },
  {
   "cell_type": "code",
   "execution_count": 104,
   "id": "2be2ba56",
   "metadata": {},
   "outputs": [],
   "source": [
    "df_by_time.set_index(df_by_time['time'], inplace=True)"
   ]
  },
  {
   "cell_type": "code",
   "execution_count": 105,
   "id": "2944a201",
   "metadata": {},
   "outputs": [
    {
     "data": {
      "text/html": [
       "<div>\n",
       "<style scoped>\n",
       "    .dataframe tbody tr th:only-of-type {\n",
       "        vertical-align: middle;\n",
       "    }\n",
       "\n",
       "    .dataframe tbody tr th {\n",
       "        vertical-align: top;\n",
       "    }\n",
       "\n",
       "    .dataframe thead th {\n",
       "        text-align: right;\n",
       "    }\n",
       "</style>\n",
       "<table border=\"1\" class=\"dataframe\">\n",
       "  <thead>\n",
       "    <tr style=\"text-align: right;\">\n",
       "      <th></th>\n",
       "      <th>casual</th>\n",
       "      <th>registered</th>\n",
       "      <th>count</th>\n",
       "      <th>time</th>\n",
       "    </tr>\n",
       "    <tr>\n",
       "      <th>time</th>\n",
       "      <th></th>\n",
       "      <th></th>\n",
       "      <th></th>\n",
       "      <th></th>\n",
       "    </tr>\n",
       "  </thead>\n",
       "  <tbody>\n",
       "    <tr>\n",
       "      <th>00:00:00</th>\n",
       "      <td>3</td>\n",
       "      <td>13</td>\n",
       "      <td>16</td>\n",
       "      <td>00:00:00</td>\n",
       "    </tr>\n",
       "    <tr>\n",
       "      <th>01:00:00</th>\n",
       "      <td>8</td>\n",
       "      <td>32</td>\n",
       "      <td>40</td>\n",
       "      <td>01:00:00</td>\n",
       "    </tr>\n",
       "    <tr>\n",
       "      <th>02:00:00</th>\n",
       "      <td>5</td>\n",
       "      <td>27</td>\n",
       "      <td>32</td>\n",
       "      <td>02:00:00</td>\n",
       "    </tr>\n",
       "    <tr>\n",
       "      <th>03:00:00</th>\n",
       "      <td>3</td>\n",
       "      <td>10</td>\n",
       "      <td>13</td>\n",
       "      <td>03:00:00</td>\n",
       "    </tr>\n",
       "    <tr>\n",
       "      <th>04:00:00</th>\n",
       "      <td>0</td>\n",
       "      <td>1</td>\n",
       "      <td>1</td>\n",
       "      <td>04:00:00</td>\n",
       "    </tr>\n",
       "  </tbody>\n",
       "</table>\n",
       "</div>"
      ],
      "text/plain": [
       "          casual  registered  count      time\n",
       "time                                         \n",
       "00:00:00       3          13     16  00:00:00\n",
       "01:00:00       8          32     40  01:00:00\n",
       "02:00:00       5          27     32  02:00:00\n",
       "03:00:00       3          10     13  03:00:00\n",
       "04:00:00       0           1      1  04:00:00"
      ]
     },
     "execution_count": 105,
     "metadata": {},
     "output_type": "execute_result"
    }
   ],
   "source": [
    "df_by_time.head()"
   ]
  },
  {
   "cell_type": "code",
   "execution_count": 106,
   "id": "496acca4",
   "metadata": {},
   "outputs": [
    {
     "data": {
      "image/png": "[encoded data removed]",
      "text/plain": [
       "<Figure size 432x288 with 1 Axes>"
      ]
     },
     "metadata": {
      "needs_background": "light"
     },
     "output_type": "display_data"
    }
   ],
   "source": [
    "sns.lineplot(data=df_by_time)\n",
    "plt.xticks(rotation=45);"
   ]
  },
  {
   "cell_type": "code",
   "execution_count": 107,
   "id": "ce9876a9",
   "metadata": {},
   "outputs": [],
   "source": [
    "df_weekdays = df_simple"
   ]
  },
  {
   "cell_type": "code",
   "execution_count": 108,
   "id": "27e6cbd3",
   "metadata": {},
   "outputs": [
    {
     "data": {
      "text/html": [
       "<div>\n",
       "<style scoped>\n",
       "    .dataframe tbody tr th:only-of-type {\n",
       "        vertical-align: middle;\n",
       "    }\n",
       "\n",
       "    .dataframe tbody tr th {\n",
       "        vertical-align: top;\n",
       "    }\n",
       "\n",
       "    .dataframe thead th {\n",
       "        text-align: right;\n",
       "    }\n",
       "</style>\n",
       "<table border=\"1\" class=\"dataframe\">\n",
       "  <thead>\n",
       "    <tr style=\"text-align: right;\">\n",
       "      <th></th>\n",
       "      <th>datetime</th>\n",
       "      <th>casual</th>\n",
       "      <th>registered</th>\n",
       "      <th>count</th>\n",
       "      <th>time</th>\n",
       "    </tr>\n",
       "  </thead>\n",
       "  <tbody>\n",
       "    <tr>\n",
       "      <th>0</th>\n",
       "      <td>2011-01-01 00:00:00</td>\n",
       "      <td>3</td>\n",
       "      <td>13</td>\n",
       "      <td>16</td>\n",
       "      <td>00:00:00</td>\n",
       "    </tr>\n",
       "    <tr>\n",
       "      <th>1</th>\n",
       "      <td>2011-01-01 01:00:00</td>\n",
       "      <td>8</td>\n",
       "      <td>32</td>\n",
       "      <td>40</td>\n",
       "      <td>01:00:00</td>\n",
       "    </tr>\n",
       "    <tr>\n",
       "      <th>2</th>\n",
       "      <td>2011-01-01 02:00:00</td>\n",
       "      <td>5</td>\n",
       "      <td>27</td>\n",
       "      <td>32</td>\n",
       "      <td>02:00:00</td>\n",
       "    </tr>\n",
       "    <tr>\n",
       "      <th>3</th>\n",
       "      <td>2011-01-01 03:00:00</td>\n",
       "      <td>3</td>\n",
       "      <td>10</td>\n",
       "      <td>13</td>\n",
       "      <td>03:00:00</td>\n",
       "    </tr>\n",
       "    <tr>\n",
       "      <th>4</th>\n",
       "      <td>2011-01-01 04:00:00</td>\n",
       "      <td>0</td>\n",
       "      <td>1</td>\n",
       "      <td>1</td>\n",
       "      <td>04:00:00</td>\n",
       "    </tr>\n",
       "    <tr>\n",
       "      <th>...</th>\n",
       "      <td>...</td>\n",
       "      <td>...</td>\n",
       "      <td>...</td>\n",
       "      <td>...</td>\n",
       "      <td>...</td>\n",
       "    </tr>\n",
       "    <tr>\n",
       "      <th>10881</th>\n",
       "      <td>2012-12-19 19:00:00</td>\n",
       "      <td>7</td>\n",
       "      <td>329</td>\n",
       "      <td>336</td>\n",
       "      <td>19:00:00</td>\n",
       "    </tr>\n",
       "    <tr>\n",
       "      <th>10882</th>\n",
       "      <td>2012-12-19 20:00:00</td>\n",
       "      <td>10</td>\n",
       "      <td>231</td>\n",
       "      <td>241</td>\n",
       "      <td>20:00:00</td>\n",
       "    </tr>\n",
       "    <tr>\n",
       "      <th>10883</th>\n",
       "      <td>2012-12-19 21:00:00</td>\n",
       "      <td>4</td>\n",
       "      <td>164</td>\n",
       "      <td>168</td>\n",
       "      <td>21:00:00</td>\n",
       "    </tr>\n",
       "    <tr>\n",
       "      <th>10884</th>\n",
       "      <td>2012-12-19 22:00:00</td>\n",
       "      <td>12</td>\n",
       "      <td>117</td>\n",
       "      <td>129</td>\n",
       "      <td>22:00:00</td>\n",
       "    </tr>\n",
       "    <tr>\n",
       "      <th>10885</th>\n",
       "      <td>2012-12-19 23:00:00</td>\n",
       "      <td>4</td>\n",
       "      <td>84</td>\n",
       "      <td>88</td>\n",
       "      <td>23:00:00</td>\n",
       "    </tr>\n",
       "  </tbody>\n",
       "</table>\n",
       "<p>10886 rows × 5 columns</p>\n",
       "</div>"
      ],
      "text/plain": [
       "                 datetime  casual  registered  count      time\n",
       "0     2011-01-01 00:00:00       3          13     16  00:00:00\n",
       "1     2011-01-01 01:00:00       8          32     40  01:00:00\n",
       "2     2011-01-01 02:00:00       5          27     32  02:00:00\n",
       "3     2011-01-01 03:00:00       3          10     13  03:00:00\n",
       "4     2011-01-01 04:00:00       0           1      1  04:00:00\n",
       "...                   ...     ...         ...    ...       ...\n",
       "10881 2012-12-19 19:00:00       7         329    336  19:00:00\n",
       "10882 2012-12-19 20:00:00      10         231    241  20:00:00\n",
       "10883 2012-12-19 21:00:00       4         164    168  21:00:00\n",
       "10884 2012-12-19 22:00:00      12         117    129  22:00:00\n",
       "10885 2012-12-19 23:00:00       4          84     88  23:00:00\n",
       "\n",
       "[10886 rows x 5 columns]"
      ]
     },
     "execution_count": 108,
     "metadata": {},
     "output_type": "execute_result"
    }
   ],
   "source": [
    "df_simple"
   ]
  },
  {
   "cell_type": "code",
   "execution_count": 109,
   "id": "59c2033a",
   "metadata": {},
   "outputs": [],
   "source": [
    "df_weekdays['day_name'] = df_weekdays['datetime'].dt.day_name()"
   ]
  },
  {
   "cell_type": "code",
   "execution_count": 110,
   "id": "cd039da8",
   "metadata": {},
   "outputs": [],
   "source": [
    "df_weekdays.set_index(df_weekdays['day_name'], inplace=True)"
   ]
  },
  {
   "cell_type": "code",
   "execution_count": 111,
   "id": "da97dfde",
   "metadata": {},
   "outputs": [],
   "source": [
    "df_weekdays = df_weekdays.drop(columns=['time', 'datetime', 'day_name'])"
   ]
  },
  {
   "cell_type": "code",
   "execution_count": 112,
   "id": "56342239",
   "metadata": {},
   "outputs": [
    {
     "data": {
      "text/html": [
       "<div>\n",
       "<style scoped>\n",
       "    .dataframe tbody tr th:only-of-type {\n",
       "        vertical-align: middle;\n",
       "    }\n",
       "\n",
       "    .dataframe tbody tr th {\n",
       "        vertical-align: top;\n",
       "    }\n",
       "\n",
       "    .dataframe thead th {\n",
       "        text-align: right;\n",
       "    }\n",
       "</style>\n",
       "<table border=\"1\" class=\"dataframe\">\n",
       "  <thead>\n",
       "    <tr style=\"text-align: right;\">\n",
       "      <th></th>\n",
       "      <th>casual</th>\n",
       "      <th>registered</th>\n",
       "      <th>count</th>\n",
       "    </tr>\n",
       "    <tr>\n",
       "      <th>day_name</th>\n",
       "      <th></th>\n",
       "      <th></th>\n",
       "      <th></th>\n",
       "    </tr>\n",
       "  </thead>\n",
       "  <tbody>\n",
       "    <tr>\n",
       "      <th>Saturday</th>\n",
       "      <td>3</td>\n",
       "      <td>13</td>\n",
       "      <td>16</td>\n",
       "    </tr>\n",
       "    <tr>\n",
       "      <th>Saturday</th>\n",
       "      <td>8</td>\n",
       "      <td>32</td>\n",
       "      <td>40</td>\n",
       "    </tr>\n",
       "    <tr>\n",
       "      <th>Saturday</th>\n",
       "      <td>5</td>\n",
       "      <td>27</td>\n",
       "      <td>32</td>\n",
       "    </tr>\n",
       "    <tr>\n",
       "      <th>Saturday</th>\n",
       "      <td>3</td>\n",
       "      <td>10</td>\n",
       "      <td>13</td>\n",
       "    </tr>\n",
       "    <tr>\n",
       "      <th>Saturday</th>\n",
       "      <td>0</td>\n",
       "      <td>1</td>\n",
       "      <td>1</td>\n",
       "    </tr>\n",
       "  </tbody>\n",
       "</table>\n",
       "</div>"
      ],
      "text/plain": [
       "          casual  registered  count\n",
       "day_name                           \n",
       "Saturday       3          13     16\n",
       "Saturday       8          32     40\n",
       "Saturday       5          27     32\n",
       "Saturday       3          10     13\n",
       "Saturday       0           1      1"
      ]
     },
     "execution_count": 112,
     "metadata": {},
     "output_type": "execute_result"
    }
   ],
   "source": [
    "df_weekdays.head()"
   ]
  },
  {
   "cell_type": "code",
   "execution_count": 113,
   "id": "4b86a1b8",
   "metadata": {},
   "outputs": [
    {
     "data": {
      "image/png": "[encoded data removed]",
      "text/plain": [
       "<Figure size 432x288 with 1 Axes>"
      ]
     },
     "metadata": {
      "needs_background": "light"
     },
     "output_type": "display_data"
    }
   ],
   "source": [
    "sns.lineplot(data=df_weekdays)\n",
    "plt.xlabel('day_name')\n",
    "plt.ylabel('nb of bikes')\n",
    "plt.title('Number of bikes rented by week day');"
   ]
  },
  {
   "cell_type": "markdown",
   "id": "8333e9af",
   "metadata": {},
   "source": [
    "### Linear regression"
   ]
  },
  {
   "cell_type": "code",
   "execution_count": 114,
   "id": "5135122c",
   "metadata": {},
   "outputs": [],
   "source": [
    "df = pd.read_csv('train.csv')\n",
    "#df['datetime'] = pd.to_datetime(df['datetime'])\n",
    "#df.set_index(df['datetime'], inplace=True)\n"
   ]
  },
  {
   "cell_type": "code",
   "execution_count": 115,
   "id": "95152405",
   "metadata": {},
   "outputs": [
    {
     "data": {
      "text/plain": [
       "((8164, 11), (2722, 11), (8164,), (2722,))"
      ]
     },
     "execution_count": 115,
     "metadata": {},
     "output_type": "execute_result"
    }
   ],
   "source": [
    "X = df.drop(columns=['count'])\n",
    "y = df['count']\n",
    "\n",
    "X_train, X_test, y_train, y_test = train_test_split(X,y,random_state=42)\n",
    "\n",
    "X_train.shape, X_test.shape, y_train.shape, y_test.shape"
   ]
  },
  {
   "cell_type": "code",
   "execution_count": 116,
   "id": "79ef0cd3",
   "metadata": {},
   "outputs": [
    {
     "data": {
      "text/html": [
       "<div>\n",
       "<style scoped>\n",
       "    .dataframe tbody tr th:only-of-type {\n",
       "        vertical-align: middle;\n",
       "    }\n",
       "\n",
       "    .dataframe tbody tr th {\n",
       "        vertical-align: top;\n",
       "    }\n",
       "\n",
       "    .dataframe thead th {\n",
       "        text-align: right;\n",
       "    }\n",
       "</style>\n",
       "<table border=\"1\" class=\"dataframe\">\n",
       "  <thead>\n",
       "    <tr style=\"text-align: right;\">\n",
       "      <th></th>\n",
       "      <th>datetime</th>\n",
       "      <th>season</th>\n",
       "      <th>holiday</th>\n",
       "      <th>workingday</th>\n",
       "      <th>weather</th>\n",
       "      <th>temp</th>\n",
       "      <th>atemp</th>\n",
       "      <th>humidity</th>\n",
       "      <th>windspeed</th>\n",
       "      <th>casual</th>\n",
       "      <th>registered</th>\n",
       "    </tr>\n",
       "  </thead>\n",
       "  <tbody>\n",
       "    <tr>\n",
       "      <th>2930</th>\n",
       "      <td>2011-07-11 00:00:00</td>\n",
       "      <td>3</td>\n",
       "      <td>0</td>\n",
       "      <td>1</td>\n",
       "      <td>1</td>\n",
       "      <td>28.70</td>\n",
       "      <td>32.575</td>\n",
       "      <td>65</td>\n",
       "      <td>12.9980</td>\n",
       "      <td>10</td>\n",
       "      <td>25</td>\n",
       "    </tr>\n",
       "    <tr>\n",
       "      <th>7669</th>\n",
       "      <td>2012-05-18 22:00:00</td>\n",
       "      <td>2</td>\n",
       "      <td>0</td>\n",
       "      <td>1</td>\n",
       "      <td>1</td>\n",
       "      <td>22.96</td>\n",
       "      <td>26.515</td>\n",
       "      <td>52</td>\n",
       "      <td>22.0028</td>\n",
       "      <td>57</td>\n",
       "      <td>194</td>\n",
       "    </tr>\n",
       "    <tr>\n",
       "      <th>1346</th>\n",
       "      <td>2011-04-01 23:00:00</td>\n",
       "      <td>2</td>\n",
       "      <td>0</td>\n",
       "      <td>1</td>\n",
       "      <td>1</td>\n",
       "      <td>12.30</td>\n",
       "      <td>15.910</td>\n",
       "      <td>61</td>\n",
       "      <td>6.0032</td>\n",
       "      <td>12</td>\n",
       "      <td>41</td>\n",
       "    </tr>\n",
       "    <tr>\n",
       "      <th>9432</th>\n",
       "      <td>2012-09-16 09:00:00</td>\n",
       "      <td>3</td>\n",
       "      <td>0</td>\n",
       "      <td>0</td>\n",
       "      <td>1</td>\n",
       "      <td>23.78</td>\n",
       "      <td>27.275</td>\n",
       "      <td>60</td>\n",
       "      <td>8.9981</td>\n",
       "      <td>70</td>\n",
       "      <td>226</td>\n",
       "    </tr>\n",
       "    <tr>\n",
       "      <th>453</th>\n",
       "      <td>2011-02-01 23:00:00</td>\n",
       "      <td>1</td>\n",
       "      <td>0</td>\n",
       "      <td>1</td>\n",
       "      <td>3</td>\n",
       "      <td>8.20</td>\n",
       "      <td>9.850</td>\n",
       "      <td>93</td>\n",
       "      <td>12.9980</td>\n",
       "      <td>1</td>\n",
       "      <td>15</td>\n",
       "    </tr>\n",
       "  </tbody>\n",
       "</table>\n",
       "</div>"
      ],
      "text/plain": [
       "                 datetime  season  holiday  workingday  weather   temp  \\\n",
       "2930  2011-07-11 00:00:00       3        0           1        1  28.70   \n",
       "7669  2012-05-18 22:00:00       2        0           1        1  22.96   \n",
       "1346  2011-04-01 23:00:00       2        0           1        1  12.30   \n",
       "9432  2012-09-16 09:00:00       3        0           0        1  23.78   \n",
       "453   2011-02-01 23:00:00       1        0           1        3   8.20   \n",
       "\n",
       "       atemp  humidity  windspeed  casual  registered  \n",
       "2930  32.575        65    12.9980      10          25  \n",
       "7669  26.515        52    22.0028      57         194  \n",
       "1346  15.910        61     6.0032      12          41  \n",
       "9432  27.275        60     8.9981      70         226  \n",
       "453    9.850        93    12.9980       1          15  "
      ]
     },
     "execution_count": 116,
     "metadata": {},
     "output_type": "execute_result"
    }
   ],
   "source": [
    "X_train.head()"
   ]
  },
  {
   "cell_type": "code",
   "execution_count": 117,
   "id": "e5e8ddac",
   "metadata": {},
   "outputs": [],
   "source": [
    "#sns.pairplot(data=df)"
   ]
  },
  {
   "cell_type": "code",
   "execution_count": 118,
   "id": "631693c9",
   "metadata": {},
   "outputs": [],
   "source": [
    "X_train['datetime'] = pd.to_datetime(X_train['datetime'])\n",
    "X_test['datetime'] = pd.to_datetime(X_test['datetime'])"
   ]
  },
  {
   "cell_type": "code",
   "execution_count": 119,
   "id": "ecfa824f",
   "metadata": {},
   "outputs": [],
   "source": [
    "X_train['date'] = X_train['datetime'].dt.date\n",
    "X_test['date'] = X_test['datetime'].dt.date\n",
    "X_train['time'] = X_train['datetime'].dt.hour\n",
    "X_test['time'] = X_test['datetime'].dt.hour"
   ]
  },
  {
   "cell_type": "code",
   "execution_count": 120,
   "id": "dbfd452e",
   "metadata": {},
   "outputs": [
    {
     "data": {
      "text/html": [
       "<div>\n",
       "<style scoped>\n",
       "    .dataframe tbody tr th:only-of-type {\n",
       "        vertical-align: middle;\n",
       "    }\n",
       "\n",
       "    .dataframe tbody tr th {\n",
       "        vertical-align: top;\n",
       "    }\n",
       "\n",
       "    .dataframe thead th {\n",
       "        text-align: right;\n",
       "    }\n",
       "</style>\n",
       "<table border=\"1\" class=\"dataframe\">\n",
       "  <thead>\n",
       "    <tr style=\"text-align: right;\">\n",
       "      <th></th>\n",
       "      <th>datetime</th>\n",
       "      <th>season</th>\n",
       "      <th>holiday</th>\n",
       "      <th>workingday</th>\n",
       "      <th>weather</th>\n",
       "      <th>temp</th>\n",
       "      <th>atemp</th>\n",
       "      <th>humidity</th>\n",
       "      <th>windspeed</th>\n",
       "      <th>casual</th>\n",
       "      <th>registered</th>\n",
       "      <th>date</th>\n",
       "      <th>time</th>\n",
       "    </tr>\n",
       "  </thead>\n",
       "  <tbody>\n",
       "    <tr>\n",
       "      <th>2930</th>\n",
       "      <td>2011-07-11 00:00:00</td>\n",
       "      <td>3</td>\n",
       "      <td>0</td>\n",
       "      <td>1</td>\n",
       "      <td>1</td>\n",
       "      <td>28.70</td>\n",
       "      <td>32.575</td>\n",
       "      <td>65</td>\n",
       "      <td>12.9980</td>\n",
       "      <td>10</td>\n",
       "      <td>25</td>\n",
       "      <td>2011-07-11</td>\n",
       "      <td>0</td>\n",
       "    </tr>\n",
       "    <tr>\n",
       "      <th>7669</th>\n",
       "      <td>2012-05-18 22:00:00</td>\n",
       "      <td>2</td>\n",
       "      <td>0</td>\n",
       "      <td>1</td>\n",
       "      <td>1</td>\n",
       "      <td>22.96</td>\n",
       "      <td>26.515</td>\n",
       "      <td>52</td>\n",
       "      <td>22.0028</td>\n",
       "      <td>57</td>\n",
       "      <td>194</td>\n",
       "      <td>2012-05-18</td>\n",
       "      <td>22</td>\n",
       "    </tr>\n",
       "    <tr>\n",
       "      <th>1346</th>\n",
       "      <td>2011-04-01 23:00:00</td>\n",
       "      <td>2</td>\n",
       "      <td>0</td>\n",
       "      <td>1</td>\n",
       "      <td>1</td>\n",
       "      <td>12.30</td>\n",
       "      <td>15.910</td>\n",
       "      <td>61</td>\n",
       "      <td>6.0032</td>\n",
       "      <td>12</td>\n",
       "      <td>41</td>\n",
       "      <td>2011-04-01</td>\n",
       "      <td>23</td>\n",
       "    </tr>\n",
       "    <tr>\n",
       "      <th>9432</th>\n",
       "      <td>2012-09-16 09:00:00</td>\n",
       "      <td>3</td>\n",
       "      <td>0</td>\n",
       "      <td>0</td>\n",
       "      <td>1</td>\n",
       "      <td>23.78</td>\n",
       "      <td>27.275</td>\n",
       "      <td>60</td>\n",
       "      <td>8.9981</td>\n",
       "      <td>70</td>\n",
       "      <td>226</td>\n",
       "      <td>2012-09-16</td>\n",
       "      <td>9</td>\n",
       "    </tr>\n",
       "    <tr>\n",
       "      <th>453</th>\n",
       "      <td>2011-02-01 23:00:00</td>\n",
       "      <td>1</td>\n",
       "      <td>0</td>\n",
       "      <td>1</td>\n",
       "      <td>3</td>\n",
       "      <td>8.20</td>\n",
       "      <td>9.850</td>\n",
       "      <td>93</td>\n",
       "      <td>12.9980</td>\n",
       "      <td>1</td>\n",
       "      <td>15</td>\n",
       "      <td>2011-02-01</td>\n",
       "      <td>23</td>\n",
       "    </tr>\n",
       "  </tbody>\n",
       "</table>\n",
       "</div>"
      ],
      "text/plain": [
       "                datetime  season  holiday  workingday  weather   temp   atemp  \\\n",
       "2930 2011-07-11 00:00:00       3        0           1        1  28.70  32.575   \n",
       "7669 2012-05-18 22:00:00       2        0           1        1  22.96  26.515   \n",
       "1346 2011-04-01 23:00:00       2        0           1        1  12.30  15.910   \n",
       "9432 2012-09-16 09:00:00       3        0           0        1  23.78  27.275   \n",
       "453  2011-02-01 23:00:00       1        0           1        3   8.20   9.850   \n",
       "\n",
       "      humidity  windspeed  casual  registered        date  time  \n",
       "2930        65    12.9980      10          25  2011-07-11     0  \n",
       "7669        52    22.0028      57         194  2012-05-18    22  \n",
       "1346        61     6.0032      12          41  2011-04-01    23  \n",
       "9432        60     8.9981      70         226  2012-09-16     9  \n",
       "453         93    12.9980       1          15  2011-02-01    23  "
      ]
     },
     "execution_count": 120,
     "metadata": {},
     "output_type": "execute_result"
    }
   ],
   "source": [
    "X_train.head()"
   ]
  },
  {
   "cell_type": "code",
   "execution_count": 121,
   "id": "4986d7ee",
   "metadata": {},
   "outputs": [],
   "source": [
    "X_train.set_index(X_train['datetime'])\n",
    "X_test.set_index(X_test['datetime'])\n",
    "\n",
    "X_train = X_train.drop(columns = ['atemp', 'casual', 'registered','datetime','date'])\n",
    "X_test = X_test.drop(columns = ['atemp', 'casual', 'registered','datetime','date'])"
   ]
  },
  {
   "cell_type": "code",
   "execution_count": 122,
   "id": "9f11bb44",
   "metadata": {},
   "outputs": [
    {
     "data": {
      "text/html": [
       "<div>\n",
       "<style scoped>\n",
       "    .dataframe tbody tr th:only-of-type {\n",
       "        vertical-align: middle;\n",
       "    }\n",
       "\n",
       "    .dataframe tbody tr th {\n",
       "        vertical-align: top;\n",
       "    }\n",
       "\n",
       "    .dataframe thead th {\n",
       "        text-align: right;\n",
       "    }\n",
       "</style>\n",
       "<table border=\"1\" class=\"dataframe\">\n",
       "  <thead>\n",
       "    <tr style=\"text-align: right;\">\n",
       "      <th></th>\n",
       "      <th>season</th>\n",
       "      <th>holiday</th>\n",
       "      <th>workingday</th>\n",
       "      <th>weather</th>\n",
       "      <th>temp</th>\n",
       "      <th>humidity</th>\n",
       "      <th>windspeed</th>\n",
       "      <th>time</th>\n",
       "    </tr>\n",
       "  </thead>\n",
       "  <tbody>\n",
       "    <tr>\n",
       "      <th>2930</th>\n",
       "      <td>3</td>\n",
       "      <td>0</td>\n",
       "      <td>1</td>\n",
       "      <td>1</td>\n",
       "      <td>28.70</td>\n",
       "      <td>65</td>\n",
       "      <td>12.9980</td>\n",
       "      <td>0</td>\n",
       "    </tr>\n",
       "    <tr>\n",
       "      <th>7669</th>\n",
       "      <td>2</td>\n",
       "      <td>0</td>\n",
       "      <td>1</td>\n",
       "      <td>1</td>\n",
       "      <td>22.96</td>\n",
       "      <td>52</td>\n",
       "      <td>22.0028</td>\n",
       "      <td>22</td>\n",
       "    </tr>\n",
       "    <tr>\n",
       "      <th>1346</th>\n",
       "      <td>2</td>\n",
       "      <td>0</td>\n",
       "      <td>1</td>\n",
       "      <td>1</td>\n",
       "      <td>12.30</td>\n",
       "      <td>61</td>\n",
       "      <td>6.0032</td>\n",
       "      <td>23</td>\n",
       "    </tr>\n",
       "    <tr>\n",
       "      <th>9432</th>\n",
       "      <td>3</td>\n",
       "      <td>0</td>\n",
       "      <td>0</td>\n",
       "      <td>1</td>\n",
       "      <td>23.78</td>\n",
       "      <td>60</td>\n",
       "      <td>8.9981</td>\n",
       "      <td>9</td>\n",
       "    </tr>\n",
       "    <tr>\n",
       "      <th>453</th>\n",
       "      <td>1</td>\n",
       "      <td>0</td>\n",
       "      <td>1</td>\n",
       "      <td>3</td>\n",
       "      <td>8.20</td>\n",
       "      <td>93</td>\n",
       "      <td>12.9980</td>\n",
       "      <td>23</td>\n",
       "    </tr>\n",
       "  </tbody>\n",
       "</table>\n",
       "</div>"
      ],
      "text/plain": [
       "      season  holiday  workingday  weather   temp  humidity  windspeed  time\n",
       "2930       3        0           1        1  28.70        65    12.9980     0\n",
       "7669       2        0           1        1  22.96        52    22.0028    22\n",
       "1346       2        0           1        1  12.30        61     6.0032    23\n",
       "9432       3        0           0        1  23.78        60     8.9981     9\n",
       "453        1        0           1        3   8.20        93    12.9980    23"
      ]
     },
     "execution_count": 122,
     "metadata": {},
     "output_type": "execute_result"
    }
   ],
   "source": [
    "X_train.head()"
   ]
  },
  {
   "cell_type": "code",
   "execution_count": 123,
   "id": "afa74578",
   "metadata": {},
   "outputs": [],
   "source": [
    "pipeline_hour = Pipeline([\n",
    "    (\"binning\", KBinsDiscretizer(n_bins=24, encode='onehot-dense', strategy='uniform')),\n",
    "])"
   ]
  },
  {
   "cell_type": "code",
   "execution_count": 124,
   "id": "55459152",
   "metadata": {},
   "outputs": [],
   "source": [
    "pipeline_season = Pipeline([\n",
    "    (\"encoder\", OneHotEncoder(handle_unknown='ignore', sparse=False, drop='if_binary')),\n",
    "])"
   ]
  },
  {
   "cell_type": "code",
   "execution_count": 125,
   "id": "7932d1fb",
   "metadata": {},
   "outputs": [],
   "source": [
    "transformer = ColumnTransformer(\n",
    "    [\n",
    "        (\"hour\", pipeline_hour, ['time']),\n",
    "        #(\"season\", pipeline_season, ['season']),\n",
    "    ]\n",
    ")"
   ]
  },
  {
   "cell_type": "code",
   "execution_count": 126,
   "id": "8ff1197a",
   "metadata": {},
   "outputs": [],
   "source": [
    "m = LinearRegression()"
   ]
  },
  {
   "cell_type": "code",
   "execution_count": 127,
   "id": "6e3de6d6",
   "metadata": {},
   "outputs": [],
   "source": [
    "X_train_FE = transformer.fit_transform(X_train)\n",
    "X_test_FE = transformer.transform(X_test)"
   ]
  },
  {
   "cell_type": "code",
   "execution_count": 128,
   "id": "40fe9487",
   "metadata": {},
   "outputs": [
    {
     "data": {
      "text/plain": [
       "((8164, 8), (2722, 8), (8164,), (2722,))"
      ]
     },
     "execution_count": 128,
     "metadata": {},
     "output_type": "execute_result"
    }
   ],
   "source": [
    "X_train.shape, X_test.shape, y_train.shape, y_test.shape"
   ]
  },
  {
   "cell_type": "code",
   "execution_count": 129,
   "id": "2b4b63b5",
   "metadata": {},
   "outputs": [
    {
     "data": {
      "text/plain": [
       "LinearRegression()"
      ]
     },
     "execution_count": 129,
     "metadata": {},
     "output_type": "execute_result"
    }
   ],
   "source": [
    "m.fit(X_train_FE,y_train)"
   ]
  },
  {
   "cell_type": "code",
   "execution_count": 130,
   "id": "45c1aa76",
   "metadata": {},
   "outputs": [],
   "source": [
    "ypred = m.predict(X_test_FE)"
   ]
  },
  {
   "cell_type": "code",
   "execution_count": 131,
   "id": "b05f84f9",
   "metadata": {},
   "outputs": [
    {
     "data": {
      "text/plain": [
       "0.49765504559585116"
      ]
     },
     "execution_count": 131,
     "metadata": {},
     "output_type": "execute_result"
    }
   ],
   "source": [
    "m.score(pd.DataFrame(X_test_FE), y_test)"
   ]
  },
  {
   "cell_type": "code",
   "execution_count": 132,
   "id": "9daa11dc",
   "metadata": {},
   "outputs": [
    {
     "data": {
      "text/plain": [
       "(array([-8.03469711e+14, -8.03469711e+14, -8.03469711e+14, -8.03469711e+14,\n",
       "        -8.03469711e+14, -8.03469711e+14, -8.03469711e+14, -8.03469711e+14,\n",
       "        -8.03469711e+14, -8.03469711e+14, -8.03469711e+14, -8.03469711e+14,\n",
       "        -8.03469711e+14, -8.03469711e+14, -8.03469711e+14, -8.03469711e+14,\n",
       "        -8.03469711e+14, -8.03469711e+14, -8.03469711e+14, -8.03469711e+14,\n",
       "        -8.03469711e+14, -8.03469711e+14, -8.03469711e+14, -8.03469711e+14]),\n",
       " 803469710513877.8)"
      ]
     },
     "execution_count": 132,
     "metadata": {},
     "output_type": "execute_result"
    }
   ],
   "source": [
    "m.coef_, m.intercept_"
   ]
  },
  {
   "cell_type": "code",
   "execution_count": null,
   "id": "a32d68bd",
   "metadata": {},
   "outputs": [],
   "source": []
  },
  {
   "cell_type": "code",
   "execution_count": 133,
   "id": "5571ccae",
   "metadata": {},
   "outputs": [
    {
     "data": {
      "text/plain": [
       "\"df = pd.read_csv('train.csv')\\ndf['datetime'] = pd.to_datetime(df['datetime'])\\ndf.set_index(df['datetime'], inplace=True)\\ndf = df.drop(columns = ['atemp', 'datetime', 'casual', 'registered'])\\ndf = df.resample('1D').agg({'temp':'mean', 'humidity':'mean', 'windspeed': 'mean', 'count':'sum'})\\ndf = df.ffill()\""
      ]
     },
     "execution_count": 133,
     "metadata": {},
     "output_type": "execute_result"
    }
   ],
   "source": [
    "\"\"\"df = pd.read_csv('train.csv')\n",
    "df['datetime'] = pd.to_datetime(df['datetime'])\n",
    "df.set_index(df['datetime'], inplace=True)\n",
    "df = df.drop(columns = ['atemp', 'datetime', 'casual', 'registered'])\n",
    "df = df.resample('1D').agg({'temp':'mean', 'humidity':'mean', 'windspeed': 'mean', 'count':'sum'})\n",
    "df = df.ffill()\"\"\""
   ]
  }
 ],
 "metadata": {
  "kernelspec": {
   "display_name": "Python 3 (ipykernel)",
   "language": "python",
   "name": "python3"
  },
  "language_info": {
   "codemirror_mode": {
    "name": "ipython",
    "version": 3
   },
   "file_extension": ".py",
   "mimetype": "text/x-python",
   "name": "python",
   "nbconvert_exporter": "python",
   "pygments_lexer": "ipython3",
   "version": "3.9.12"
  }
 },
 "nbformat": 4,
 "nbformat_minor": 5
}
