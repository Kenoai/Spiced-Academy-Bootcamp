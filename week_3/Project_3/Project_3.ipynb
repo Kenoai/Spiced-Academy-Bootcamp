{
 "cells": [
  {
   "cell_type": "code",
   "execution_count": 160,
   "id": "0bc93234",
   "metadata": {},
   "outputs": [],
   "source": [
    "import pandas as pd\n",
    "import matplotlib.pyplot as plt\n",
    "import seaborn as sns\n",
    "from sklearn.model_selection import train_test_split\n",
    "from sklearn.linear_model import LinearRegression\n",
    "from sklearn.compose import ColumnTransformer\n",
    "from sklearn.pipeline import Pipeline\n",
    "from sklearn.preprocessing import StandardScaler, OneHotEncoder, KBinsDiscretizer, MinMaxScaler\n",
    "import numpy as np"
   ]
  },
  {
   "cell_type": "code",
   "execution_count": 2,
   "id": "2ff048b7",
   "metadata": {},
   "outputs": [],
   "source": [
    "df = pd.read_csv('train.csv')"
   ]
  },
  {
   "cell_type": "code",
   "execution_count": 3,
   "id": "3bbdc86f",
   "metadata": {},
   "outputs": [
    {
     "data": {
      "text/plain": [
       "(10886, 12)"
      ]
     },
     "execution_count": 3,
     "metadata": {},
     "output_type": "execute_result"
    }
   ],
   "source": [
    "df.shape"
   ]
  },
  {
   "cell_type": "code",
   "execution_count": 4,
   "id": "7bf01267",
   "metadata": {},
   "outputs": [],
   "source": [
    "df_mini = df.drop(columns=['season', 'holiday', 'workingday'])"
   ]
  },
  {
   "cell_type": "code",
   "execution_count": null,
   "id": "6a09828a",
   "metadata": {},
   "outputs": [],
   "source": []
  },
  {
   "cell_type": "code",
   "execution_count": 5,
   "id": "6f7051d0",
   "metadata": {},
   "outputs": [],
   "source": [
    "df['datetime'] = pd.to_datetime(df['datetime'])"
   ]
  },
  {
   "cell_type": "markdown",
   "id": "b1c2a827",
   "metadata": {},
   "source": [
    "### Create a dataframe only storing the number of bikes rented"
   ]
  },
  {
   "cell_type": "markdown",
   "id": "c282db6d",
   "metadata": {},
   "source": [
    "Sums of bikes rented will be easier to calculate if we drop all weather data"
   ]
  },
  {
   "cell_type": "code",
   "execution_count": 6,
   "id": "ba40ad97",
   "metadata": {},
   "outputs": [],
   "source": [
    "df_simple = df.drop(columns=['season', 'holiday', 'workingday', 'weather', 'temp', 'atemp', 'humidity', 'windspeed'])"
   ]
  },
  {
   "cell_type": "code",
   "execution_count": 7,
   "id": "b4a1a42a",
   "metadata": {},
   "outputs": [],
   "source": [
    "df_simple_reindexed = df_simple.set_index(pd.to_datetime(df['datetime']))"
   ]
  },
  {
   "cell_type": "code",
   "execution_count": 8,
   "id": "f0c19bf0",
   "metadata": {},
   "outputs": [
    {
     "data": {
      "text/html": [
       "<div>\n",
       "<style scoped>\n",
       "    .dataframe tbody tr th:only-of-type {\n",
       "        vertical-align: middle;\n",
       "    }\n",
       "\n",
       "    .dataframe tbody tr th {\n",
       "        vertical-align: top;\n",
       "    }\n",
       "\n",
       "    .dataframe thead th {\n",
       "        text-align: right;\n",
       "    }\n",
       "</style>\n",
       "<table border=\"1\" class=\"dataframe\">\n",
       "  <thead>\n",
       "    <tr style=\"text-align: right;\">\n",
       "      <th></th>\n",
       "      <th>datetime</th>\n",
       "      <th>casual</th>\n",
       "      <th>registered</th>\n",
       "      <th>count</th>\n",
       "    </tr>\n",
       "    <tr>\n",
       "      <th>datetime</th>\n",
       "      <th></th>\n",
       "      <th></th>\n",
       "      <th></th>\n",
       "      <th></th>\n",
       "    </tr>\n",
       "  </thead>\n",
       "  <tbody>\n",
       "    <tr>\n",
       "      <th>2011-01-01 00:00:00</th>\n",
       "      <td>2011-01-01 00:00:00</td>\n",
       "      <td>3</td>\n",
       "      <td>13</td>\n",
       "      <td>16</td>\n",
       "    </tr>\n",
       "    <tr>\n",
       "      <th>2011-01-01 01:00:00</th>\n",
       "      <td>2011-01-01 01:00:00</td>\n",
       "      <td>8</td>\n",
       "      <td>32</td>\n",
       "      <td>40</td>\n",
       "    </tr>\n",
       "    <tr>\n",
       "      <th>2011-01-01 02:00:00</th>\n",
       "      <td>2011-01-01 02:00:00</td>\n",
       "      <td>5</td>\n",
       "      <td>27</td>\n",
       "      <td>32</td>\n",
       "    </tr>\n",
       "    <tr>\n",
       "      <th>2011-01-01 03:00:00</th>\n",
       "      <td>2011-01-01 03:00:00</td>\n",
       "      <td>3</td>\n",
       "      <td>10</td>\n",
       "      <td>13</td>\n",
       "    </tr>\n",
       "    <tr>\n",
       "      <th>2011-01-01 04:00:00</th>\n",
       "      <td>2011-01-01 04:00:00</td>\n",
       "      <td>0</td>\n",
       "      <td>1</td>\n",
       "      <td>1</td>\n",
       "    </tr>\n",
       "  </tbody>\n",
       "</table>\n",
       "</div>"
      ],
      "text/plain": [
       "                               datetime  casual  registered  count\n",
       "datetime                                                          \n",
       "2011-01-01 00:00:00 2011-01-01 00:00:00       3          13     16\n",
       "2011-01-01 01:00:00 2011-01-01 01:00:00       8          32     40\n",
       "2011-01-01 02:00:00 2011-01-01 02:00:00       5          27     32\n",
       "2011-01-01 03:00:00 2011-01-01 03:00:00       3          10     13\n",
       "2011-01-01 04:00:00 2011-01-01 04:00:00       0           1      1"
      ]
     },
     "execution_count": 8,
     "metadata": {},
     "output_type": "execute_result"
    }
   ],
   "source": [
    "df_simple_reindexed.head()"
   ]
  },
  {
   "cell_type": "markdown",
   "id": "208678b2",
   "metadata": {},
   "source": [
    "### Analysing weekly data"
   ]
  },
  {
   "cell_type": "code",
   "execution_count": 9,
   "id": "0b5f45a5",
   "metadata": {},
   "outputs": [],
   "source": [
    "df_weekly = df_simple_reindexed.resample('7D').sum()"
   ]
  },
  {
   "cell_type": "code",
   "execution_count": 10,
   "id": "70f3ae22",
   "metadata": {},
   "outputs": [
    {
     "data": {
      "image/png": "[encoded data removed]",
      "text/plain": [
       "<Figure size 432x288 with 1 Axes>"
      ]
     },
     "metadata": {
      "needs_background": "light"
     },
     "output_type": "display_data"
    }
   ],
   "source": [
    "sns.lineplot(data=df_weekly)\n",
    "\n",
    "plt.xticks(rotation=45)\n",
    "plt.show()"
   ]
  },
  {
   "cell_type": "markdown",
   "id": "23e576aa",
   "metadata": {},
   "source": [
    "### Analysing monthly data"
   ]
  },
  {
   "cell_type": "code",
   "execution_count": 11,
   "id": "d0c512de",
   "metadata": {},
   "outputs": [],
   "source": [
    "df_monthly = df_simple_reindexed.resample('30D').sum()"
   ]
  },
  {
   "cell_type": "code",
   "execution_count": 12,
   "id": "b13ca831",
   "metadata": {},
   "outputs": [
    {
     "data": {
      "image/png": "[encoded data removed]",
      "text/plain": [
       "<Figure size 432x288 with 1 Axes>"
      ]
     },
     "metadata": {
      "needs_background": "light"
     },
     "output_type": "display_data"
    }
   ],
   "source": [
    "sns.lineplot(data=df_monthly)\n",
    "\n",
    "plt.xticks(rotation=45)\n",
    "plt.show()"
   ]
  },
  {
   "cell_type": "markdown",
   "id": "af948344",
   "metadata": {},
   "source": [
    "### Analysing hourly data"
   ]
  },
  {
   "cell_type": "code",
   "execution_count": 13,
   "id": "43221975",
   "metadata": {},
   "outputs": [],
   "source": [
    "df_by_time = df_simple"
   ]
  },
  {
   "cell_type": "code",
   "execution_count": 14,
   "id": "757c746b",
   "metadata": {},
   "outputs": [],
   "source": [
    "df_by_time['time'] = df_by_time['datetime'].dt.time"
   ]
  },
  {
   "cell_type": "code",
   "execution_count": 15,
   "id": "eddf92e2",
   "metadata": {},
   "outputs": [],
   "source": [
    "df_by_time = df_by_time.drop(columns=['datetime'])"
   ]
  },
  {
   "cell_type": "code",
   "execution_count": 16,
   "id": "fc8dfbdb",
   "metadata": {},
   "outputs": [],
   "source": [
    "df_by_time['time'] = df_by_time['time'].astype('str')"
   ]
  },
  {
   "cell_type": "code",
   "execution_count": 17,
   "id": "2be2ba56",
   "metadata": {},
   "outputs": [],
   "source": [
    "df_by_time.set_index(df_by_time['time'], inplace=True)"
   ]
  },
  {
   "cell_type": "code",
   "execution_count": 18,
   "id": "2944a201",
   "metadata": {},
   "outputs": [
    {
     "data": {
      "text/html": [
       "<div>\n",
       "<style scoped>\n",
       "    .dataframe tbody tr th:only-of-type {\n",
       "        vertical-align: middle;\n",
       "    }\n",
       "\n",
       "    .dataframe tbody tr th {\n",
       "        vertical-align: top;\n",
       "    }\n",
       "\n",
       "    .dataframe thead th {\n",
       "        text-align: right;\n",
       "    }\n",
       "</style>\n",
       "<table border=\"1\" class=\"dataframe\">\n",
       "  <thead>\n",
       "    <tr style=\"text-align: right;\">\n",
       "      <th></th>\n",
       "      <th>casual</th>\n",
       "      <th>registered</th>\n",
       "      <th>count</th>\n",
       "      <th>time</th>\n",
       "    </tr>\n",
       "    <tr>\n",
       "      <th>time</th>\n",
       "      <th></th>\n",
       "      <th></th>\n",
       "      <th></th>\n",
       "      <th></th>\n",
       "    </tr>\n",
       "  </thead>\n",
       "  <tbody>\n",
       "    <tr>\n",
       "      <th>00:00:00</th>\n",
       "      <td>3</td>\n",
       "      <td>13</td>\n",
       "      <td>16</td>\n",
       "      <td>00:00:00</td>\n",
       "    </tr>\n",
       "    <tr>\n",
       "      <th>01:00:00</th>\n",
       "      <td>8</td>\n",
       "      <td>32</td>\n",
       "      <td>40</td>\n",
       "      <td>01:00:00</td>\n",
       "    </tr>\n",
       "    <tr>\n",
       "      <th>02:00:00</th>\n",
       "      <td>5</td>\n",
       "      <td>27</td>\n",
       "      <td>32</td>\n",
       "      <td>02:00:00</td>\n",
       "    </tr>\n",
       "    <tr>\n",
       "      <th>03:00:00</th>\n",
       "      <td>3</td>\n",
       "      <td>10</td>\n",
       "      <td>13</td>\n",
       "      <td>03:00:00</td>\n",
       "    </tr>\n",
       "    <tr>\n",
       "      <th>04:00:00</th>\n",
       "      <td>0</td>\n",
       "      <td>1</td>\n",
       "      <td>1</td>\n",
       "      <td>04:00:00</td>\n",
       "    </tr>\n",
       "  </tbody>\n",
       "</table>\n",
       "</div>"
      ],
      "text/plain": [
       "          casual  registered  count      time\n",
       "time                                         \n",
       "00:00:00       3          13     16  00:00:00\n",
       "01:00:00       8          32     40  01:00:00\n",
       "02:00:00       5          27     32  02:00:00\n",
       "03:00:00       3          10     13  03:00:00\n",
       "04:00:00       0           1      1  04:00:00"
      ]
     },
     "execution_count": 18,
     "metadata": {},
     "output_type": "execute_result"
    }
   ],
   "source": [
    "df_by_time.head()"
   ]
  },
  {
   "cell_type": "code",
   "execution_count": 19,
   "id": "496acca4",
   "metadata": {},
   "outputs": [
    {
     "data": {
      "image/png": "[encoded data removed]",
      "text/plain": [
       "<Figure size 432x288 with 1 Axes>"
      ]
     },
     "metadata": {
      "needs_background": "light"
     },
     "output_type": "display_data"
    }
   ],
   "source": [
    "sns.lineplot(data=df_by_time)\n",
    "plt.xticks(rotation=45);"
   ]
  },
  {
   "cell_type": "code",
   "execution_count": 20,
   "id": "ce9876a9",
   "metadata": {},
   "outputs": [],
   "source": [
    "df_weekdays = df_simple"
   ]
  },
  {
   "cell_type": "code",
   "execution_count": 21,
   "id": "27e6cbd3",
   "metadata": {},
   "outputs": [
    {
     "data": {
      "text/html": [
       "<div>\n",
       "<style scoped>\n",
       "    .dataframe tbody tr th:only-of-type {\n",
       "        vertical-align: middle;\n",
       "    }\n",
       "\n",
       "    .dataframe tbody tr th {\n",
       "        vertical-align: top;\n",
       "    }\n",
       "\n",
       "    .dataframe thead th {\n",
       "        text-align: right;\n",
       "    }\n",
       "</style>\n",
       "<table border=\"1\" class=\"dataframe\">\n",
       "  <thead>\n",
       "    <tr style=\"text-align: right;\">\n",
       "      <th></th>\n",
       "      <th>datetime</th>\n",
       "      <th>casual</th>\n",
       "      <th>registered</th>\n",
       "      <th>count</th>\n",
       "      <th>time</th>\n",
       "    </tr>\n",
       "  </thead>\n",
       "  <tbody>\n",
       "    <tr>\n",
       "      <th>0</th>\n",
       "      <td>2011-01-01 00:00:00</td>\n",
       "      <td>3</td>\n",
       "      <td>13</td>\n",
       "      <td>16</td>\n",
       "      <td>00:00:00</td>\n",
       "    </tr>\n",
       "    <tr>\n",
       "      <th>1</th>\n",
       "      <td>2011-01-01 01:00:00</td>\n",
       "      <td>8</td>\n",
       "      <td>32</td>\n",
       "      <td>40</td>\n",
       "      <td>01:00:00</td>\n",
       "    </tr>\n",
       "    <tr>\n",
       "      <th>2</th>\n",
       "      <td>2011-01-01 02:00:00</td>\n",
       "      <td>5</td>\n",
       "      <td>27</td>\n",
       "      <td>32</td>\n",
       "      <td>02:00:00</td>\n",
       "    </tr>\n",
       "    <tr>\n",
       "      <th>3</th>\n",
       "      <td>2011-01-01 03:00:00</td>\n",
       "      <td>3</td>\n",
       "      <td>10</td>\n",
       "      <td>13</td>\n",
       "      <td>03:00:00</td>\n",
       "    </tr>\n",
       "    <tr>\n",
       "      <th>4</th>\n",
       "      <td>2011-01-01 04:00:00</td>\n",
       "      <td>0</td>\n",
       "      <td>1</td>\n",
       "      <td>1</td>\n",
       "      <td>04:00:00</td>\n",
       "    </tr>\n",
       "    <tr>\n",
       "      <th>...</th>\n",
       "      <td>...</td>\n",
       "      <td>...</td>\n",
       "      <td>...</td>\n",
       "      <td>...</td>\n",
       "      <td>...</td>\n",
       "    </tr>\n",
       "    <tr>\n",
       "      <th>10881</th>\n",
       "      <td>2012-12-19 19:00:00</td>\n",
       "      <td>7</td>\n",
       "      <td>329</td>\n",
       "      <td>336</td>\n",
       "      <td>19:00:00</td>\n",
       "    </tr>\n",
       "    <tr>\n",
       "      <th>10882</th>\n",
       "      <td>2012-12-19 20:00:00</td>\n",
       "      <td>10</td>\n",
       "      <td>231</td>\n",
       "      <td>241</td>\n",
       "      <td>20:00:00</td>\n",
       "    </tr>\n",
       "    <tr>\n",
       "      <th>10883</th>\n",
       "      <td>2012-12-19 21:00:00</td>\n",
       "      <td>4</td>\n",
       "      <td>164</td>\n",
       "      <td>168</td>\n",
       "      <td>21:00:00</td>\n",
       "    </tr>\n",
       "    <tr>\n",
       "      <th>10884</th>\n",
       "      <td>2012-12-19 22:00:00</td>\n",
       "      <td>12</td>\n",
       "      <td>117</td>\n",
       "      <td>129</td>\n",
       "      <td>22:00:00</td>\n",
       "    </tr>\n",
       "    <tr>\n",
       "      <th>10885</th>\n",
       "      <td>2012-12-19 23:00:00</td>\n",
       "      <td>4</td>\n",
       "      <td>84</td>\n",
       "      <td>88</td>\n",
       "      <td>23:00:00</td>\n",
       "    </tr>\n",
       "  </tbody>\n",
       "</table>\n",
       "<p>10886 rows × 5 columns</p>\n",
       "</div>"
      ],
      "text/plain": [
       "                 datetime  casual  registered  count      time\n",
       "0     2011-01-01 00:00:00       3          13     16  00:00:00\n",
       "1     2011-01-01 01:00:00       8          32     40  01:00:00\n",
       "2     2011-01-01 02:00:00       5          27     32  02:00:00\n",
       "3     2011-01-01 03:00:00       3          10     13  03:00:00\n",
       "4     2011-01-01 04:00:00       0           1      1  04:00:00\n",
       "...                   ...     ...         ...    ...       ...\n",
       "10881 2012-12-19 19:00:00       7         329    336  19:00:00\n",
       "10882 2012-12-19 20:00:00      10         231    241  20:00:00\n",
       "10883 2012-12-19 21:00:00       4         164    168  21:00:00\n",
       "10884 2012-12-19 22:00:00      12         117    129  22:00:00\n",
       "10885 2012-12-19 23:00:00       4          84     88  23:00:00\n",
       "\n",
       "[10886 rows x 5 columns]"
      ]
     },
     "execution_count": 21,
     "metadata": {},
     "output_type": "execute_result"
    }
   ],
   "source": [
    "df_simple"
   ]
  },
  {
   "cell_type": "code",
   "execution_count": 22,
   "id": "59c2033a",
   "metadata": {},
   "outputs": [],
   "source": [
    "df_weekdays['day_name'] = df_weekdays['datetime'].dt.day_name()"
   ]
  },
  {
   "cell_type": "code",
   "execution_count": 23,
   "id": "cd039da8",
   "metadata": {},
   "outputs": [],
   "source": [
    "df_weekdays.set_index(df_weekdays['day_name'], inplace=True)"
   ]
  },
  {
   "cell_type": "code",
   "execution_count": 24,
   "id": "da97dfde",
   "metadata": {},
   "outputs": [],
   "source": [
    "df_weekdays = df_weekdays.drop(columns=['time', 'datetime', 'day_name'])"
   ]
  },
  {
   "cell_type": "code",
   "execution_count": 25,
   "id": "56342239",
   "metadata": {},
   "outputs": [
    {
     "data": {
      "text/html": [
       "<div>\n",
       "<style scoped>\n",
       "    .dataframe tbody tr th:only-of-type {\n",
       "        vertical-align: middle;\n",
       "    }\n",
       "\n",
       "    .dataframe tbody tr th {\n",
       "        vertical-align: top;\n",
       "    }\n",
       "\n",
       "    .dataframe thead th {\n",
       "        text-align: right;\n",
       "    }\n",
       "</style>\n",
       "<table border=\"1\" class=\"dataframe\">\n",
       "  <thead>\n",
       "    <tr style=\"text-align: right;\">\n",
       "      <th></th>\n",
       "      <th>casual</th>\n",
       "      <th>registered</th>\n",
       "      <th>count</th>\n",
       "    </tr>\n",
       "    <tr>\n",
       "      <th>day_name</th>\n",
       "      <th></th>\n",
       "      <th></th>\n",
       "      <th></th>\n",
       "    </tr>\n",
       "  </thead>\n",
       "  <tbody>\n",
       "    <tr>\n",
       "      <th>Saturday</th>\n",
       "      <td>3</td>\n",
       "      <td>13</td>\n",
       "      <td>16</td>\n",
       "    </tr>\n",
       "    <tr>\n",
       "      <th>Saturday</th>\n",
       "      <td>8</td>\n",
       "      <td>32</td>\n",
       "      <td>40</td>\n",
       "    </tr>\n",
       "    <tr>\n",
       "      <th>Saturday</th>\n",
       "      <td>5</td>\n",
       "      <td>27</td>\n",
       "      <td>32</td>\n",
       "    </tr>\n",
       "    <tr>\n",
       "      <th>Saturday</th>\n",
       "      <td>3</td>\n",
       "      <td>10</td>\n",
       "      <td>13</td>\n",
       "    </tr>\n",
       "    <tr>\n",
       "      <th>Saturday</th>\n",
       "      <td>0</td>\n",
       "      <td>1</td>\n",
       "      <td>1</td>\n",
       "    </tr>\n",
       "  </tbody>\n",
       "</table>\n",
       "</div>"
      ],
      "text/plain": [
       "          casual  registered  count\n",
       "day_name                           \n",
       "Saturday       3          13     16\n",
       "Saturday       8          32     40\n",
       "Saturday       5          27     32\n",
       "Saturday       3          10     13\n",
       "Saturday       0           1      1"
      ]
     },
     "execution_count": 25,
     "metadata": {},
     "output_type": "execute_result"
    }
   ],
   "source": [
    "df_weekdays.head()"
   ]
  },
  {
   "cell_type": "code",
   "execution_count": 26,
   "id": "4b86a1b8",
   "metadata": {},
   "outputs": [
    {
     "data": {
      "image/png": "[encoded data removed]",
      "text/plain": [
       "<Figure size 432x288 with 1 Axes>"
      ]
     },
     "metadata": {
      "needs_background": "light"
     },
     "output_type": "display_data"
    }
   ],
   "source": [
    "sns.lineplot(data=df_weekdays)\n",
    "plt.xlabel('day_name')\n",
    "plt.ylabel('nb of bikes')\n",
    "plt.title('Number of bikes rented by week day');"
   ]
  },
  {
   "cell_type": "code",
   "execution_count": null,
   "id": "9c574d9c",
   "metadata": {},
   "outputs": [],
   "source": []
  },
  {
   "cell_type": "markdown",
   "id": "9eb8c395",
   "metadata": {},
   "source": [
    "### Linear regression"
   ]
  },
  {
   "cell_type": "code",
   "execution_count": 132,
   "id": "5c9923b5",
   "metadata": {},
   "outputs": [],
   "source": [
    "df = pd.read_csv('train.csv')\n",
    "#df['datetime'] = pd.to_datetime(df['datetime'])\n",
    "#df.set_index(df['datetime'], inplace=True)\n"
   ]
  },
  {
   "cell_type": "code",
   "execution_count": 133,
   "id": "581a5c6c",
   "metadata": {},
   "outputs": [],
   "source": [
    "df_test = pd.read_csv('test.csv')\n",
    "df_test = df_test.set_index('datetime')\n",
    "datetime_data = df_test.index\n",
    "df_test.reset_index(inplace=True)\n"
   ]
  },
  {
   "cell_type": "code",
   "execution_count": 165,
   "id": "be74b41e",
   "metadata": {},
   "outputs": [
    {
     "data": {
      "text/html": [
       "<div>\n",
       "<style scoped>\n",
       "    .dataframe tbody tr th:only-of-type {\n",
       "        vertical-align: middle;\n",
       "    }\n",
       "\n",
       "    .dataframe tbody tr th {\n",
       "        vertical-align: top;\n",
       "    }\n",
       "\n",
       "    .dataframe thead th {\n",
       "        text-align: right;\n",
       "    }\n",
       "</style>\n",
       "<table border=\"1\" class=\"dataframe\">\n",
       "  <thead>\n",
       "    <tr style=\"text-align: right;\">\n",
       "      <th></th>\n",
       "      <th>season</th>\n",
       "      <th>holiday</th>\n",
       "      <th>workingday</th>\n",
       "      <th>weather</th>\n",
       "      <th>temp</th>\n",
       "      <th>humidity</th>\n",
       "      <th>windspeed</th>\n",
       "      <th>time</th>\n",
       "    </tr>\n",
       "  </thead>\n",
       "  <tbody>\n",
       "    <tr>\n",
       "      <th>0</th>\n",
       "      <td>1</td>\n",
       "      <td>0</td>\n",
       "      <td>1</td>\n",
       "      <td>1</td>\n",
       "      <td>10.66</td>\n",
       "      <td>56</td>\n",
       "      <td>26.0027</td>\n",
       "      <td>0</td>\n",
       "    </tr>\n",
       "    <tr>\n",
       "      <th>1</th>\n",
       "      <td>1</td>\n",
       "      <td>0</td>\n",
       "      <td>1</td>\n",
       "      <td>1</td>\n",
       "      <td>10.66</td>\n",
       "      <td>56</td>\n",
       "      <td>0.0000</td>\n",
       "      <td>1</td>\n",
       "    </tr>\n",
       "    <tr>\n",
       "      <th>2</th>\n",
       "      <td>1</td>\n",
       "      <td>0</td>\n",
       "      <td>1</td>\n",
       "      <td>1</td>\n",
       "      <td>10.66</td>\n",
       "      <td>56</td>\n",
       "      <td>0.0000</td>\n",
       "      <td>2</td>\n",
       "    </tr>\n",
       "    <tr>\n",
       "      <th>3</th>\n",
       "      <td>1</td>\n",
       "      <td>0</td>\n",
       "      <td>1</td>\n",
       "      <td>1</td>\n",
       "      <td>10.66</td>\n",
       "      <td>56</td>\n",
       "      <td>11.0014</td>\n",
       "      <td>3</td>\n",
       "    </tr>\n",
       "    <tr>\n",
       "      <th>4</th>\n",
       "      <td>1</td>\n",
       "      <td>0</td>\n",
       "      <td>1</td>\n",
       "      <td>1</td>\n",
       "      <td>10.66</td>\n",
       "      <td>56</td>\n",
       "      <td>11.0014</td>\n",
       "      <td>4</td>\n",
       "    </tr>\n",
       "  </tbody>\n",
       "</table>\n",
       "</div>"
      ],
      "text/plain": [
       "   season  holiday  workingday  weather   temp  humidity  windspeed  time\n",
       "0       1        0           1        1  10.66        56    26.0027     0\n",
       "1       1        0           1        1  10.66        56     0.0000     1\n",
       "2       1        0           1        1  10.66        56     0.0000     2\n",
       "3       1        0           1        1  10.66        56    11.0014     3\n",
       "4       1        0           1        1  10.66        56    11.0014     4"
      ]
     },
     "execution_count": 165,
     "metadata": {},
     "output_type": "execute_result"
    }
   ],
   "source": [
    "df_test.head()"
   ]
  },
  {
   "cell_type": "code",
   "execution_count": 135,
   "id": "88c3666e",
   "metadata": {},
   "outputs": [
    {
     "data": {
      "text/plain": [
       "((8164, 9), (2722, 9), (8164,), (2722,))"
      ]
     },
     "execution_count": 135,
     "metadata": {},
     "output_type": "execute_result"
    }
   ],
   "source": [
    "X = df.drop(columns=['count','registered','casual'])\n",
    "y = df['count']\n",
    "\n",
    "X_train, X_test, y_train, y_test = train_test_split(X,y,random_state=42)\n",
    "\n",
    "X_train.shape, X_test.shape, y_train.shape, y_test.shape"
   ]
  },
  {
   "cell_type": "code",
   "execution_count": 136,
   "id": "e9505483",
   "metadata": {},
   "outputs": [
    {
     "data": {
      "text/html": [
       "<div>\n",
       "<style scoped>\n",
       "    .dataframe tbody tr th:only-of-type {\n",
       "        vertical-align: middle;\n",
       "    }\n",
       "\n",
       "    .dataframe tbody tr th {\n",
       "        vertical-align: top;\n",
       "    }\n",
       "\n",
       "    .dataframe thead th {\n",
       "        text-align: right;\n",
       "    }\n",
       "</style>\n",
       "<table border=\"1\" class=\"dataframe\">\n",
       "  <thead>\n",
       "    <tr style=\"text-align: right;\">\n",
       "      <th></th>\n",
       "      <th>datetime</th>\n",
       "      <th>season</th>\n",
       "      <th>holiday</th>\n",
       "      <th>workingday</th>\n",
       "      <th>weather</th>\n",
       "      <th>temp</th>\n",
       "      <th>atemp</th>\n",
       "      <th>humidity</th>\n",
       "      <th>windspeed</th>\n",
       "    </tr>\n",
       "  </thead>\n",
       "  <tbody>\n",
       "    <tr>\n",
       "      <th>2930</th>\n",
       "      <td>2011-07-11 00:00:00</td>\n",
       "      <td>3</td>\n",
       "      <td>0</td>\n",
       "      <td>1</td>\n",
       "      <td>1</td>\n",
       "      <td>28.70</td>\n",
       "      <td>32.575</td>\n",
       "      <td>65</td>\n",
       "      <td>12.9980</td>\n",
       "    </tr>\n",
       "    <tr>\n",
       "      <th>7669</th>\n",
       "      <td>2012-05-18 22:00:00</td>\n",
       "      <td>2</td>\n",
       "      <td>0</td>\n",
       "      <td>1</td>\n",
       "      <td>1</td>\n",
       "      <td>22.96</td>\n",
       "      <td>26.515</td>\n",
       "      <td>52</td>\n",
       "      <td>22.0028</td>\n",
       "    </tr>\n",
       "    <tr>\n",
       "      <th>1346</th>\n",
       "      <td>2011-04-01 23:00:00</td>\n",
       "      <td>2</td>\n",
       "      <td>0</td>\n",
       "      <td>1</td>\n",
       "      <td>1</td>\n",
       "      <td>12.30</td>\n",
       "      <td>15.910</td>\n",
       "      <td>61</td>\n",
       "      <td>6.0032</td>\n",
       "    </tr>\n",
       "    <tr>\n",
       "      <th>9432</th>\n",
       "      <td>2012-09-16 09:00:00</td>\n",
       "      <td>3</td>\n",
       "      <td>0</td>\n",
       "      <td>0</td>\n",
       "      <td>1</td>\n",
       "      <td>23.78</td>\n",
       "      <td>27.275</td>\n",
       "      <td>60</td>\n",
       "      <td>8.9981</td>\n",
       "    </tr>\n",
       "    <tr>\n",
       "      <th>453</th>\n",
       "      <td>2011-02-01 23:00:00</td>\n",
       "      <td>1</td>\n",
       "      <td>0</td>\n",
       "      <td>1</td>\n",
       "      <td>3</td>\n",
       "      <td>8.20</td>\n",
       "      <td>9.850</td>\n",
       "      <td>93</td>\n",
       "      <td>12.9980</td>\n",
       "    </tr>\n",
       "  </tbody>\n",
       "</table>\n",
       "</div>"
      ],
      "text/plain": [
       "                 datetime  season  holiday  workingday  weather   temp  \\\n",
       "2930  2011-07-11 00:00:00       3        0           1        1  28.70   \n",
       "7669  2012-05-18 22:00:00       2        0           1        1  22.96   \n",
       "1346  2011-04-01 23:00:00       2        0           1        1  12.30   \n",
       "9432  2012-09-16 09:00:00       3        0           0        1  23.78   \n",
       "453   2011-02-01 23:00:00       1        0           1        3   8.20   \n",
       "\n",
       "       atemp  humidity  windspeed  \n",
       "2930  32.575        65    12.9980  \n",
       "7669  26.515        52    22.0028  \n",
       "1346  15.910        61     6.0032  \n",
       "9432  27.275        60     8.9981  \n",
       "453    9.850        93    12.9980  "
      ]
     },
     "execution_count": 136,
     "metadata": {},
     "output_type": "execute_result"
    }
   ],
   "source": [
    "X_train.head()"
   ]
  },
  {
   "cell_type": "code",
   "execution_count": 137,
   "id": "ee7aae09",
   "metadata": {},
   "outputs": [],
   "source": [
    "#sns.pairplot(data=df)"
   ]
  },
  {
   "cell_type": "code",
   "execution_count": 138,
   "id": "e0b67900",
   "metadata": {},
   "outputs": [],
   "source": [
    "def clean_dataframe(dataframe):\n",
    "    dataframe['datetime'] = pd.to_datetime(dataframe['datetime'])\n",
    "    dataframe['date'] = dataframe['datetime'].dt.date\n",
    "    dataframe['time'] = dataframe['datetime'].dt.hour\n",
    "    dataframe.set_index(dataframe['datetime'])\n",
    "    dataframe = dataframe.drop(columns = ['atemp','datetime','date'], inplace=True)"
   ]
  },
  {
   "cell_type": "code",
   "execution_count": null,
   "id": "2f02d814",
   "metadata": {},
   "outputs": [],
   "source": []
  },
  {
   "cell_type": "code",
   "execution_count": 139,
   "id": "281a88c8",
   "metadata": {},
   "outputs": [],
   "source": [
    "clean_dataframe(X_train)\n",
    "clean_dataframe(X_test)\n",
    "clean_dataframe(df_test)"
   ]
  },
  {
   "cell_type": "code",
   "execution_count": 140,
   "id": "517e0a95",
   "metadata": {},
   "outputs": [
    {
     "data": {
      "text/html": [
       "<div>\n",
       "<style scoped>\n",
       "    .dataframe tbody tr th:only-of-type {\n",
       "        vertical-align: middle;\n",
       "    }\n",
       "\n",
       "    .dataframe tbody tr th {\n",
       "        vertical-align: top;\n",
       "    }\n",
       "\n",
       "    .dataframe thead th {\n",
       "        text-align: right;\n",
       "    }\n",
       "</style>\n",
       "<table border=\"1\" class=\"dataframe\">\n",
       "  <thead>\n",
       "    <tr style=\"text-align: right;\">\n",
       "      <th></th>\n",
       "      <th>season</th>\n",
       "      <th>holiday</th>\n",
       "      <th>workingday</th>\n",
       "      <th>weather</th>\n",
       "      <th>temp</th>\n",
       "      <th>humidity</th>\n",
       "      <th>windspeed</th>\n",
       "      <th>time</th>\n",
       "    </tr>\n",
       "  </thead>\n",
       "  <tbody>\n",
       "    <tr>\n",
       "      <th>2930</th>\n",
       "      <td>3</td>\n",
       "      <td>0</td>\n",
       "      <td>1</td>\n",
       "      <td>1</td>\n",
       "      <td>28.70</td>\n",
       "      <td>65</td>\n",
       "      <td>12.9980</td>\n",
       "      <td>0</td>\n",
       "    </tr>\n",
       "    <tr>\n",
       "      <th>7669</th>\n",
       "      <td>2</td>\n",
       "      <td>0</td>\n",
       "      <td>1</td>\n",
       "      <td>1</td>\n",
       "      <td>22.96</td>\n",
       "      <td>52</td>\n",
       "      <td>22.0028</td>\n",
       "      <td>22</td>\n",
       "    </tr>\n",
       "    <tr>\n",
       "      <th>1346</th>\n",
       "      <td>2</td>\n",
       "      <td>0</td>\n",
       "      <td>1</td>\n",
       "      <td>1</td>\n",
       "      <td>12.30</td>\n",
       "      <td>61</td>\n",
       "      <td>6.0032</td>\n",
       "      <td>23</td>\n",
       "    </tr>\n",
       "    <tr>\n",
       "      <th>9432</th>\n",
       "      <td>3</td>\n",
       "      <td>0</td>\n",
       "      <td>0</td>\n",
       "      <td>1</td>\n",
       "      <td>23.78</td>\n",
       "      <td>60</td>\n",
       "      <td>8.9981</td>\n",
       "      <td>9</td>\n",
       "    </tr>\n",
       "    <tr>\n",
       "      <th>453</th>\n",
       "      <td>1</td>\n",
       "      <td>0</td>\n",
       "      <td>1</td>\n",
       "      <td>3</td>\n",
       "      <td>8.20</td>\n",
       "      <td>93</td>\n",
       "      <td>12.9980</td>\n",
       "      <td>23</td>\n",
       "    </tr>\n",
       "  </tbody>\n",
       "</table>\n",
       "</div>"
      ],
      "text/plain": [
       "      season  holiday  workingday  weather   temp  humidity  windspeed  time\n",
       "2930       3        0           1        1  28.70        65    12.9980     0\n",
       "7669       2        0           1        1  22.96        52    22.0028    22\n",
       "1346       2        0           1        1  12.30        61     6.0032    23\n",
       "9432       3        0           0        1  23.78        60     8.9981     9\n",
       "453        1        0           1        3   8.20        93    12.9980    23"
      ]
     },
     "execution_count": 140,
     "metadata": {},
     "output_type": "execute_result"
    }
   ],
   "source": [
    "X_train.head()"
   ]
  },
  {
   "cell_type": "code",
   "execution_count": 141,
   "id": "79d3ccb2",
   "metadata": {},
   "outputs": [],
   "source": [
    "pipeline_hour = Pipeline([\n",
    "    (\"binning\", KBinsDiscretizer(n_bins=24, encode='onehot-dense', strategy='uniform')),\n",
    "])"
   ]
  },
  {
   "cell_type": "code",
   "execution_count": 142,
   "id": "31b6f817",
   "metadata": {},
   "outputs": [],
   "source": [
    "pipeline_encode = Pipeline([\n",
    "    (\"encoder\", OneHotEncoder(handle_unknown='ignore', sparse=False, drop='if_binary')),\n",
    "])"
   ]
  },
  {
   "cell_type": "code",
   "execution_count": 143,
   "id": "498fb37d",
   "metadata": {},
   "outputs": [],
   "source": [
    "pipeline_weather = Pipeline([\n",
    "    (\"binning\", KBinsDiscretizer(n_bins=6, encode='onehot-dense', strategy='kmeans')),\n",
    "])"
   ]
  },
  {
   "cell_type": "code",
   "execution_count": 144,
   "id": "5c965510",
   "metadata": {},
   "outputs": [],
   "source": [
    "transformer = ColumnTransformer(\n",
    "    [\n",
    "        (\"hour\", pipeline_hour, ['time']),\n",
    "        (\"encode\", pipeline_encode, ['season','holiday','workingday','weather']),\n",
    "        (\"weather\", pipeline_weather, ['windspeed', 'humidity', 'temp']),\n",
    "    ], remainder='passthrough'\n",
    ")"
   ]
  },
  {
   "cell_type": "code",
   "execution_count": 145,
   "id": "8bbe229a",
   "metadata": {},
   "outputs": [],
   "source": [
    "m = LinearRegression()"
   ]
  },
  {
   "cell_type": "code",
   "execution_count": 146,
   "id": "9f98ee1e",
   "metadata": {},
   "outputs": [],
   "source": [
    "X_train_FE = transformer.fit_transform(X_train)\n",
    "\n",
    "X_test_FE = transformer.transform(X_test)\n",
    "X_actual_test_FE = transformer.transform(df_test)"
   ]
  },
  {
   "cell_type": "code",
   "execution_count": 147,
   "id": "b408a056",
   "metadata": {},
   "outputs": [
    {
     "data": {
      "text/plain": [
       "((8164, 8), (2722, 8), (8164,), (2722,))"
      ]
     },
     "execution_count": 147,
     "metadata": {},
     "output_type": "execute_result"
    }
   ],
   "source": [
    "X_train.shape, X_test.shape, y_train.shape, y_test.shape"
   ]
  },
  {
   "cell_type": "code",
   "execution_count": 148,
   "id": "3d078f8c",
   "metadata": {},
   "outputs": [
    {
     "data": {
      "text/plain": [
       "LinearRegression()"
      ]
     },
     "execution_count": 148,
     "metadata": {},
     "output_type": "execute_result"
    }
   ],
   "source": [
    "m.fit(X_train_FE,y_train)"
   ]
  },
  {
   "cell_type": "code",
   "execution_count": 149,
   "id": "1a328464",
   "metadata": {},
   "outputs": [],
   "source": [
    "ypred = m.predict(X_test_FE)"
   ]
  },
  {
   "cell_type": "code",
   "execution_count": 150,
   "id": "73b03231",
   "metadata": {},
   "outputs": [
    {
     "data": {
      "text/plain": [
       "array([274.6875,   5.6875, 400.5   , ...,  94.3125, 448.1875, 167.8125])"
      ]
     },
     "execution_count": 150,
     "metadata": {},
     "output_type": "execute_result"
    }
   ],
   "source": [
    "ypred"
   ]
  },
  {
   "cell_type": "code",
   "execution_count": 166,
   "id": "79076e15",
   "metadata": {},
   "outputs": [
    {
     "data": {
      "text/plain": [
       "0.6345704418807118"
      ]
     },
     "execution_count": 166,
     "metadata": {},
     "output_type": "execute_result"
    }
   ],
   "source": [
    "m.score(pd.DataFrame(X_train_FE), y_train)"
   ]
  },
  {
   "cell_type": "code",
   "execution_count": 151,
   "id": "f575d26c",
   "metadata": {},
   "outputs": [
    {
     "data": {
      "text/plain": [
       "0.6210759482574699"
      ]
     },
     "execution_count": 151,
     "metadata": {},
     "output_type": "execute_result"
    }
   ],
   "source": [
    "m.score(pd.DataFrame(X_test_FE), y_test)"
   ]
  },
  {
   "cell_type": "code",
   "execution_count": 152,
   "id": "3846556f",
   "metadata": {},
   "outputs": [
    {
     "data": {
      "text/plain": [
       "(array([-2.58751051e+14, -2.58751051e+14, -2.58751051e+14, -2.58751051e+14,\n",
       "        -2.58751051e+14, -2.58751051e+14, -2.58751051e+14, -2.58751051e+14,\n",
       "        -2.58751051e+14, -2.58751051e+14, -2.58751051e+14, -2.58751051e+14,\n",
       "        -2.58751051e+14, -2.58751051e+14, -2.58751051e+14, -2.58751051e+14,\n",
       "        -2.58751051e+14, -2.58751051e+14, -2.58751051e+14, -2.58751051e+14,\n",
       "        -2.58751051e+14, -2.58751051e+14, -2.58751051e+14, -2.58751051e+14,\n",
       "        -4.02847081e+14, -4.02847081e+14, -4.02847081e+14, -4.02847081e+14,\n",
       "        -1.06015625e+01,  2.10302734e+00,  1.54584277e+14,  1.54584277e+14,\n",
       "         1.54584277e+14,  1.54584277e+14,  4.05332477e+14,  4.05332477e+14,\n",
       "         4.05332477e+14,  4.05332477e+14,  4.05332477e+14,  4.05332477e+14,\n",
       "        -8.01303435e+14, -8.01303435e+14, -8.01303435e+14, -8.01303435e+14,\n",
       "        -8.01303435e+14, -8.01303435e+14,  4.46575396e+14,  4.46575396e+14,\n",
       "         4.46575396e+14,  4.46575396e+14,  4.46575396e+14,  4.46575396e+14]),\n",
       " 456409416090925.44)"
      ]
     },
     "execution_count": 152,
     "metadata": {},
     "output_type": "execute_result"
    }
   ],
   "source": [
    "m.coef_, m.intercept_"
   ]
  },
  {
   "cell_type": "code",
   "execution_count": 153,
   "id": "485b0ef3",
   "metadata": {},
   "outputs": [],
   "source": [
    "ypred_actual_test = m.predict(X_actual_test_FE)"
   ]
  },
  {
   "cell_type": "code",
   "execution_count": 159,
   "id": "056bc998",
   "metadata": {},
   "outputs": [
    {
     "data": {
      "text/plain": [
       "array([-15.0625, -17.625 , -20.1875, ..., 105.6875,  73.6875,  34.75  ])"
      ]
     },
     "execution_count": 159,
     "metadata": {},
     "output_type": "execute_result"
    }
   ],
   "source": [
    "ypred_actual_test\n",
    "#datetime = df_test.index "
   ]
  },
  {
   "cell_type": "code",
   "execution_count": 161,
   "id": "53dcf5ae",
   "metadata": {},
   "outputs": [],
   "source": [
    "ypred_actual_test = ypred_actual_test.clip(0)"
   ]
  },
  {
   "cell_type": "code",
   "execution_count": 163,
   "id": "6cd13da2",
   "metadata": {},
   "outputs": [
    {
     "data": {
      "text/plain": [
       "array([  0.    ,   0.    ,   0.    , ..., 105.6875,  73.6875,  34.75  ])"
      ]
     },
     "execution_count": 163,
     "metadata": {},
     "output_type": "execute_result"
    }
   ],
   "source": [
    "ypred_actual_test"
   ]
  },
  {
   "cell_type": "code",
   "execution_count": 164,
   "id": "ef508085",
   "metadata": {},
   "outputs": [],
   "source": [
    "kaggle_df = pd.DataFrame(data=ypred_actual_test, index=datetime_data, columns=['count'])\n",
    "kaggle_df\n",
    "kaggle_df.to_csv('kaggle_submission')"
   ]
  },
  {
   "cell_type": "code",
   "execution_count": 45,
   "id": "f2e6049e",
   "metadata": {},
   "outputs": [
    {
     "data": {
      "text/plain": [
       "\"df = pd.read_csv('train.csv')\\ndf['datetime'] = pd.to_datetime(df['datetime'])\\ndf.set_index(df['datetime'], inplace=True)\\ndf = df.drop(columns = ['atemp', 'datetime', 'casual', 'registered'])\\ndf = df.resample('1D').agg({'temp':'mean', 'humidity':'mean', 'windspeed': 'mean', 'count':'sum'})\\ndf = df.ffill()\""
      ]
     },
     "execution_count": 45,
     "metadata": {},
     "output_type": "execute_result"
    }
   ],
   "source": [
    "\"\"\"df = pd.read_csv('train.csv')\n",
    "df['datetime'] = pd.to_datetime(df['datetime'])\n",
    "df.set_index(df['datetime'], inplace=True)\n",
    "df = df.drop(columns = ['atemp', 'datetime', 'casual', 'registered'])\n",
    "df = df.resample('1D').agg({'temp':'mean', 'humidity':'mean', 'windspeed': 'mean', 'count':'sum'})\n",
    "df = df.ffill()\"\"\""
   ]
  }
 ],
 "metadata": {
  "kernelspec": {
   "display_name": "Python 3 (ipykernel)",
   "language": "python",
   "name": "python3"
  },
  "language_info": {
   "codemirror_mode": {
    "name": "ipython",
    "version": 3
   },
   "file_extension": ".py",
   "mimetype": "text/x-python",
   "name": "python",
   "nbconvert_exporter": "python",
   "pygments_lexer": "ipython3",
   "version": "3.9.12"
  }
 },
 "nbformat": 4,
 "nbformat_minor": 5
}
