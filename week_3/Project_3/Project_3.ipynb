{
 "cells": [
  {
   "cell_type": "code",
   "execution_count": 1,
   "id": "0bc93234",
   "metadata": {},
   "outputs": [],
   "source": [
    "import pandas as pd\n",
    "import matplotlib.pyplot as plt\n",
    "import seaborn as sns\n",
    "from sklearn.model_selection import train_test_split\n",
    "from sklearn.linear_model import LinearRegression\n",
    "from sklearn.compose import ColumnTransformer\n",
    "from sklearn.pipeline import Pipeline\n",
    "from sklearn.preprocessing import StandardScaler, OneHotEncoder, KBinsDiscretizer, MinMaxScaler\n",
    "import numpy as np"
   ]
  },
  {
   "cell_type": "code",
   "execution_count": 2,
   "id": "2ff048b7",
   "metadata": {},
   "outputs": [],
   "source": [
    "df = pd.read_csv('train.csv')"
   ]
  },
  {
   "cell_type": "code",
   "execution_count": 3,
   "id": "3bbdc86f",
   "metadata": {},
   "outputs": [
    {
     "data": {
      "text/plain": [
       "(10886, 12)"
      ]
     },
     "execution_count": 3,
     "metadata": {},
     "output_type": "execute_result"
    }
   ],
   "source": [
    "df.shape"
   ]
  },
  {
   "cell_type": "code",
   "execution_count": 4,
   "id": "6f7051d0",
   "metadata": {},
   "outputs": [],
   "source": [
    "df['datetime'] = pd.to_datetime(df['datetime'])"
   ]
  },
  {
   "cell_type": "markdown",
   "id": "b1c2a827",
   "metadata": {},
   "source": [
    "### Create a dataframe only storing the number of bikes rented"
   ]
  },
  {
   "cell_type": "markdown",
   "id": "c282db6d",
   "metadata": {},
   "source": [
    "Sums of bikes rented will be easier to calculate if we drop all weather data"
   ]
  },
  {
   "cell_type": "code",
   "execution_count": 5,
   "id": "ba40ad97",
   "metadata": {},
   "outputs": [],
   "source": [
    "df_simple = df.drop(columns=['season', 'holiday', 'workingday', 'weather', 'temp', 'atemp', 'humidity', 'windspeed'])"
   ]
  },
  {
   "cell_type": "code",
   "execution_count": 6,
   "id": "b4a1a42a",
   "metadata": {},
   "outputs": [],
   "source": [
    "df_simple_reindexed = df_simple.set_index(pd.to_datetime(df['datetime']))"
   ]
  },
  {
   "cell_type": "code",
   "execution_count": 7,
   "id": "f0c19bf0",
   "metadata": {},
   "outputs": [
    {
     "data": {
      "text/html": [
       "<div>\n",
       "<style scoped>\n",
       "    .dataframe tbody tr th:only-of-type {\n",
       "        vertical-align: middle;\n",
       "    }\n",
       "\n",
       "    .dataframe tbody tr th {\n",
       "        vertical-align: top;\n",
       "    }\n",
       "\n",
       "    .dataframe thead th {\n",
       "        text-align: right;\n",
       "    }\n",
       "</style>\n",
       "<table border=\"1\" class=\"dataframe\">\n",
       "  <thead>\n",
       "    <tr style=\"text-align: right;\">\n",
       "      <th></th>\n",
       "      <th>datetime</th>\n",
       "      <th>casual</th>\n",
       "      <th>registered</th>\n",
       "      <th>count</th>\n",
       "    </tr>\n",
       "    <tr>\n",
       "      <th>datetime</th>\n",
       "      <th></th>\n",
       "      <th></th>\n",
       "      <th></th>\n",
       "      <th></th>\n",
       "    </tr>\n",
       "  </thead>\n",
       "  <tbody>\n",
       "    <tr>\n",
       "      <th>2011-01-01 00:00:00</th>\n",
       "      <td>2011-01-01 00:00:00</td>\n",
       "      <td>3</td>\n",
       "      <td>13</td>\n",
       "      <td>16</td>\n",
       "    </tr>\n",
       "    <tr>\n",
       "      <th>2011-01-01 01:00:00</th>\n",
       "      <td>2011-01-01 01:00:00</td>\n",
       "      <td>8</td>\n",
       "      <td>32</td>\n",
       "      <td>40</td>\n",
       "    </tr>\n",
       "    <tr>\n",
       "      <th>2011-01-01 02:00:00</th>\n",
       "      <td>2011-01-01 02:00:00</td>\n",
       "      <td>5</td>\n",
       "      <td>27</td>\n",
       "      <td>32</td>\n",
       "    </tr>\n",
       "    <tr>\n",
       "      <th>2011-01-01 03:00:00</th>\n",
       "      <td>2011-01-01 03:00:00</td>\n",
       "      <td>3</td>\n",
       "      <td>10</td>\n",
       "      <td>13</td>\n",
       "    </tr>\n",
       "    <tr>\n",
       "      <th>2011-01-01 04:00:00</th>\n",
       "      <td>2011-01-01 04:00:00</td>\n",
       "      <td>0</td>\n",
       "      <td>1</td>\n",
       "      <td>1</td>\n",
       "    </tr>\n",
       "  </tbody>\n",
       "</table>\n",
       "</div>"
      ],
      "text/plain": [
       "                               datetime  casual  registered  count\n",
       "datetime                                                          \n",
       "2011-01-01 00:00:00 2011-01-01 00:00:00       3          13     16\n",
       "2011-01-01 01:00:00 2011-01-01 01:00:00       8          32     40\n",
       "2011-01-01 02:00:00 2011-01-01 02:00:00       5          27     32\n",
       "2011-01-01 03:00:00 2011-01-01 03:00:00       3          10     13\n",
       "2011-01-01 04:00:00 2011-01-01 04:00:00       0           1      1"
      ]
     },
     "execution_count": 7,
     "metadata": {},
     "output_type": "execute_result"
    }
   ],
   "source": [
    "df_simple_reindexed.head()"
   ]
  },
  {
   "cell_type": "code",
   "execution_count": 8,
   "id": "89275267",
   "metadata": {},
   "outputs": [
    {
     "data": {
      "text/html": [
       "<div>\n",
       "<style scoped>\n",
       "    .dataframe tbody tr th:only-of-type {\n",
       "        vertical-align: middle;\n",
       "    }\n",
       "\n",
       "    .dataframe tbody tr th {\n",
       "        vertical-align: top;\n",
       "    }\n",
       "\n",
       "    .dataframe thead th {\n",
       "        text-align: right;\n",
       "    }\n",
       "</style>\n",
       "<table border=\"1\" class=\"dataframe\">\n",
       "  <thead>\n",
       "    <tr style=\"text-align: right;\">\n",
       "      <th></th>\n",
       "      <th>datetime</th>\n",
       "      <th>casual</th>\n",
       "      <th>registered</th>\n",
       "      <th>count</th>\n",
       "    </tr>\n",
       "  </thead>\n",
       "  <tbody>\n",
       "    <tr>\n",
       "      <th>0</th>\n",
       "      <td>2011-01-01 00:00:00</td>\n",
       "      <td>3</td>\n",
       "      <td>13</td>\n",
       "      <td>16</td>\n",
       "    </tr>\n",
       "    <tr>\n",
       "      <th>1</th>\n",
       "      <td>2011-01-01 01:00:00</td>\n",
       "      <td>8</td>\n",
       "      <td>32</td>\n",
       "      <td>40</td>\n",
       "    </tr>\n",
       "    <tr>\n",
       "      <th>2</th>\n",
       "      <td>2011-01-01 02:00:00</td>\n",
       "      <td>5</td>\n",
       "      <td>27</td>\n",
       "      <td>32</td>\n",
       "    </tr>\n",
       "    <tr>\n",
       "      <th>3</th>\n",
       "      <td>2011-01-01 03:00:00</td>\n",
       "      <td>3</td>\n",
       "      <td>10</td>\n",
       "      <td>13</td>\n",
       "    </tr>\n",
       "    <tr>\n",
       "      <th>4</th>\n",
       "      <td>2011-01-01 04:00:00</td>\n",
       "      <td>0</td>\n",
       "      <td>1</td>\n",
       "      <td>1</td>\n",
       "    </tr>\n",
       "  </tbody>\n",
       "</table>\n",
       "</div>"
      ],
      "text/plain": [
       "             datetime  casual  registered  count\n",
       "0 2011-01-01 00:00:00       3          13     16\n",
       "1 2011-01-01 01:00:00       8          32     40\n",
       "2 2011-01-01 02:00:00       5          27     32\n",
       "3 2011-01-01 03:00:00       3          10     13\n",
       "4 2011-01-01 04:00:00       0           1      1"
      ]
     },
     "execution_count": 8,
     "metadata": {},
     "output_type": "execute_result"
    }
   ],
   "source": [
    "df_simple.head()"
   ]
  },
  {
   "cell_type": "markdown",
   "id": "87ce303b",
   "metadata": {},
   "source": [
    "### Analyse yearly data"
   ]
  },
  {
   "cell_type": "code",
   "execution_count": 9,
   "id": "934379af",
   "metadata": {},
   "outputs": [],
   "source": [
    "df_yearly = df_simple_reindexed.resample('1Y').sum()"
   ]
  },
  {
   "cell_type": "code",
   "execution_count": 10,
   "id": "8e4468c5",
   "metadata": {},
   "outputs": [
    {
     "data": {
      "image/png": "[encoded data removed]",
      "text/plain": [
       "<Figure size 432x288 with 1 Axes>"
      ]
     },
     "metadata": {
      "needs_background": "light"
     },
     "output_type": "display_data"
    }
   ],
   "source": [
    "sns.lineplot(data=df_yearly)\n",
    "plt.show()"
   ]
  },
  {
   "cell_type": "markdown",
   "id": "208678b2",
   "metadata": {},
   "source": [
    "### Analysing weekly data"
   ]
  },
  {
   "cell_type": "code",
   "execution_count": 11,
   "id": "0b5f45a5",
   "metadata": {},
   "outputs": [],
   "source": [
    "df_weekly = df_simple_reindexed.resample('7D').sum()"
   ]
  },
  {
   "cell_type": "code",
   "execution_count": 12,
   "id": "70f3ae22",
   "metadata": {},
   "outputs": [
    {
     "data": {
      "image/png": "[encoded data removed]",
      "text/plain": [
       "<Figure size 432x288 with 1 Axes>"
      ]
     },
     "metadata": {
      "needs_background": "light"
     },
     "output_type": "display_data"
    }
   ],
   "source": [
    "sns.lineplot(data=df_weekly)\n",
    "\n",
    "plt.xticks(rotation=45)\n",
    "plt.show()"
   ]
  },
  {
   "cell_type": "markdown",
   "id": "23e576aa",
   "metadata": {},
   "source": [
    "### Analysing monthly data"
   ]
  },
  {
   "cell_type": "code",
   "execution_count": 13,
   "id": "d0c512de",
   "metadata": {},
   "outputs": [],
   "source": [
    "df_monthly = df_simple_reindexed.resample('M').sum()\n",
    "\n",
    "#df_monthly = df_simple\n",
    "#df_monthly"
   ]
  },
  {
   "cell_type": "code",
   "execution_count": 14,
   "id": "9507dbe5",
   "metadata": {},
   "outputs": [
    {
     "data": {
      "text/plain": [
       "Text(0, 0.5, 'Mean number of bikes rented per day')"
      ]
     },
     "execution_count": 14,
     "metadata": {},
     "output_type": "execute_result"
    },
    {
     "data": {
      "image/png": "[encoded data removed]",
      "text/plain": [
       "<Figure size 432x288 with 1 Axes>"
      ]
     },
     "metadata": {
      "needs_background": "light"
     },
     "output_type": "display_data"
    }
   ],
   "source": [
    "sns.lineplot(data=df_monthly)\n",
    "plt.ylabel('Mean number of bikes rented per day')\n"
   ]
  },
  {
   "cell_type": "markdown",
   "id": "af948344",
   "metadata": {},
   "source": [
    "### Analysing hourly data"
   ]
  },
  {
   "cell_type": "code",
   "execution_count": 15,
   "id": "43221975",
   "metadata": {},
   "outputs": [],
   "source": [
    "df_by_time = df_simple"
   ]
  },
  {
   "cell_type": "code",
   "execution_count": 16,
   "id": "2a16d4fe",
   "metadata": {},
   "outputs": [
    {
     "data": {
      "text/html": [
       "<div>\n",
       "<style scoped>\n",
       "    .dataframe tbody tr th:only-of-type {\n",
       "        vertical-align: middle;\n",
       "    }\n",
       "\n",
       "    .dataframe tbody tr th {\n",
       "        vertical-align: top;\n",
       "    }\n",
       "\n",
       "    .dataframe thead th {\n",
       "        text-align: right;\n",
       "    }\n",
       "</style>\n",
       "<table border=\"1\" class=\"dataframe\">\n",
       "  <thead>\n",
       "    <tr style=\"text-align: right;\">\n",
       "      <th></th>\n",
       "      <th>datetime</th>\n",
       "      <th>casual</th>\n",
       "      <th>registered</th>\n",
       "      <th>count</th>\n",
       "    </tr>\n",
       "  </thead>\n",
       "  <tbody>\n",
       "    <tr>\n",
       "      <th>0</th>\n",
       "      <td>2011-01-01 00:00:00</td>\n",
       "      <td>3</td>\n",
       "      <td>13</td>\n",
       "      <td>16</td>\n",
       "    </tr>\n",
       "    <tr>\n",
       "      <th>1</th>\n",
       "      <td>2011-01-01 01:00:00</td>\n",
       "      <td>8</td>\n",
       "      <td>32</td>\n",
       "      <td>40</td>\n",
       "    </tr>\n",
       "    <tr>\n",
       "      <th>2</th>\n",
       "      <td>2011-01-01 02:00:00</td>\n",
       "      <td>5</td>\n",
       "      <td>27</td>\n",
       "      <td>32</td>\n",
       "    </tr>\n",
       "    <tr>\n",
       "      <th>3</th>\n",
       "      <td>2011-01-01 03:00:00</td>\n",
       "      <td>3</td>\n",
       "      <td>10</td>\n",
       "      <td>13</td>\n",
       "    </tr>\n",
       "    <tr>\n",
       "      <th>4</th>\n",
       "      <td>2011-01-01 04:00:00</td>\n",
       "      <td>0</td>\n",
       "      <td>1</td>\n",
       "      <td>1</td>\n",
       "    </tr>\n",
       "    <tr>\n",
       "      <th>...</th>\n",
       "      <td>...</td>\n",
       "      <td>...</td>\n",
       "      <td>...</td>\n",
       "      <td>...</td>\n",
       "    </tr>\n",
       "    <tr>\n",
       "      <th>10881</th>\n",
       "      <td>2012-12-19 19:00:00</td>\n",
       "      <td>7</td>\n",
       "      <td>329</td>\n",
       "      <td>336</td>\n",
       "    </tr>\n",
       "    <tr>\n",
       "      <th>10882</th>\n",
       "      <td>2012-12-19 20:00:00</td>\n",
       "      <td>10</td>\n",
       "      <td>231</td>\n",
       "      <td>241</td>\n",
       "    </tr>\n",
       "    <tr>\n",
       "      <th>10883</th>\n",
       "      <td>2012-12-19 21:00:00</td>\n",
       "      <td>4</td>\n",
       "      <td>164</td>\n",
       "      <td>168</td>\n",
       "    </tr>\n",
       "    <tr>\n",
       "      <th>10884</th>\n",
       "      <td>2012-12-19 22:00:00</td>\n",
       "      <td>12</td>\n",
       "      <td>117</td>\n",
       "      <td>129</td>\n",
       "    </tr>\n",
       "    <tr>\n",
       "      <th>10885</th>\n",
       "      <td>2012-12-19 23:00:00</td>\n",
       "      <td>4</td>\n",
       "      <td>84</td>\n",
       "      <td>88</td>\n",
       "    </tr>\n",
       "  </tbody>\n",
       "</table>\n",
       "<p>10886 rows × 4 columns</p>\n",
       "</div>"
      ],
      "text/plain": [
       "                 datetime  casual  registered  count\n",
       "0     2011-01-01 00:00:00       3          13     16\n",
       "1     2011-01-01 01:00:00       8          32     40\n",
       "2     2011-01-01 02:00:00       5          27     32\n",
       "3     2011-01-01 03:00:00       3          10     13\n",
       "4     2011-01-01 04:00:00       0           1      1\n",
       "...                   ...     ...         ...    ...\n",
       "10881 2012-12-19 19:00:00       7         329    336\n",
       "10882 2012-12-19 20:00:00      10         231    241\n",
       "10883 2012-12-19 21:00:00       4         164    168\n",
       "10884 2012-12-19 22:00:00      12         117    129\n",
       "10885 2012-12-19 23:00:00       4          84     88\n",
       "\n",
       "[10886 rows x 4 columns]"
      ]
     },
     "execution_count": 16,
     "metadata": {},
     "output_type": "execute_result"
    }
   ],
   "source": [
    "df_simple"
   ]
  },
  {
   "cell_type": "code",
   "execution_count": 17,
   "id": "757c746b",
   "metadata": {},
   "outputs": [],
   "source": [
    "df_by_time['time'] = df_by_time['datetime'].dt.time"
   ]
  },
  {
   "cell_type": "code",
   "execution_count": 18,
   "id": "eddf92e2",
   "metadata": {},
   "outputs": [],
   "source": [
    "df_by_time = df_by_time.drop(columns=['datetime'])"
   ]
  },
  {
   "cell_type": "code",
   "execution_count": 19,
   "id": "fc8dfbdb",
   "metadata": {},
   "outputs": [],
   "source": [
    "df_by_time['time'] = df_by_time['time'].astype('str')"
   ]
  },
  {
   "cell_type": "code",
   "execution_count": 20,
   "id": "2be2ba56",
   "metadata": {},
   "outputs": [],
   "source": [
    "df_by_time.set_index(df_by_time['time'], inplace=True)"
   ]
  },
  {
   "cell_type": "code",
   "execution_count": 21,
   "id": "2944a201",
   "metadata": {},
   "outputs": [
    {
     "data": {
      "text/html": [
       "<div>\n",
       "<style scoped>\n",
       "    .dataframe tbody tr th:only-of-type {\n",
       "        vertical-align: middle;\n",
       "    }\n",
       "\n",
       "    .dataframe tbody tr th {\n",
       "        vertical-align: top;\n",
       "    }\n",
       "\n",
       "    .dataframe thead th {\n",
       "        text-align: right;\n",
       "    }\n",
       "</style>\n",
       "<table border=\"1\" class=\"dataframe\">\n",
       "  <thead>\n",
       "    <tr style=\"text-align: right;\">\n",
       "      <th></th>\n",
       "      <th>casual</th>\n",
       "      <th>registered</th>\n",
       "      <th>count</th>\n",
       "      <th>time</th>\n",
       "    </tr>\n",
       "    <tr>\n",
       "      <th>time</th>\n",
       "      <th></th>\n",
       "      <th></th>\n",
       "      <th></th>\n",
       "      <th></th>\n",
       "    </tr>\n",
       "  </thead>\n",
       "  <tbody>\n",
       "    <tr>\n",
       "      <th>00:00:00</th>\n",
       "      <td>3</td>\n",
       "      <td>13</td>\n",
       "      <td>16</td>\n",
       "      <td>00:00:00</td>\n",
       "    </tr>\n",
       "    <tr>\n",
       "      <th>01:00:00</th>\n",
       "      <td>8</td>\n",
       "      <td>32</td>\n",
       "      <td>40</td>\n",
       "      <td>01:00:00</td>\n",
       "    </tr>\n",
       "    <tr>\n",
       "      <th>02:00:00</th>\n",
       "      <td>5</td>\n",
       "      <td>27</td>\n",
       "      <td>32</td>\n",
       "      <td>02:00:00</td>\n",
       "    </tr>\n",
       "    <tr>\n",
       "      <th>03:00:00</th>\n",
       "      <td>3</td>\n",
       "      <td>10</td>\n",
       "      <td>13</td>\n",
       "      <td>03:00:00</td>\n",
       "    </tr>\n",
       "    <tr>\n",
       "      <th>04:00:00</th>\n",
       "      <td>0</td>\n",
       "      <td>1</td>\n",
       "      <td>1</td>\n",
       "      <td>04:00:00</td>\n",
       "    </tr>\n",
       "  </tbody>\n",
       "</table>\n",
       "</div>"
      ],
      "text/plain": [
       "          casual  registered  count      time\n",
       "time                                         \n",
       "00:00:00       3          13     16  00:00:00\n",
       "01:00:00       8          32     40  01:00:00\n",
       "02:00:00       5          27     32  02:00:00\n",
       "03:00:00       3          10     13  03:00:00\n",
       "04:00:00       0           1      1  04:00:00"
      ]
     },
     "execution_count": 21,
     "metadata": {},
     "output_type": "execute_result"
    }
   ],
   "source": [
    "df_by_time.head()"
   ]
  },
  {
   "cell_type": "code",
   "execution_count": 22,
   "id": "496acca4",
   "metadata": {},
   "outputs": [
    {
     "data": {
      "image/png": "[encoded data removed]",
      "text/plain": [
       "<Figure size 432x288 with 1 Axes>"
      ]
     },
     "metadata": {
      "needs_background": "light"
     },
     "output_type": "display_data"
    }
   ],
   "source": [
    "sns.lineplot(data=df_by_time)\n",
    "plt.xticks(rotation=45);"
   ]
  },
  {
   "cell_type": "code",
   "execution_count": 23,
   "id": "ce9876a9",
   "metadata": {},
   "outputs": [],
   "source": [
    "df_weekdays = df_simple"
   ]
  },
  {
   "cell_type": "code",
   "execution_count": 24,
   "id": "27e6cbd3",
   "metadata": {},
   "outputs": [
    {
     "data": {
      "text/html": [
       "<div>\n",
       "<style scoped>\n",
       "    .dataframe tbody tr th:only-of-type {\n",
       "        vertical-align: middle;\n",
       "    }\n",
       "\n",
       "    .dataframe tbody tr th {\n",
       "        vertical-align: top;\n",
       "    }\n",
       "\n",
       "    .dataframe thead th {\n",
       "        text-align: right;\n",
       "    }\n",
       "</style>\n",
       "<table border=\"1\" class=\"dataframe\">\n",
       "  <thead>\n",
       "    <tr style=\"text-align: right;\">\n",
       "      <th></th>\n",
       "      <th>datetime</th>\n",
       "      <th>casual</th>\n",
       "      <th>registered</th>\n",
       "      <th>count</th>\n",
       "      <th>time</th>\n",
       "    </tr>\n",
       "  </thead>\n",
       "  <tbody>\n",
       "    <tr>\n",
       "      <th>0</th>\n",
       "      <td>2011-01-01 00:00:00</td>\n",
       "      <td>3</td>\n",
       "      <td>13</td>\n",
       "      <td>16</td>\n",
       "      <td>00:00:00</td>\n",
       "    </tr>\n",
       "    <tr>\n",
       "      <th>1</th>\n",
       "      <td>2011-01-01 01:00:00</td>\n",
       "      <td>8</td>\n",
       "      <td>32</td>\n",
       "      <td>40</td>\n",
       "      <td>01:00:00</td>\n",
       "    </tr>\n",
       "    <tr>\n",
       "      <th>2</th>\n",
       "      <td>2011-01-01 02:00:00</td>\n",
       "      <td>5</td>\n",
       "      <td>27</td>\n",
       "      <td>32</td>\n",
       "      <td>02:00:00</td>\n",
       "    </tr>\n",
       "    <tr>\n",
       "      <th>3</th>\n",
       "      <td>2011-01-01 03:00:00</td>\n",
       "      <td>3</td>\n",
       "      <td>10</td>\n",
       "      <td>13</td>\n",
       "      <td>03:00:00</td>\n",
       "    </tr>\n",
       "    <tr>\n",
       "      <th>4</th>\n",
       "      <td>2011-01-01 04:00:00</td>\n",
       "      <td>0</td>\n",
       "      <td>1</td>\n",
       "      <td>1</td>\n",
       "      <td>04:00:00</td>\n",
       "    </tr>\n",
       "    <tr>\n",
       "      <th>...</th>\n",
       "      <td>...</td>\n",
       "      <td>...</td>\n",
       "      <td>...</td>\n",
       "      <td>...</td>\n",
       "      <td>...</td>\n",
       "    </tr>\n",
       "    <tr>\n",
       "      <th>10881</th>\n",
       "      <td>2012-12-19 19:00:00</td>\n",
       "      <td>7</td>\n",
       "      <td>329</td>\n",
       "      <td>336</td>\n",
       "      <td>19:00:00</td>\n",
       "    </tr>\n",
       "    <tr>\n",
       "      <th>10882</th>\n",
       "      <td>2012-12-19 20:00:00</td>\n",
       "      <td>10</td>\n",
       "      <td>231</td>\n",
       "      <td>241</td>\n",
       "      <td>20:00:00</td>\n",
       "    </tr>\n",
       "    <tr>\n",
       "      <th>10883</th>\n",
       "      <td>2012-12-19 21:00:00</td>\n",
       "      <td>4</td>\n",
       "      <td>164</td>\n",
       "      <td>168</td>\n",
       "      <td>21:00:00</td>\n",
       "    </tr>\n",
       "    <tr>\n",
       "      <th>10884</th>\n",
       "      <td>2012-12-19 22:00:00</td>\n",
       "      <td>12</td>\n",
       "      <td>117</td>\n",
       "      <td>129</td>\n",
       "      <td>22:00:00</td>\n",
       "    </tr>\n",
       "    <tr>\n",
       "      <th>10885</th>\n",
       "      <td>2012-12-19 23:00:00</td>\n",
       "      <td>4</td>\n",
       "      <td>84</td>\n",
       "      <td>88</td>\n",
       "      <td>23:00:00</td>\n",
       "    </tr>\n",
       "  </tbody>\n",
       "</table>\n",
       "<p>10886 rows × 5 columns</p>\n",
       "</div>"
      ],
      "text/plain": [
       "                 datetime  casual  registered  count      time\n",
       "0     2011-01-01 00:00:00       3          13     16  00:00:00\n",
       "1     2011-01-01 01:00:00       8          32     40  01:00:00\n",
       "2     2011-01-01 02:00:00       5          27     32  02:00:00\n",
       "3     2011-01-01 03:00:00       3          10     13  03:00:00\n",
       "4     2011-01-01 04:00:00       0           1      1  04:00:00\n",
       "...                   ...     ...         ...    ...       ...\n",
       "10881 2012-12-19 19:00:00       7         329    336  19:00:00\n",
       "10882 2012-12-19 20:00:00      10         231    241  20:00:00\n",
       "10883 2012-12-19 21:00:00       4         164    168  21:00:00\n",
       "10884 2012-12-19 22:00:00      12         117    129  22:00:00\n",
       "10885 2012-12-19 23:00:00       4          84     88  23:00:00\n",
       "\n",
       "[10886 rows x 5 columns]"
      ]
     },
     "execution_count": 24,
     "metadata": {},
     "output_type": "execute_result"
    }
   ],
   "source": [
    "df_simple"
   ]
  },
  {
   "cell_type": "code",
   "execution_count": 25,
   "id": "59c2033a",
   "metadata": {},
   "outputs": [],
   "source": [
    "df_weekdays['day_name'] = df_weekdays['datetime'].dt.day_name()"
   ]
  },
  {
   "cell_type": "code",
   "execution_count": 26,
   "id": "cd039da8",
   "metadata": {},
   "outputs": [],
   "source": [
    "df_weekdays.set_index(df_weekdays['day_name'], inplace=True)"
   ]
  },
  {
   "cell_type": "code",
   "execution_count": 27,
   "id": "da97dfde",
   "metadata": {},
   "outputs": [],
   "source": [
    "df_weekdays = df_weekdays.drop(columns=['time', 'datetime', 'day_name'])"
   ]
  },
  {
   "cell_type": "code",
   "execution_count": 28,
   "id": "56342239",
   "metadata": {},
   "outputs": [
    {
     "data": {
      "text/html": [
       "<div>\n",
       "<style scoped>\n",
       "    .dataframe tbody tr th:only-of-type {\n",
       "        vertical-align: middle;\n",
       "    }\n",
       "\n",
       "    .dataframe tbody tr th {\n",
       "        vertical-align: top;\n",
       "    }\n",
       "\n",
       "    .dataframe thead th {\n",
       "        text-align: right;\n",
       "    }\n",
       "</style>\n",
       "<table border=\"1\" class=\"dataframe\">\n",
       "  <thead>\n",
       "    <tr style=\"text-align: right;\">\n",
       "      <th></th>\n",
       "      <th>casual</th>\n",
       "      <th>registered</th>\n",
       "      <th>count</th>\n",
       "    </tr>\n",
       "    <tr>\n",
       "      <th>day_name</th>\n",
       "      <th></th>\n",
       "      <th></th>\n",
       "      <th></th>\n",
       "    </tr>\n",
       "  </thead>\n",
       "  <tbody>\n",
       "    <tr>\n",
       "      <th>Saturday</th>\n",
       "      <td>3</td>\n",
       "      <td>13</td>\n",
       "      <td>16</td>\n",
       "    </tr>\n",
       "    <tr>\n",
       "      <th>Saturday</th>\n",
       "      <td>8</td>\n",
       "      <td>32</td>\n",
       "      <td>40</td>\n",
       "    </tr>\n",
       "    <tr>\n",
       "      <th>Saturday</th>\n",
       "      <td>5</td>\n",
       "      <td>27</td>\n",
       "      <td>32</td>\n",
       "    </tr>\n",
       "    <tr>\n",
       "      <th>Saturday</th>\n",
       "      <td>3</td>\n",
       "      <td>10</td>\n",
       "      <td>13</td>\n",
       "    </tr>\n",
       "    <tr>\n",
       "      <th>Saturday</th>\n",
       "      <td>0</td>\n",
       "      <td>1</td>\n",
       "      <td>1</td>\n",
       "    </tr>\n",
       "  </tbody>\n",
       "</table>\n",
       "</div>"
      ],
      "text/plain": [
       "          casual  registered  count\n",
       "day_name                           \n",
       "Saturday       3          13     16\n",
       "Saturday       8          32     40\n",
       "Saturday       5          27     32\n",
       "Saturday       3          10     13\n",
       "Saturday       0           1      1"
      ]
     },
     "execution_count": 28,
     "metadata": {},
     "output_type": "execute_result"
    }
   ],
   "source": [
    "df_weekdays.head()"
   ]
  },
  {
   "cell_type": "code",
   "execution_count": 29,
   "id": "4b86a1b8",
   "metadata": {},
   "outputs": [
    {
     "data": {
      "image/png": "[encoded data removed]",
      "text/plain": [
       "<Figure size 432x288 with 1 Axes>"
      ]
     },
     "metadata": {
      "needs_background": "light"
     },
     "output_type": "display_data"
    }
   ],
   "source": [
    "sns.lineplot(data=df_weekdays)\n",
    "plt.xlabel('day_name')\n",
    "plt.ylabel('nb of bikes')\n",
    "plt.title('Number of bikes rented by week day');"
   ]
  },
  {
   "cell_type": "code",
   "execution_count": null,
   "id": "fb88ea3a",
   "metadata": {},
   "outputs": [],
   "source": []
  },
  {
   "cell_type": "markdown",
   "id": "afa80c59",
   "metadata": {},
   "source": [
    "### Linear regression"
   ]
  },
  {
   "cell_type": "code",
   "execution_count": 30,
   "id": "92ac2d66",
   "metadata": {},
   "outputs": [],
   "source": [
    "df = pd.read_csv('train.csv')\n",
    "#df['datetime'] = pd.to_datetime(df['datetime'])\n",
    "#df.set_index(df['datetime'], inplace=True)"
   ]
  },
  {
   "cell_type": "code",
   "execution_count": 31,
   "id": "40d99eab",
   "metadata": {},
   "outputs": [],
   "source": [
    "df1 = df"
   ]
  },
  {
   "cell_type": "code",
   "execution_count": 32,
   "id": "f6ee9e91",
   "metadata": {},
   "outputs": [],
   "source": [
    "df_test = pd.read_csv('test.csv')\n",
    "df_test = df_test.set_index('datetime')\n",
    "datetime_data = df_test.index\n",
    "df_test.reset_index(inplace=True)\n",
    "#df_test.head()"
   ]
  },
  {
   "cell_type": "code",
   "execution_count": 33,
   "id": "083b7fbb",
   "metadata": {},
   "outputs": [
    {
     "data": {
      "text/plain": [
       "((8164, 9), (2722, 9), (8164,), (2722,))"
      ]
     },
     "execution_count": 33,
     "metadata": {},
     "output_type": "execute_result"
    }
   ],
   "source": [
    "X = df.drop(columns=['count','registered','casual'])\n",
    "y = df['count']\n",
    "\n",
    "X_train, X_test, y_train, y_test = train_test_split(X,y,random_state=12)\n",
    "\n",
    "X_train.shape, X_test.shape, y_train.shape, y_test.shape"
   ]
  },
  {
   "cell_type": "code",
   "execution_count": 34,
   "id": "5a153edb",
   "metadata": {},
   "outputs": [],
   "source": [
    "#sns.pairplot(data=df)"
   ]
  },
  {
   "cell_type": "code",
   "execution_count": 35,
   "id": "21cf3082",
   "metadata": {},
   "outputs": [],
   "source": [
    "def clean_dataframe(dataframe):\n",
    "    dataframe['datetime'] = pd.to_datetime(dataframe['datetime'])\n",
    "    dataframe['date'] = dataframe['datetime'].dt.date\n",
    "    dataframe['time'] = dataframe['datetime'].dt.hour\n",
    "    dataframe['year'] = dataframe['datetime'].dt.year\n",
    "    dataframe['month'] = dataframe['datetime'].dt.month\n",
    "    dataframe.set_index(dataframe['datetime'])\n",
    "    dataframe = dataframe.drop(columns = ['season','atemp','datetime','date','holiday', 'workingday'], inplace=True)\n",
    "    \n",
    "    return dataframe"
   ]
  },
  {
   "cell_type": "code",
   "execution_count": 36,
   "id": "7f1ef60a",
   "metadata": {},
   "outputs": [
    {
     "data": {
      "text/plain": [
       "(10886, 12)"
      ]
     },
     "execution_count": 36,
     "metadata": {},
     "output_type": "execute_result"
    }
   ],
   "source": [
    "df.shape"
   ]
  },
  {
   "cell_type": "code",
   "execution_count": 37,
   "id": "f0efc7be",
   "metadata": {},
   "outputs": [],
   "source": [
    "clean_dataframe(X_train)\n",
    "clean_dataframe(X_test)\n",
    "clean_dataframe(df_test)"
   ]
  },
  {
   "cell_type": "code",
   "execution_count": 38,
   "id": "a80477ff",
   "metadata": {},
   "outputs": [],
   "source": [
    "clean_dataframe(df1)"
   ]
  },
  {
   "cell_type": "code",
   "execution_count": 39,
   "id": "653c6608",
   "metadata": {},
   "outputs": [
    {
     "data": {
      "text/html": [
       "<div>\n",
       "<style scoped>\n",
       "    .dataframe tbody tr th:only-of-type {\n",
       "        vertical-align: middle;\n",
       "    }\n",
       "\n",
       "    .dataframe tbody tr th {\n",
       "        vertical-align: top;\n",
       "    }\n",
       "\n",
       "    .dataframe thead th {\n",
       "        text-align: right;\n",
       "    }\n",
       "</style>\n",
       "<table border=\"1\" class=\"dataframe\">\n",
       "  <thead>\n",
       "    <tr style=\"text-align: right;\">\n",
       "      <th></th>\n",
       "      <th>weather</th>\n",
       "      <th>temp</th>\n",
       "      <th>humidity</th>\n",
       "      <th>windspeed</th>\n",
       "      <th>casual</th>\n",
       "      <th>registered</th>\n",
       "      <th>count</th>\n",
       "      <th>time</th>\n",
       "      <th>year</th>\n",
       "      <th>month</th>\n",
       "    </tr>\n",
       "  </thead>\n",
       "  <tbody>\n",
       "    <tr>\n",
       "      <th>0</th>\n",
       "      <td>1</td>\n",
       "      <td>9.84</td>\n",
       "      <td>81</td>\n",
       "      <td>0.0000</td>\n",
       "      <td>3</td>\n",
       "      <td>13</td>\n",
       "      <td>16</td>\n",
       "      <td>0</td>\n",
       "      <td>2011</td>\n",
       "      <td>1</td>\n",
       "    </tr>\n",
       "    <tr>\n",
       "      <th>1</th>\n",
       "      <td>1</td>\n",
       "      <td>9.02</td>\n",
       "      <td>80</td>\n",
       "      <td>0.0000</td>\n",
       "      <td>8</td>\n",
       "      <td>32</td>\n",
       "      <td>40</td>\n",
       "      <td>1</td>\n",
       "      <td>2011</td>\n",
       "      <td>1</td>\n",
       "    </tr>\n",
       "    <tr>\n",
       "      <th>2</th>\n",
       "      <td>1</td>\n",
       "      <td>9.02</td>\n",
       "      <td>80</td>\n",
       "      <td>0.0000</td>\n",
       "      <td>5</td>\n",
       "      <td>27</td>\n",
       "      <td>32</td>\n",
       "      <td>2</td>\n",
       "      <td>2011</td>\n",
       "      <td>1</td>\n",
       "    </tr>\n",
       "    <tr>\n",
       "      <th>3</th>\n",
       "      <td>1</td>\n",
       "      <td>9.84</td>\n",
       "      <td>75</td>\n",
       "      <td>0.0000</td>\n",
       "      <td>3</td>\n",
       "      <td>10</td>\n",
       "      <td>13</td>\n",
       "      <td>3</td>\n",
       "      <td>2011</td>\n",
       "      <td>1</td>\n",
       "    </tr>\n",
       "    <tr>\n",
       "      <th>4</th>\n",
       "      <td>1</td>\n",
       "      <td>9.84</td>\n",
       "      <td>75</td>\n",
       "      <td>0.0000</td>\n",
       "      <td>0</td>\n",
       "      <td>1</td>\n",
       "      <td>1</td>\n",
       "      <td>4</td>\n",
       "      <td>2011</td>\n",
       "      <td>1</td>\n",
       "    </tr>\n",
       "    <tr>\n",
       "      <th>...</th>\n",
       "      <td>...</td>\n",
       "      <td>...</td>\n",
       "      <td>...</td>\n",
       "      <td>...</td>\n",
       "      <td>...</td>\n",
       "      <td>...</td>\n",
       "      <td>...</td>\n",
       "      <td>...</td>\n",
       "      <td>...</td>\n",
       "      <td>...</td>\n",
       "    </tr>\n",
       "    <tr>\n",
       "      <th>10881</th>\n",
       "      <td>1</td>\n",
       "      <td>15.58</td>\n",
       "      <td>50</td>\n",
       "      <td>26.0027</td>\n",
       "      <td>7</td>\n",
       "      <td>329</td>\n",
       "      <td>336</td>\n",
       "      <td>19</td>\n",
       "      <td>2012</td>\n",
       "      <td>12</td>\n",
       "    </tr>\n",
       "    <tr>\n",
       "      <th>10882</th>\n",
       "      <td>1</td>\n",
       "      <td>14.76</td>\n",
       "      <td>57</td>\n",
       "      <td>15.0013</td>\n",
       "      <td>10</td>\n",
       "      <td>231</td>\n",
       "      <td>241</td>\n",
       "      <td>20</td>\n",
       "      <td>2012</td>\n",
       "      <td>12</td>\n",
       "    </tr>\n",
       "    <tr>\n",
       "      <th>10883</th>\n",
       "      <td>1</td>\n",
       "      <td>13.94</td>\n",
       "      <td>61</td>\n",
       "      <td>15.0013</td>\n",
       "      <td>4</td>\n",
       "      <td>164</td>\n",
       "      <td>168</td>\n",
       "      <td>21</td>\n",
       "      <td>2012</td>\n",
       "      <td>12</td>\n",
       "    </tr>\n",
       "    <tr>\n",
       "      <th>10884</th>\n",
       "      <td>1</td>\n",
       "      <td>13.94</td>\n",
       "      <td>61</td>\n",
       "      <td>6.0032</td>\n",
       "      <td>12</td>\n",
       "      <td>117</td>\n",
       "      <td>129</td>\n",
       "      <td>22</td>\n",
       "      <td>2012</td>\n",
       "      <td>12</td>\n",
       "    </tr>\n",
       "    <tr>\n",
       "      <th>10885</th>\n",
       "      <td>1</td>\n",
       "      <td>13.12</td>\n",
       "      <td>66</td>\n",
       "      <td>8.9981</td>\n",
       "      <td>4</td>\n",
       "      <td>84</td>\n",
       "      <td>88</td>\n",
       "      <td>23</td>\n",
       "      <td>2012</td>\n",
       "      <td>12</td>\n",
       "    </tr>\n",
       "  </tbody>\n",
       "</table>\n",
       "<p>10886 rows × 10 columns</p>\n",
       "</div>"
      ],
      "text/plain": [
       "       weather   temp  humidity  windspeed  casual  registered  count  time  \\\n",
       "0            1   9.84        81     0.0000       3          13     16     0   \n",
       "1            1   9.02        80     0.0000       8          32     40     1   \n",
       "2            1   9.02        80     0.0000       5          27     32     2   \n",
       "3            1   9.84        75     0.0000       3          10     13     3   \n",
       "4            1   9.84        75     0.0000       0           1      1     4   \n",
       "...        ...    ...       ...        ...     ...         ...    ...   ...   \n",
       "10881        1  15.58        50    26.0027       7         329    336    19   \n",
       "10882        1  14.76        57    15.0013      10         231    241    20   \n",
       "10883        1  13.94        61    15.0013       4         164    168    21   \n",
       "10884        1  13.94        61     6.0032      12         117    129    22   \n",
       "10885        1  13.12        66     8.9981       4          84     88    23   \n",
       "\n",
       "       year  month  \n",
       "0      2011      1  \n",
       "1      2011      1  \n",
       "2      2011      1  \n",
       "3      2011      1  \n",
       "4      2011      1  \n",
       "...     ...    ...  \n",
       "10881  2012     12  \n",
       "10882  2012     12  \n",
       "10883  2012     12  \n",
       "10884  2012     12  \n",
       "10885  2012     12  \n",
       "\n",
       "[10886 rows x 10 columns]"
      ]
     },
     "execution_count": 39,
     "metadata": {},
     "output_type": "execute_result"
    }
   ],
   "source": [
    "df1"
   ]
  },
  {
   "cell_type": "code",
   "execution_count": 40,
   "id": "9dbbf580",
   "metadata": {},
   "outputs": [
    {
     "data": {
      "image/png": "[encoded data removed]",
      "text/plain": [
       "<Figure size 432x288 with 2 Axes>"
      ]
     },
     "metadata": {
      "needs_background": "light"
     },
     "output_type": "display_data"
    }
   ],
   "source": [
    "df1_corr = df1.drop(columns=[\"casual\",\"registered\"])\n",
    "corrMatrix = df1_corr.corr()\n",
    "sns.heatmap(corrMatrix, annot=True, fmt='.0g')\n",
    "plt.show()"
   ]
  },
  {
   "cell_type": "code",
   "execution_count": 41,
   "id": "75af69d8",
   "metadata": {},
   "outputs": [],
   "source": [
    "#sns.pairplot(data=X_train)"
   ]
  },
  {
   "cell_type": "code",
   "execution_count": 42,
   "id": "99069964",
   "metadata": {},
   "outputs": [
    {
     "data": {
      "text/html": [
       "<div>\n",
       "<style scoped>\n",
       "    .dataframe tbody tr th:only-of-type {\n",
       "        vertical-align: middle;\n",
       "    }\n",
       "\n",
       "    .dataframe tbody tr th {\n",
       "        vertical-align: top;\n",
       "    }\n",
       "\n",
       "    .dataframe thead th {\n",
       "        text-align: right;\n",
       "    }\n",
       "</style>\n",
       "<table border=\"1\" class=\"dataframe\">\n",
       "  <thead>\n",
       "    <tr style=\"text-align: right;\">\n",
       "      <th></th>\n",
       "      <th>weather</th>\n",
       "      <th>temp</th>\n",
       "      <th>humidity</th>\n",
       "      <th>windspeed</th>\n",
       "      <th>time</th>\n",
       "      <th>year</th>\n",
       "      <th>month</th>\n",
       "    </tr>\n",
       "  </thead>\n",
       "  <tbody>\n",
       "    <tr>\n",
       "      <th>0</th>\n",
       "      <td>1</td>\n",
       "      <td>10.66</td>\n",
       "      <td>56</td>\n",
       "      <td>26.0027</td>\n",
       "      <td>0</td>\n",
       "      <td>2011</td>\n",
       "      <td>1</td>\n",
       "    </tr>\n",
       "    <tr>\n",
       "      <th>1</th>\n",
       "      <td>1</td>\n",
       "      <td>10.66</td>\n",
       "      <td>56</td>\n",
       "      <td>0.0000</td>\n",
       "      <td>1</td>\n",
       "      <td>2011</td>\n",
       "      <td>1</td>\n",
       "    </tr>\n",
       "    <tr>\n",
       "      <th>2</th>\n",
       "      <td>1</td>\n",
       "      <td>10.66</td>\n",
       "      <td>56</td>\n",
       "      <td>0.0000</td>\n",
       "      <td>2</td>\n",
       "      <td>2011</td>\n",
       "      <td>1</td>\n",
       "    </tr>\n",
       "    <tr>\n",
       "      <th>3</th>\n",
       "      <td>1</td>\n",
       "      <td>10.66</td>\n",
       "      <td>56</td>\n",
       "      <td>11.0014</td>\n",
       "      <td>3</td>\n",
       "      <td>2011</td>\n",
       "      <td>1</td>\n",
       "    </tr>\n",
       "    <tr>\n",
       "      <th>4</th>\n",
       "      <td>1</td>\n",
       "      <td>10.66</td>\n",
       "      <td>56</td>\n",
       "      <td>11.0014</td>\n",
       "      <td>4</td>\n",
       "      <td>2011</td>\n",
       "      <td>1</td>\n",
       "    </tr>\n",
       "  </tbody>\n",
       "</table>\n",
       "</div>"
      ],
      "text/plain": [
       "   weather   temp  humidity  windspeed  time  year  month\n",
       "0        1  10.66        56    26.0027     0  2011      1\n",
       "1        1  10.66        56     0.0000     1  2011      1\n",
       "2        1  10.66        56     0.0000     2  2011      1\n",
       "3        1  10.66        56    11.0014     3  2011      1\n",
       "4        1  10.66        56    11.0014     4  2011      1"
      ]
     },
     "execution_count": 42,
     "metadata": {},
     "output_type": "execute_result"
    }
   ],
   "source": [
    "df_test.head(5)"
   ]
  },
  {
   "cell_type": "code",
   "execution_count": 43,
   "id": "45cf9480",
   "metadata": {},
   "outputs": [
    {
     "data": {
      "text/plain": [
       "array([10.66,  9.84,  9.02, 11.48, 12.3 , 13.12,  8.2 ,  6.56,  5.74,\n",
       "        4.92,  4.1 ,  3.28,  2.46,  1.64,  0.82,  7.38, 13.94, 14.76,\n",
       "       17.22, 15.58, 16.4 , 21.32, 22.14, 22.96, 18.86, 18.04, 19.68,\n",
       "       20.5 , 23.78, 25.42, 27.06, 28.7 , 30.34, 31.16, 27.88, 24.6 ,\n",
       "       26.24, 29.52, 31.98, 33.62, 32.8 , 35.26, 36.08, 36.9 , 34.44,\n",
       "       37.72, 38.54, 39.36, 40.18])"
      ]
     },
     "execution_count": 43,
     "metadata": {},
     "output_type": "execute_result"
    }
   ],
   "source": [
    "df_test['temp'].unique()"
   ]
  },
  {
   "cell_type": "code",
   "execution_count": 44,
   "id": "46a9f70b",
   "metadata": {},
   "outputs": [
    {
     "data": {
      "text/plain": [
       "weather        int64\n",
       "temp         float64\n",
       "humidity       int64\n",
       "windspeed    float64\n",
       "time           int64\n",
       "year           int64\n",
       "month          int64\n",
       "dtype: object"
      ]
     },
     "execution_count": 44,
     "metadata": {},
     "output_type": "execute_result"
    }
   ],
   "source": [
    "df_test.dtypes"
   ]
  },
  {
   "cell_type": "code",
   "execution_count": 45,
   "id": "f90da7df",
   "metadata": {},
   "outputs": [],
   "source": [
    "pipeline_hour = Pipeline([\n",
    "    (\"binning\", KBinsDiscretizer(n_bins=24, encode='onehot-dense', strategy='uniform')),\n",
    "])"
   ]
  },
  {
   "cell_type": "code",
   "execution_count": 46,
   "id": "be8ecc54",
   "metadata": {},
   "outputs": [],
   "source": [
    "pipeline_encode = Pipeline([\n",
    "    (\"encoder\", OneHotEncoder(handle_unknown='ignore', sparse=False, drop='if_binary')),\n",
    "])"
   ]
  },
  {
   "cell_type": "code",
   "execution_count": 47,
   "id": "b76e3a33",
   "metadata": {},
   "outputs": [],
   "source": [
    "pipeline_weather = Pipeline([\n",
    "    (\"binning\", KBinsDiscretizer(n_bins=6, encode='onehot-dense', strategy='kmeans')),\n",
    "])"
   ]
  },
  {
   "cell_type": "code",
   "execution_count": 48,
   "id": "3ecbaecc",
   "metadata": {},
   "outputs": [],
   "source": [
    "transformer = ColumnTransformer(\n",
    "    [\n",
    "        (\"hour\", pipeline_hour, ['time']),\n",
    "        (\"encode\", pipeline_encode, ['weather','year', 'month']),\n",
    "        (\"weather\", pipeline_weather, ['windspeed', 'humidity', 'temp']),\n",
    "    ], remainder='passthrough'\n",
    ")"
   ]
  },
  {
   "cell_type": "code",
   "execution_count": 49,
   "id": "fb14795a",
   "metadata": {},
   "outputs": [],
   "source": [
    "m = LinearRegression()"
   ]
  },
  {
   "cell_type": "code",
   "execution_count": 50,
   "id": "4d8be00f",
   "metadata": {},
   "outputs": [],
   "source": [
    "X_train_FE = transformer.fit_transform(X_train)\n",
    "\n",
    "X_test_FE = transformer.transform(X_test)\n",
    "X_actual_test_FE = transformer.transform(df_test)"
   ]
  },
  {
   "cell_type": "code",
   "execution_count": 51,
   "id": "098a54e8",
   "metadata": {},
   "outputs": [
    {
     "data": {
      "text/plain": [
       "((8164, 7), (2722, 7), (8164,), (2722,))"
      ]
     },
     "execution_count": 51,
     "metadata": {},
     "output_type": "execute_result"
    }
   ],
   "source": [
    "X_train.shape, X_test.shape, y_train.shape, y_test.shape"
   ]
  },
  {
   "cell_type": "code",
   "execution_count": 52,
   "id": "e644d33c",
   "metadata": {},
   "outputs": [
    {
     "data": {
      "text/plain": [
       "LinearRegression()"
      ]
     },
     "execution_count": 52,
     "metadata": {},
     "output_type": "execute_result"
    }
   ],
   "source": [
    "m.fit(X_train_FE,y_train)"
   ]
  },
  {
   "cell_type": "code",
   "execution_count": 53,
   "id": "56db3b24",
   "metadata": {},
   "outputs": [],
   "source": [
    "ypred = m.predict(X_test_FE)"
   ]
  },
  {
   "cell_type": "code",
   "execution_count": 54,
   "id": "63c7abfb",
   "metadata": {},
   "outputs": [
    {
     "data": {
      "text/plain": [
       "array([436., 285., 313., ..., 286., 183., 128.])"
      ]
     },
     "execution_count": 54,
     "metadata": {},
     "output_type": "execute_result"
    }
   ],
   "source": [
    "ypred"
   ]
  },
  {
   "cell_type": "code",
   "execution_count": 55,
   "id": "d26225b6",
   "metadata": {},
   "outputs": [
    {
     "data": {
      "text/plain": [
       "0.6965727016607137"
      ]
     },
     "execution_count": 55,
     "metadata": {},
     "output_type": "execute_result"
    }
   ],
   "source": [
    "m.score(pd.DataFrame(X_train_FE), y_train)"
   ]
  },
  {
   "cell_type": "code",
   "execution_count": 56,
   "id": "ce73e49d",
   "metadata": {},
   "outputs": [
    {
     "data": {
      "text/plain": [
       "0.6896936250593014"
      ]
     },
     "execution_count": 56,
     "metadata": {},
     "output_type": "execute_result"
    }
   ],
   "source": [
    "m.score(pd.DataFrame(X_test_FE), y_test)"
   ]
  },
  {
   "cell_type": "markdown",
   "id": "c2cf79c4",
   "metadata": {},
   "source": [
    "### Calculating Root Mean Squared Logarithmic Error"
   ]
  },
  {
   "cell_type": "code",
   "execution_count": 57,
   "id": "3eedbf37",
   "metadata": {},
   "outputs": [
    {
     "data": {
      "text/plain": [
       "1.134582795576018"
      ]
     },
     "execution_count": 57,
     "metadata": {},
     "output_type": "execute_result"
    }
   ],
   "source": [
    "from sklearn.metrics import mean_squared_error\n",
    "def rmsle(y_true, y_pred):\n",
    "    ret= mean_squared_error(np.log(y_true+1),np.log(np.clip(y_pred,0,None)+1))\n",
    "    return np.sqrt(ret)\n",
    "\n",
    "rmsle(y_test, ypred)"
   ]
  },
  {
   "cell_type": "code",
   "execution_count": 58,
   "id": "3b883a35",
   "metadata": {},
   "outputs": [],
   "source": [
    "ypred_actual_test = m.predict(X_actual_test_FE)"
   ]
  },
  {
   "cell_type": "code",
   "execution_count": 59,
   "id": "5fceb500",
   "metadata": {},
   "outputs": [
    {
     "data": {
      "text/plain": [
       "array([ -92., -108., -116., ...,  214.,  183.,  144.])"
      ]
     },
     "execution_count": 59,
     "metadata": {},
     "output_type": "execute_result"
    }
   ],
   "source": [
    "ypred_actual_test\n",
    "#datetime = df_test.index "
   ]
  },
  {
   "cell_type": "code",
   "execution_count": 60,
   "id": "d97e6fd1",
   "metadata": {},
   "outputs": [],
   "source": [
    "ypred_actual_test = ypred_actual_test.clip(0)"
   ]
  },
  {
   "cell_type": "code",
   "execution_count": 61,
   "id": "e7303b50",
   "metadata": {},
   "outputs": [
    {
     "data": {
      "text/plain": [
       "array([  0.,   0.,   0., ..., 214., 183., 144.])"
      ]
     },
     "execution_count": 61,
     "metadata": {},
     "output_type": "execute_result"
    }
   ],
   "source": [
    "ypred_actual_test"
   ]
  },
  {
   "cell_type": "code",
   "execution_count": 62,
   "id": "f0172d3e",
   "metadata": {},
   "outputs": [],
   "source": [
    "kaggle_df = pd.DataFrame(data=ypred_actual_test, index=datetime_data, columns=['count'])\n",
    "kaggle_df\n",
    "kaggle_df.to_csv('kaggle_submission')"
   ]
  },
  {
   "cell_type": "code",
   "execution_count": null,
   "id": "302fdfb8",
   "metadata": {},
   "outputs": [],
   "source": []
  }
 ],
 "metadata": {
  "kernelspec": {
   "display_name": "Python 3 (ipykernel)",
   "language": "python",
   "name": "python3"
  },
  "language_info": {
   "codemirror_mode": {
    "name": "ipython",
    "version": 3
   },
   "file_extension": ".py",
   "mimetype": "text/x-python",
   "name": "python",
   "nbconvert_exporter": "python",
   "pygments_lexer": "ipython3",
   "version": "3.9.12"
  }
 },
 "nbformat": 4,
 "nbformat_minor": 5
}
